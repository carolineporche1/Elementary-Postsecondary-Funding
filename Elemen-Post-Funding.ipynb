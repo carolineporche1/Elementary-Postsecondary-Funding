{
 "cells": [
  {
   "cell_type": "markdown",
   "id": "acf1b6d2",
   "metadata": {},
   "source": [
    "# Federal Funding: Elementary vs Postsecondary Education (2000-2022)\n",
    "\n",
    "This notebook analyzes and compares federal funding trends between elementary and postsecondary education in the United States, focusing on allocation patterns, key policy changes, and the impact of emergency relief programs like the CARES Act. Through data visualizations and program-specific breakdowns, the project offers insights into how educational funding priorities have evolved over the last two decades.\n"
   ]
  },
  {
   "cell_type": "code",
   "execution_count": 1,
   "id": "c4949897",
   "metadata": {},
   "outputs": [],
   "source": [
    "# Data handling and visualization\n",
    "import pandas as pd\n",
    "import numpy as np\n",
    "from matplotlib import pyplot as plt\n",
    "import seaborn as sns\n",
    "import plotly.express as px \n",
    "import plotly.graph_objects as go  \n",
    "from plotly.subplots import make_subplots\n",
    "\n",
    "# Machine learning models and tools\n",
    "from sklearn.linear_model import LogisticRegression, LinearRegression\n",
    "from sklearn import metrics\n",
    "from sklearn.naive_bayes import GaussianNB\n",
    "from sklearn.discriminant_analysis import LinearDiscriminantAnalysis, QuadraticDiscriminantAnalysis\n",
    "from sklearn.metrics import confusion_matrix, classification_report, precision_score\n",
    "from sklearn.tree import DecisionTreeClassifier\n",
    "from sklearn.model_selection import train_test_split\n",
    "from sklearn.preprocessing import LabelEncoder, StandardScaler\n",
    "\n",
    "# Statistical modeling and analysis\n",
    "import statsmodels.api as sm\n",
    "from statsmodels.formula.api import ols, logit\n",
    "from statsmodels.stats.anova import anova_lm\n",
    "from statsmodels.stats.outliers_influence import variance_inflation_factor\n",
    "from statsmodels.tsa.seasonal import seasonal_decompose\n"
   ]
  },
  {
   "cell_type": "markdown",
   "id": "75c3098d",
   "metadata": {},
   "source": [
    "## Importing and Exploring Elementary Education Funding Data\n"
   ]
  },
  {
   "cell_type": "code",
   "execution_count": 2,
   "id": "3bd9b491",
   "metadata": {},
   "outputs": [
    {
     "data": {
      "text/html": [
       "<div>\n",
       "<style scoped>\n",
       "    .dataframe tbody tr th:only-of-type {\n",
       "        vertical-align: middle;\n",
       "    }\n",
       "\n",
       "    .dataframe tbody tr th {\n",
       "        vertical-align: top;\n",
       "    }\n",
       "\n",
       "    .dataframe thead th {\n",
       "        text-align: right;\n",
       "    }\n",
       "</style>\n",
       "<table border=\"1\" class=\"dataframe\">\n",
       "  <thead>\n",
       "    <tr style=\"text-align: right;\">\n",
       "      <th></th>\n",
       "      <th>Year</th>\n",
       "      <th>2000</th>\n",
       "      <th>2010</th>\n",
       "      <th>2014</th>\n",
       "      <th>2015</th>\n",
       "      <th>2016</th>\n",
       "      <th>2017</th>\n",
       "      <th>2018</th>\n",
       "      <th>2019</th>\n",
       "      <th>2020</th>\n",
       "      <th>2021</th>\n",
       "      <th>2022</th>\n",
       "    </tr>\n",
       "  </thead>\n",
       "  <tbody>\n",
       "    <tr>\n",
       "      <th>0</th>\n",
       "      <td>Department of Education</td>\n",
       "      <td>20,039,563</td>\n",
       "      <td>39,646,475</td>\n",
       "      <td>37,488,221</td>\n",
       "      <td>37,394,190</td>\n",
       "      <td>38,648,865</td>\n",
       "      <td>38,607,172</td>\n",
       "      <td>40,301,588</td>\n",
       "      <td>40,775,232</td>\n",
       "      <td>55,245,737</td>\n",
       "      <td>224,363,687</td>\n",
       "      <td>44,675,668</td>\n",
       "    </tr>\n",
       "    <tr>\n",
       "      <th>1</th>\n",
       "      <td>Education for the disadvantaged</td>\n",
       "      <td>8,529,111</td>\n",
       "      <td>15,864,666</td>\n",
       "      <td>15,552,693</td>\n",
       "      <td>15,536,107</td>\n",
       "      <td>15,963,018</td>\n",
       "      <td>16,143,790</td>\n",
       "      <td>16,443,790</td>\n",
       "      <td>16,543,790</td>\n",
       "      <td>16,996,790</td>\n",
       "      <td>17,226,790</td>\n",
       "      <td>18,229,790</td>\n",
       "    </tr>\n",
       "    <tr>\n",
       "      <th>2</th>\n",
       "      <td>Impact aid program</td>\n",
       "      <td>877,101</td>\n",
       "      <td>1,276,183</td>\n",
       "      <td>1,288,603</td>\n",
       "      <td>1,288,603</td>\n",
       "      <td>1,305,603</td>\n",
       "      <td>1,328,603</td>\n",
       "      <td>1,414,112</td>\n",
       "      <td>1,446,112</td>\n",
       "      <td>1,486,112</td>\n",
       "      <td>1,501,112</td>\n",
       "      <td>1,557,112</td>\n",
       "    </tr>\n",
       "    <tr>\n",
       "      <th>3</th>\n",
       "      <td>School improvement programs</td>\n",
       "      <td>2,549,971</td>\n",
       "      <td>6,999,862</td>\n",
       "      <td>5,599,600</td>\n",
       "      <td>5,478,097</td>\n",
       "      <td>5,851,330</td>\n",
       "      <td>5,447,396</td>\n",
       "      <td>6,326,477</td>\n",
       "      <td>6,473,277</td>\n",
       "      <td>6,718,782</td>\n",
       "      <td>6,775,467</td>\n",
       "      <td>7,257,565</td>\n",
       "    </tr>\n",
       "    <tr>\n",
       "      <th>4</th>\n",
       "      <td>Indian education</td>\n",
       "      <td>65,285</td>\n",
       "      <td>127,282</td>\n",
       "      <td>123,939</td>\n",
       "      <td>123,939</td>\n",
       "      <td>143,939</td>\n",
       "      <td>164,939</td>\n",
       "      <td>180,239</td>\n",
       "      <td>180,239</td>\n",
       "      <td>180,739</td>\n",
       "      <td>181,239</td>\n",
       "      <td>189,246</td>\n",
       "    </tr>\n",
       "  </tbody>\n",
       "</table>\n",
       "</div>"
      ],
      "text/plain": [
       "                                   Year        2000        2010        2014  \\\n",
       "0               Department of Education  20,039,563  39,646,475  37,488,221   \n",
       "1      Education for the disadvantaged    8,529,111  15,864,666  15,552,693   \n",
       "2                    Impact aid program     877,101   1,276,183   1,288,603   \n",
       "3           School improvement programs   2,549,971   6,999,862   5,599,600   \n",
       "4                     Indian education       65,285     127,282     123,939   \n",
       "\n",
       "         2015        2016        2017        2018        2019        2020  \\\n",
       "0  37,394,190  38,648,865  38,607,172  40,301,588  40,775,232  55,245,737   \n",
       "1  15,536,107  15,963,018  16,143,790  16,443,790  16,543,790  16,996,790   \n",
       "2   1,288,603   1,305,603   1,328,603   1,414,112   1,446,112   1,486,112   \n",
       "3   5,478,097   5,851,330   5,447,396   6,326,477   6,473,277   6,718,782   \n",
       "4     123,939     143,939     164,939     180,239     180,239     180,739   \n",
       "\n",
       "          2021        2022  \n",
       "0  224,363,687  44,675,668  \n",
       "1   17,226,790  18,229,790  \n",
       "2    1,501,112   1,557,112  \n",
       "3    6,775,467   7,257,565  \n",
       "4      181,239     189,246  "
      ]
     },
     "execution_count": 2,
     "metadata": {},
     "output_type": "execute_result"
    }
   ],
   "source": [
    "elemenfund = pd.read_csv('ElemenFund .csv')\n",
    "elemenfund = pd.read_csv('ElemenFund .csv', na_values = ['†', '---'])\n",
    "\n",
    "elemenfund.head()"
   ]
  },
  {
   "cell_type": "markdown",
   "id": "96ac77b7",
   "metadata": {},
   "source": [
    "### Reshaping and Cleaning Elementary Education Funding Data\n"
   ]
  },
  {
   "cell_type": "code",
   "execution_count": 3,
   "id": "a4b61f72",
   "metadata": {},
   "outputs": [
    {
     "data": {
      "text/html": [
       "<div>\n",
       "<style scoped>\n",
       "    .dataframe tbody tr th:only-of-type {\n",
       "        vertical-align: middle;\n",
       "    }\n",
       "\n",
       "    .dataframe tbody tr th {\n",
       "        vertical-align: top;\n",
       "    }\n",
       "\n",
       "    .dataframe thead th {\n",
       "        text-align: right;\n",
       "    }\n",
       "</style>\n",
       "<table border=\"1\" class=\"dataframe\">\n",
       "  <thead>\n",
       "    <tr style=\"text-align: right;\">\n",
       "      <th></th>\n",
       "      <th>Elementary Level Program</th>\n",
       "      <th>Year</th>\n",
       "      <th>Funding</th>\n",
       "    </tr>\n",
       "  </thead>\n",
       "  <tbody>\n",
       "    <tr>\n",
       "      <th>0</th>\n",
       "      <td>Department of Education</td>\n",
       "      <td>2000</td>\n",
       "      <td>20039563.0</td>\n",
       "    </tr>\n",
       "    <tr>\n",
       "      <th>1</th>\n",
       "      <td>Education for the disadvantaged</td>\n",
       "      <td>2000</td>\n",
       "      <td>8529111.0</td>\n",
       "    </tr>\n",
       "    <tr>\n",
       "      <th>2</th>\n",
       "      <td>Impact aid program</td>\n",
       "      <td>2000</td>\n",
       "      <td>877101.0</td>\n",
       "    </tr>\n",
       "    <tr>\n",
       "      <th>3</th>\n",
       "      <td>School improvement programs</td>\n",
       "      <td>2000</td>\n",
       "      <td>2549971.0</td>\n",
       "    </tr>\n",
       "    <tr>\n",
       "      <th>4</th>\n",
       "      <td>Indian education</td>\n",
       "      <td>2000</td>\n",
       "      <td>65285.0</td>\n",
       "    </tr>\n",
       "    <tr>\n",
       "      <th>5</th>\n",
       "      <td>English Language Acquisition</td>\n",
       "      <td>2000</td>\n",
       "      <td>362662.0</td>\n",
       "    </tr>\n",
       "    <tr>\n",
       "      <th>6</th>\n",
       "      <td>Special education</td>\n",
       "      <td>2000</td>\n",
       "      <td>4948977.0</td>\n",
       "    </tr>\n",
       "    <tr>\n",
       "      <th>7</th>\n",
       "      <td>Vocational and adult education</td>\n",
       "      <td>2000</td>\n",
       "      <td>1462977.0</td>\n",
       "    </tr>\n",
       "    <tr>\n",
       "      <th>8</th>\n",
       "      <td>Education Reform--Goals 2000</td>\n",
       "      <td>2000</td>\n",
       "      <td>1243479.0</td>\n",
       "    </tr>\n",
       "    <tr>\n",
       "      <th>9</th>\n",
       "      <td>Hurricane Education Recovery</td>\n",
       "      <td>2000</td>\n",
       "      <td>NaN</td>\n",
       "    </tr>\n",
       "  </tbody>\n",
       "</table>\n",
       "</div>"
      ],
      "text/plain": [
       "               Elementary Level Program  Year     Funding\n",
       "0               Department of Education  2000  20039563.0\n",
       "1      Education for the disadvantaged   2000   8529111.0\n",
       "2                    Impact aid program  2000    877101.0\n",
       "3           School improvement programs  2000   2549971.0\n",
       "4                     Indian education   2000     65285.0\n",
       "5          English Language Acquisition  2000    362662.0\n",
       "6                    Special education   2000   4948977.0\n",
       "7        Vocational and adult education  2000   1462977.0\n",
       "8          Education Reform--Goals 2000  2000   1243479.0\n",
       "9          Hurricane Education Recovery  2000         NaN"
      ]
     },
     "execution_count": 3,
     "metadata": {},
     "output_type": "execute_result"
    }
   ],
   "source": [
    "elemenfund = pd.melt(elemenfund, id_vars = 'Year', value_vars = ['2000', '2010', '2014', '2015', '2016', '2017', '2018', '2019', '2020', '2021', '2022'])\n",
    "elemenfund = elemenfund.rename(columns = {'Year': 'Elementary Level Program',\n",
    "                          'variable': 'Year',\n",
    "                          'value': 'Funding'})\n",
    "elemenfund['Funding'] = elemenfund['Funding'].str.replace(',', '')\n",
    "elemenfund['Funding'] = elemenfund['Funding'].str.replace('$', '')\n",
    "#fedfund['Funding'] = fedfund['Funding'].str.replace('---', np.nan)\n",
    "elemenfund['Funding'] = elemenfund['Funding'].str.replace('-', '')\n",
    "elemenfund['Funding'] = elemenfund['Funding'].astype(float)\n",
    "\n",
    "\n",
    "elemenfund.head(10)\n",
    "\n"
   ]
  },
  {
   "cell_type": "code",
   "execution_count": 4,
   "id": "04c98859",
   "metadata": {},
   "outputs": [
    {
     "name": "stdout",
     "output_type": "stream",
     "text": [
      "               Elementary Level Program  Year     Funding    logfund\n",
      "0               Department of Education  2000  20039563.0  16.813219\n",
      "1      Education for the disadvantaged   2000   8529111.0  15.958996\n",
      "2                    Impact aid program  2000    877101.0  13.684377\n",
      "3           School improvement programs  2000   2549971.0  14.751593\n",
      "4                     Indian education   2000     65285.0  11.086518\n"
     ]
    }
   ],
   "source": [
    "if 'Funding' in elemenfund.columns:\n",
    "    if pd.api.types.is_numeric_dtype(elemenfund['Funding']):\n",
    "        \n",
    "        elemenfund['Funding'] = elemenfund['Funding'].replace(0, np.nan)\n",
    "    \n",
    "        elemenfund['logfund'] = np.log(elemenfund['Funding'])\n",
    "    else:\n",
    "        raise ValueError(\"The 'Funding' column is not numeric. Please ensure it's properly cleaned and converted.\")\n",
    "else:\n",
    "    raise ValueError(\"The 'Funding' column does not exist in the DataFrame.\")\n",
    "\n",
    "\n",
    "print(elemenfund.head())"
   ]
  },
  {
   "cell_type": "markdown",
   "id": "8963ead9",
   "metadata": {},
   "source": [
    "### Final Elementary Education Funding Dataset Preview\n"
   ]
  },
  {
   "cell_type": "code",
   "execution_count": 5,
   "id": "836eb744",
   "metadata": {},
   "outputs": [
    {
     "data": {
      "text/html": [
       "<div>\n",
       "<style scoped>\n",
       "    .dataframe tbody tr th:only-of-type {\n",
       "        vertical-align: middle;\n",
       "    }\n",
       "\n",
       "    .dataframe tbody tr th {\n",
       "        vertical-align: top;\n",
       "    }\n",
       "\n",
       "    .dataframe thead th {\n",
       "        text-align: right;\n",
       "    }\n",
       "</style>\n",
       "<table border=\"1\" class=\"dataframe\">\n",
       "  <thead>\n",
       "    <tr style=\"text-align: right;\">\n",
       "      <th></th>\n",
       "      <th>Elementary Level Program</th>\n",
       "      <th>Year</th>\n",
       "      <th>Funding</th>\n",
       "      <th>logfund</th>\n",
       "    </tr>\n",
       "  </thead>\n",
       "  <tbody>\n",
       "    <tr>\n",
       "      <th>0</th>\n",
       "      <td>Department of Education</td>\n",
       "      <td>2000</td>\n",
       "      <td>20039563.0</td>\n",
       "      <td>16.813219</td>\n",
       "    </tr>\n",
       "    <tr>\n",
       "      <th>1</th>\n",
       "      <td>Education for the disadvantaged</td>\n",
       "      <td>2000</td>\n",
       "      <td>8529111.0</td>\n",
       "      <td>15.958996</td>\n",
       "    </tr>\n",
       "    <tr>\n",
       "      <th>2</th>\n",
       "      <td>Impact aid program</td>\n",
       "      <td>2000</td>\n",
       "      <td>877101.0</td>\n",
       "      <td>13.684377</td>\n",
       "    </tr>\n",
       "    <tr>\n",
       "      <th>3</th>\n",
       "      <td>School improvement programs</td>\n",
       "      <td>2000</td>\n",
       "      <td>2549971.0</td>\n",
       "      <td>14.751593</td>\n",
       "    </tr>\n",
       "    <tr>\n",
       "      <th>4</th>\n",
       "      <td>Indian education</td>\n",
       "      <td>2000</td>\n",
       "      <td>65285.0</td>\n",
       "      <td>11.086518</td>\n",
       "    </tr>\n",
       "    <tr>\n",
       "      <th>5</th>\n",
       "      <td>English Language Acquisition</td>\n",
       "      <td>2000</td>\n",
       "      <td>362662.0</td>\n",
       "      <td>12.801227</td>\n",
       "    </tr>\n",
       "    <tr>\n",
       "      <th>6</th>\n",
       "      <td>Special education</td>\n",
       "      <td>2000</td>\n",
       "      <td>4948977.0</td>\n",
       "      <td>15.414691</td>\n",
       "    </tr>\n",
       "    <tr>\n",
       "      <th>7</th>\n",
       "      <td>Vocational and adult education</td>\n",
       "      <td>2000</td>\n",
       "      <td>1462977.0</td>\n",
       "      <td>14.195984</td>\n",
       "    </tr>\n",
       "    <tr>\n",
       "      <th>8</th>\n",
       "      <td>Education Reform--Goals 2000</td>\n",
       "      <td>2000</td>\n",
       "      <td>1243479.0</td>\n",
       "      <td>14.033424</td>\n",
       "    </tr>\n",
       "    <tr>\n",
       "      <th>9</th>\n",
       "      <td>Hurricane Education Recovery</td>\n",
       "      <td>2000</td>\n",
       "      <td>NaN</td>\n",
       "      <td>NaN</td>\n",
       "    </tr>\n",
       "  </tbody>\n",
       "</table>\n",
       "</div>"
      ],
      "text/plain": [
       "               Elementary Level Program  Year     Funding    logfund\n",
       "0               Department of Education  2000  20039563.0  16.813219\n",
       "1      Education for the disadvantaged   2000   8529111.0  15.958996\n",
       "2                    Impact aid program  2000    877101.0  13.684377\n",
       "3           School improvement programs  2000   2549971.0  14.751593\n",
       "4                     Indian education   2000     65285.0  11.086518\n",
       "5          English Language Acquisition  2000    362662.0  12.801227\n",
       "6                    Special education   2000   4948977.0  15.414691\n",
       "7        Vocational and adult education  2000   1462977.0  14.195984\n",
       "8          Education Reform--Goals 2000  2000   1243479.0  14.033424\n",
       "9          Hurricane Education Recovery  2000         NaN        NaN"
      ]
     },
     "execution_count": 5,
     "metadata": {},
     "output_type": "execute_result"
    }
   ],
   "source": [
    "#Final Elemenfund data set\n",
    "elemenfund.head(10)"
   ]
  },
  {
   "cell_type": "markdown",
   "id": "9ab668b8",
   "metadata": {},
   "source": [
    "## Importing and Exploring Postsecondary Education Funding Data\n"
   ]
  },
  {
   "cell_type": "code",
   "execution_count": 6,
   "id": "ea0aa07e",
   "metadata": {
    "scrolled": false
   },
   "outputs": [
    {
     "data": {
      "text/html": [
       "<div>\n",
       "<style scoped>\n",
       "    .dataframe tbody tr th:only-of-type {\n",
       "        vertical-align: middle;\n",
       "    }\n",
       "\n",
       "    .dataframe tbody tr th {\n",
       "        vertical-align: top;\n",
       "    }\n",
       "\n",
       "    .dataframe thead th {\n",
       "        text-align: right;\n",
       "    }\n",
       "</style>\n",
       "<table border=\"1\" class=\"dataframe\">\n",
       "  <thead>\n",
       "    <tr style=\"text-align: right;\">\n",
       "      <th></th>\n",
       "      <th>Year</th>\n",
       "      <th>2000</th>\n",
       "      <th>2010</th>\n",
       "      <th>2014</th>\n",
       "      <th>2015</th>\n",
       "      <th>2016</th>\n",
       "      <th>2017</th>\n",
       "      <th>2018</th>\n",
       "      <th>2019</th>\n",
       "      <th>2020</th>\n",
       "      <th>2021</th>\n",
       "      <th>2022</th>\n",
       "    </tr>\n",
       "  </thead>\n",
       "  <tbody>\n",
       "    <tr>\n",
       "      <th>0</th>\n",
       "      <td>Department of Education</td>\n",
       "      <td>10,727,315</td>\n",
       "      <td>35,518,187</td>\n",
       "      <td>51,896,533</td>\n",
       "      <td>56,994,579</td>\n",
       "      <td>44,128,936</td>\n",
       "      <td>82,309,464</td>\n",
       "      <td>51,025,715</td>\n",
       "      <td>74,809,625</td>\n",
       "      <td>179,320,427</td>\n",
       "      <td>202,738,836</td>\n",
       "      <td>542,808,446</td>\n",
       "    </tr>\n",
       "    <tr>\n",
       "      <th>1</th>\n",
       "      <td>Student financial assistance</td>\n",
       "      <td>9,060,317</td>\n",
       "      <td>24,596,640</td>\n",
       "      <td>30,589,493</td>\n",
       "      <td>29,351,512</td>\n",
       "      <td>30,130,183</td>\n",
       "      <td>31,199,052</td>\n",
       "      <td>31,754,748</td>\n",
       "      <td>31,572,669</td>\n",
       "      <td>31,663,815</td>\n",
       "      <td>31,099,903</td>\n",
       "      <td>29,676,848</td>\n",
       "    </tr>\n",
       "    <tr>\n",
       "      <th>2</th>\n",
       "      <td>Direct Loan Program</td>\n",
       "      <td>-2,862,240</td>\n",
       "      <td>3,481,859</td>\n",
       "      <td>16,254,117</td>\n",
       "      <td>23,660,742</td>\n",
       "      <td>9,878,116</td>\n",
       "      <td>37,028,295</td>\n",
       "      <td>13,619,843</td>\n",
       "      <td>36,528,795</td>\n",
       "      <td>114,143,528</td>\n",
       "      <td>98,173,183</td>\n",
       "      <td>474,121,269</td>\n",
       "    </tr>\n",
       "    <tr>\n",
       "      <th>3</th>\n",
       "      <td>Federal Family Education Loan (FFEL) Program</td>\n",
       "      <td>2,707,473</td>\n",
       "      <td>4,274,364</td>\n",
       "      <td>2,269,320</td>\n",
       "      <td>1,362,692</td>\n",
       "      <td>1,446,784</td>\n",
       "      <td>11,155,845</td>\n",
       "      <td>2,545,960</td>\n",
       "      <td>3,661,416</td>\n",
       "      <td>16,599,386</td>\n",
       "      <td>6,584,881</td>\n",
       "      <td>34,896,379</td>\n",
       "    </tr>\n",
       "    <tr>\n",
       "      <th>4</th>\n",
       "      <td>Higher education</td>\n",
       "      <td>1,530,779</td>\n",
       "      <td>2,740,665</td>\n",
       "      <td>2,322,592</td>\n",
       "      <td>2,161,224</td>\n",
       "      <td>2,219,845</td>\n",
       "      <td>2,292,844</td>\n",
       "      <td>2,484,721</td>\n",
       "      <td>2,551,546</td>\n",
       "      <td>2,715,747</td>\n",
       "      <td>2,782,126</td>\n",
       "      <td>3,234,576</td>\n",
       "    </tr>\n",
       "  </tbody>\n",
       "</table>\n",
       "</div>"
      ],
      "text/plain": [
       "                                           Year        2000        2010  \\\n",
       "0                       Department of Education  10,727,315  35,518,187   \n",
       "1                  Student financial assistance   9,060,317  24,596,640   \n",
       "2                           Direct Loan Program  -2,862,240   3,481,859   \n",
       "3  Federal Family Education Loan (FFEL) Program   2,707,473   4,274,364   \n",
       "4                              Higher education   1,530,779   2,740,665   \n",
       "\n",
       "         2014        2015        2016        2017        2018        2019  \\\n",
       "0  51,896,533  56,994,579  44,128,936  82,309,464  51,025,715  74,809,625   \n",
       "1  30,589,493  29,351,512  30,130,183  31,199,052  31,754,748  31,572,669   \n",
       "2  16,254,117  23,660,742   9,878,116  37,028,295  13,619,843  36,528,795   \n",
       "3   2,269,320   1,362,692   1,446,784  11,155,845   2,545,960   3,661,416   \n",
       "4   2,322,592   2,161,224   2,219,845   2,292,844   2,484,721   2,551,546   \n",
       "\n",
       "          2020         2021         2022  \n",
       "0  179,320,427  202,738,836  542,808,446  \n",
       "1   31,663,815   31,099,903   29,676,848  \n",
       "2  114,143,528   98,173,183  474,121,269  \n",
       "3   16,599,386    6,584,881   34,896,379  \n",
       "4    2,715,747    2,782,126    3,234,576  "
      ]
     },
     "execution_count": 6,
     "metadata": {},
     "output_type": "execute_result"
    }
   ],
   "source": [
    "postfund = pd.read_csv('Postfund.csv')\n",
    "postfund.head()"
   ]
  },
  {
   "cell_type": "code",
   "execution_count": 7,
   "id": "fa3e0a60",
   "metadata": {
    "scrolled": false
   },
   "outputs": [
    {
     "data": {
      "text/html": [
       "<div>\n",
       "<style scoped>\n",
       "    .dataframe tbody tr th:only-of-type {\n",
       "        vertical-align: middle;\n",
       "    }\n",
       "\n",
       "    .dataframe tbody tr th {\n",
       "        vertical-align: top;\n",
       "    }\n",
       "\n",
       "    .dataframe thead th {\n",
       "        text-align: right;\n",
       "    }\n",
       "</style>\n",
       "<table border=\"1\" class=\"dataframe\">\n",
       "  <thead>\n",
       "    <tr style=\"text-align: right;\">\n",
       "      <th></th>\n",
       "      <th>Year</th>\n",
       "      <th>2000</th>\n",
       "      <th>2010</th>\n",
       "      <th>2014</th>\n",
       "      <th>2015</th>\n",
       "      <th>2016</th>\n",
       "      <th>2017</th>\n",
       "      <th>2018</th>\n",
       "      <th>2019</th>\n",
       "      <th>2020</th>\n",
       "      <th>2021</th>\n",
       "      <th>2022</th>\n",
       "    </tr>\n",
       "  </thead>\n",
       "  <tbody>\n",
       "    <tr>\n",
       "      <th>0</th>\n",
       "      <td>Department of Education</td>\n",
       "      <td>10,727,315</td>\n",
       "      <td>35,518,187</td>\n",
       "      <td>51,896,533</td>\n",
       "      <td>56,994,579</td>\n",
       "      <td>44,128,936</td>\n",
       "      <td>82,309,464</td>\n",
       "      <td>51,025,715</td>\n",
       "      <td>74,809,625</td>\n",
       "      <td>179,320,427</td>\n",
       "      <td>202,738,836</td>\n",
       "      <td>542,808,446</td>\n",
       "    </tr>\n",
       "    <tr>\n",
       "      <th>1</th>\n",
       "      <td>Student financial assistance</td>\n",
       "      <td>9,060,317</td>\n",
       "      <td>24,596,640</td>\n",
       "      <td>30,589,493</td>\n",
       "      <td>29,351,512</td>\n",
       "      <td>30,130,183</td>\n",
       "      <td>31,199,052</td>\n",
       "      <td>31,754,748</td>\n",
       "      <td>31,572,669</td>\n",
       "      <td>31,663,815</td>\n",
       "      <td>31,099,903</td>\n",
       "      <td>29,676,848</td>\n",
       "    </tr>\n",
       "    <tr>\n",
       "      <th>2</th>\n",
       "      <td>Direct Loan Program</td>\n",
       "      <td>-2,862,240</td>\n",
       "      <td>3,481,859</td>\n",
       "      <td>16,254,117</td>\n",
       "      <td>23,660,742</td>\n",
       "      <td>9,878,116</td>\n",
       "      <td>37,028,295</td>\n",
       "      <td>13,619,843</td>\n",
       "      <td>36,528,795</td>\n",
       "      <td>114,143,528</td>\n",
       "      <td>98,173,183</td>\n",
       "      <td>474,121,269</td>\n",
       "    </tr>\n",
       "    <tr>\n",
       "      <th>3</th>\n",
       "      <td>Federal Family Education Loan (FFEL) Program</td>\n",
       "      <td>2,707,473</td>\n",
       "      <td>4,274,364</td>\n",
       "      <td>2,269,320</td>\n",
       "      <td>1,362,692</td>\n",
       "      <td>1,446,784</td>\n",
       "      <td>11,155,845</td>\n",
       "      <td>2,545,960</td>\n",
       "      <td>3,661,416</td>\n",
       "      <td>16,599,386</td>\n",
       "      <td>6,584,881</td>\n",
       "      <td>34,896,379</td>\n",
       "    </tr>\n",
       "    <tr>\n",
       "      <th>4</th>\n",
       "      <td>Higher education</td>\n",
       "      <td>1,530,779</td>\n",
       "      <td>2,740,665</td>\n",
       "      <td>2,322,592</td>\n",
       "      <td>2,161,224</td>\n",
       "      <td>2,219,845</td>\n",
       "      <td>2,292,844</td>\n",
       "      <td>2,484,721</td>\n",
       "      <td>2,551,546</td>\n",
       "      <td>2,715,747</td>\n",
       "      <td>2,782,126</td>\n",
       "      <td>3,234,576</td>\n",
       "    </tr>\n",
       "  </tbody>\n",
       "</table>\n",
       "</div>"
      ],
      "text/plain": [
       "                                           Year        2000        2010  \\\n",
       "0                       Department of Education  10,727,315  35,518,187   \n",
       "1                  Student financial assistance   9,060,317  24,596,640   \n",
       "2                           Direct Loan Program  -2,862,240   3,481,859   \n",
       "3  Federal Family Education Loan (FFEL) Program   2,707,473   4,274,364   \n",
       "4                              Higher education   1,530,779   2,740,665   \n",
       "\n",
       "         2014        2015        2016        2017        2018        2019  \\\n",
       "0  51,896,533  56,994,579  44,128,936  82,309,464  51,025,715  74,809,625   \n",
       "1  30,589,493  29,351,512  30,130,183  31,199,052  31,754,748  31,572,669   \n",
       "2  16,254,117  23,660,742   9,878,116  37,028,295  13,619,843  36,528,795   \n",
       "3   2,269,320   1,362,692   1,446,784  11,155,845   2,545,960   3,661,416   \n",
       "4   2,322,592   2,161,224   2,219,845   2,292,844   2,484,721   2,551,546   \n",
       "\n",
       "          2020         2021         2022  \n",
       "0  179,320,427  202,738,836  542,808,446  \n",
       "1   31,663,815   31,099,903   29,676,848  \n",
       "2  114,143,528   98,173,183  474,121,269  \n",
       "3   16,599,386    6,584,881   34,896,379  \n",
       "4    2,715,747    2,782,126    3,234,576  "
      ]
     },
     "execution_count": 7,
     "metadata": {},
     "output_type": "execute_result"
    }
   ],
   "source": [
    "postfund = pd.read_csv('Postfund.csv', na_values = ['†', '---'])\n",
    "postfund.head(5)"
   ]
  },
  {
   "cell_type": "markdown",
   "id": "d02cb85f",
   "metadata": {},
   "source": [
    "### Reshaping and Cleaning Postsecondary Education Funding Data\n"
   ]
  },
  {
   "cell_type": "code",
   "execution_count": 8,
   "id": "00a2eb81",
   "metadata": {},
   "outputs": [
    {
     "data": {
      "text/html": [
       "<div>\n",
       "<style scoped>\n",
       "    .dataframe tbody tr th:only-of-type {\n",
       "        vertical-align: middle;\n",
       "    }\n",
       "\n",
       "    .dataframe tbody tr th {\n",
       "        vertical-align: top;\n",
       "    }\n",
       "\n",
       "    .dataframe thead th {\n",
       "        text-align: right;\n",
       "    }\n",
       "</style>\n",
       "<table border=\"1\" class=\"dataframe\">\n",
       "  <thead>\n",
       "    <tr style=\"text-align: right;\">\n",
       "      <th></th>\n",
       "      <th>Postsecondary Level</th>\n",
       "      <th>Year</th>\n",
       "      <th>Funding</th>\n",
       "    </tr>\n",
       "  </thead>\n",
       "  <tbody>\n",
       "    <tr>\n",
       "      <th>0</th>\n",
       "      <td>Department of Education</td>\n",
       "      <td>2000</td>\n",
       "      <td>10727315.0</td>\n",
       "    </tr>\n",
       "    <tr>\n",
       "      <th>1</th>\n",
       "      <td>Student financial assistance</td>\n",
       "      <td>2000</td>\n",
       "      <td>9060317.0</td>\n",
       "    </tr>\n",
       "    <tr>\n",
       "      <th>2</th>\n",
       "      <td>Direct Loan Program</td>\n",
       "      <td>2000</td>\n",
       "      <td>2862240.0</td>\n",
       "    </tr>\n",
       "    <tr>\n",
       "      <th>3</th>\n",
       "      <td>Federal Family Education Loan (FFEL) Program</td>\n",
       "      <td>2000</td>\n",
       "      <td>2707473.0</td>\n",
       "    </tr>\n",
       "    <tr>\n",
       "      <th>4</th>\n",
       "      <td>Higher education</td>\n",
       "      <td>2000</td>\n",
       "      <td>1530779.0</td>\n",
       "    </tr>\n",
       "  </tbody>\n",
       "</table>\n",
       "</div>"
      ],
      "text/plain": [
       "                            Postsecondary Level  Year     Funding\n",
       "0                       Department of Education  2000  10727315.0\n",
       "1                  Student financial assistance  2000   9060317.0\n",
       "2                           Direct Loan Program  2000   2862240.0\n",
       "3  Federal Family Education Loan (FFEL) Program  2000   2707473.0\n",
       "4                              Higher education  2000   1530779.0"
      ]
     },
     "execution_count": 8,
     "metadata": {},
     "output_type": "execute_result"
    }
   ],
   "source": [
    "postfund = pd.melt(postfund, id_vars = 'Year', value_vars = ['2000', '2010', '2014', '2015', '2016', '2017', '2018', '2019', '2020', '2021', '2022'])\n",
    "postfund = postfund.rename(columns = {'Year': 'Postsecondary Level',\n",
    "                          'variable': 'Year',\n",
    "                          'value': 'Funding'})\n",
    "postfund['Funding'] = postfund['Funding'].str.replace(',', '')\n",
    "postfund['Funding'] = postfund['Funding'].str.replace('$', '')\n",
    "#fedfund['Funding'] = fedfund['Funding'].str.replace('---', np.nan)\n",
    "postfund['Funding'] = postfund['Funding'].str.replace('-', '')\n",
    "postfund['Funding'] = postfund['Funding'].astype(float)\n",
    "\n",
    "\n",
    "postfund.head()\n"
   ]
  },
  {
   "cell_type": "code",
   "execution_count": 40,
   "id": "4a7892cd",
   "metadata": {},
   "outputs": [],
   "source": [
    "# Strip leading and trailing whitespace from the 'Elementary Level Program' column\n",
    "elemenfund['Elementary Level Program'] = elemenfund['Elementary Level Program'].str.strip()\n",
    "\n",
    "top_programs = elemenfund.groupby('Elementary Level Program')['Funding'].sum().nlargest(8).index\n",
    "filtered_data = elemenfund[elemenfund['Elementary Level Program'].isin(top_programs)]"
   ]
  },
  {
   "cell_type": "code",
   "execution_count": 41,
   "id": "b73a2a89",
   "metadata": {},
   "outputs": [
    {
     "name": "stdout",
     "output_type": "stream",
     "text": [
      "                            Postsecondary Level  Year     Funding    logfund  \\\n",
      "0                       Department of Education  2000  10727315.0  16.188304   \n",
      "1                  Student financial assistance  2000   9060317.0  16.019415   \n",
      "2                           Direct Loan Program  2000   2862240.0  14.867115   \n",
      "3  Federal Family Education Loan (FFEL) Program  2000   2707473.0  14.811526   \n",
      "4                              Higher education  2000   1530779.0  14.241287   \n",
      "\n",
      "   Funding_standardized  \n",
      "0              0.166310  \n",
      "1              0.114613  \n",
      "2             -0.077603  \n",
      "3             -0.082402  \n",
      "4             -0.118894  \n"
     ]
    }
   ],
   "source": [
    "if 'Funding' in postfund.columns:\n",
    "    if pd.api.types.is_numeric_dtype(postfund['Funding']):\n",
    "        \n",
    "        postfund['Funding'] = postfund['Funding'].replace(0, np.nan)\n",
    "    \n",
    "        postfund['logfund'] = np.log(postfund['Funding'])\n",
    "    else:\n",
    "        raise ValueError(\"The 'Funding' column is not numeric. Please ensure it's properly cleaned and converted.\")\n",
    "else:\n",
    "    raise ValueError(\"The 'Funding' column does not exist in the DataFrame.\")\n",
    "\n",
    "\n",
    "print(postfund.head())\n"
   ]
  },
  {
   "cell_type": "code",
   "execution_count": 10,
   "id": "d0ccd340",
   "metadata": {
    "scrolled": false
   },
   "outputs": [
    {
     "name": "stdout",
     "output_type": "stream",
     "text": [
      "                              Elementary Level Program  Year     Funding  \\\n",
      "0                              Department of Education  2000  20039563.0   \n",
      "1                     Education for the disadvantaged   2000   8529111.0   \n",
      "2                                   Impact aid program  2000    877101.0   \n",
      "3                          School improvement programs  2000   2549971.0   \n",
      "4                                    Indian education   2000     65285.0   \n",
      "..                                                 ...   ...         ...   \n",
      "195                              Department of Defense  2015   2035763.0   \n",
      "196      Junior Reserve Officers Training Corps (JR...  2015    381306.0   \n",
      "197                        Overseas dependents schools  2015   1118208.0   \n",
      "198                                   Domestic schools  2015    536249.0   \n",
      "199            Department of Health and Human Services  2015   8598095.0   \n",
      "\n",
      "       logfund  \n",
      "0    16.813219  \n",
      "1    15.958996  \n",
      "2    13.684377  \n",
      "3    14.751593  \n",
      "4    11.086518  \n",
      "..         ...  \n",
      "195  14.526381  \n",
      "196  12.851357  \n",
      "197  13.927238  \n",
      "198  13.192354  \n",
      "199  15.967051  \n",
      "\n",
      "[200 rows x 4 columns]\n"
     ]
    }
   ],
   "source": [
    "pd.set_option('display.max_rows', 10)  # Change 200 to however many rows you want to see\n",
    "\n",
    "# Now use head or directly print the DataFrame\n",
    "print(elemenfund.head(200)) "
   ]
  },
  {
   "cell_type": "code",
   "execution_count": 42,
   "id": "60b78b27",
   "metadata": {},
   "outputs": [],
   "source": [
    "elemenfund.dropna(inplace=True)\n",
    "postfund.dropna(inplace=True)"
   ]
  },
  {
   "cell_type": "markdown",
   "id": "ac562d2b",
   "metadata": {},
   "source": [
    "### Final Postsecondary Education Funding Dataset Preview\n"
   ]
  },
  {
   "cell_type": "code",
   "execution_count": 43,
   "id": "ae38e60d",
   "metadata": {
    "scrolled": false
   },
   "outputs": [
    {
     "data": {
      "text/html": [
       "<div>\n",
       "<style scoped>\n",
       "    .dataframe tbody tr th:only-of-type {\n",
       "        vertical-align: middle;\n",
       "    }\n",
       "\n",
       "    .dataframe tbody tr th {\n",
       "        vertical-align: top;\n",
       "    }\n",
       "\n",
       "    .dataframe thead th {\n",
       "        text-align: right;\n",
       "    }\n",
       "</style>\n",
       "<table border=\"1\" class=\"dataframe\">\n",
       "  <thead>\n",
       "    <tr style=\"text-align: right;\">\n",
       "      <th></th>\n",
       "      <th>Postsecondary Level</th>\n",
       "      <th>Year</th>\n",
       "      <th>Funding</th>\n",
       "      <th>logfund</th>\n",
       "      <th>Funding_standardized</th>\n",
       "    </tr>\n",
       "  </thead>\n",
       "  <tbody>\n",
       "    <tr>\n",
       "      <th>0</th>\n",
       "      <td>Department of Education</td>\n",
       "      <td>2000</td>\n",
       "      <td>10727315.0</td>\n",
       "      <td>16.188304</td>\n",
       "      <td>0.166310</td>\n",
       "    </tr>\n",
       "    <tr>\n",
       "      <th>1</th>\n",
       "      <td>Student financial assistance</td>\n",
       "      <td>2000</td>\n",
       "      <td>9060317.0</td>\n",
       "      <td>16.019415</td>\n",
       "      <td>0.114613</td>\n",
       "    </tr>\n",
       "    <tr>\n",
       "      <th>2</th>\n",
       "      <td>Direct Loan Program</td>\n",
       "      <td>2000</td>\n",
       "      <td>2862240.0</td>\n",
       "      <td>14.867115</td>\n",
       "      <td>-0.077603</td>\n",
       "    </tr>\n",
       "    <tr>\n",
       "      <th>3</th>\n",
       "      <td>Federal Family Education Loan (FFEL) Program</td>\n",
       "      <td>2000</td>\n",
       "      <td>2707473.0</td>\n",
       "      <td>14.811526</td>\n",
       "      <td>-0.082402</td>\n",
       "    </tr>\n",
       "    <tr>\n",
       "      <th>4</th>\n",
       "      <td>Higher education</td>\n",
       "      <td>2000</td>\n",
       "      <td>1530779.0</td>\n",
       "      <td>14.241287</td>\n",
       "      <td>-0.118894</td>\n",
       "    </tr>\n",
       "    <tr>\n",
       "      <th>5</th>\n",
       "      <td>Facilities--loans and insurance</td>\n",
       "      <td>2000</td>\n",
       "      <td>2174.0</td>\n",
       "      <td>7.684324</td>\n",
       "      <td>-0.166299</td>\n",
       "    </tr>\n",
       "    <tr>\n",
       "      <th>6</th>\n",
       "      <td>College housing loans</td>\n",
       "      <td>2000</td>\n",
       "      <td>41886.0</td>\n",
       "      <td>10.642707</td>\n",
       "      <td>-0.165068</td>\n",
       "    </tr>\n",
       "    <tr>\n",
       "      <th>8</th>\n",
       "      <td>Historically Black Colleges and Universities\\n...</td>\n",
       "      <td>2000</td>\n",
       "      <td>150.0</td>\n",
       "      <td>5.010635</td>\n",
       "      <td>-0.166362</td>\n",
       "    </tr>\n",
       "    <tr>\n",
       "      <th>9</th>\n",
       "      <td>Gallaudet College and Howard University</td>\n",
       "      <td>2000</td>\n",
       "      <td>291060.0</td>\n",
       "      <td>12.581285</td>\n",
       "      <td>-0.157340</td>\n",
       "    </tr>\n",
       "    <tr>\n",
       "      <th>10</th>\n",
       "      <td>National Technical Institute for the Deaf</td>\n",
       "      <td>2000</td>\n",
       "      <td>43836.0</td>\n",
       "      <td>10.688211</td>\n",
       "      <td>-0.165007</td>\n",
       "    </tr>\n",
       "  </tbody>\n",
       "</table>\n",
       "</div>"
      ],
      "text/plain": [
       "                                  Postsecondary Level  Year     Funding  \\\n",
       "0                             Department of Education  2000  10727315.0   \n",
       "1                        Student financial assistance  2000   9060317.0   \n",
       "2                                 Direct Loan Program  2000   2862240.0   \n",
       "3        Federal Family Education Loan (FFEL) Program  2000   2707473.0   \n",
       "4                                    Higher education  2000   1530779.0   \n",
       "5                    Facilities--loans and insurance   2000      2174.0   \n",
       "6                               College housing loans  2000     41886.0   \n",
       "8   Historically Black Colleges and Universities\\n...  2000       150.0   \n",
       "9            Gallaudet College and Howard University   2000    291060.0   \n",
       "10         National Technical Institute for the Deaf   2000     43836.0   \n",
       "\n",
       "      logfund  Funding_standardized  \n",
       "0   16.188304              0.166310  \n",
       "1   16.019415              0.114613  \n",
       "2   14.867115             -0.077603  \n",
       "3   14.811526             -0.082402  \n",
       "4   14.241287             -0.118894  \n",
       "5    7.684324             -0.166299  \n",
       "6   10.642707             -0.165068  \n",
       "8    5.010635             -0.166362  \n",
       "9   12.581285             -0.157340  \n",
       "10  10.688211             -0.165007  "
      ]
     },
     "execution_count": 43,
     "metadata": {},
     "output_type": "execute_result"
    }
   ],
   "source": [
    "#Final\n",
    "postfund.head(10)"
   ]
  },
  {
   "cell_type": "markdown",
   "id": "9cd96e13",
   "metadata": {},
   "source": [
    "# Standardizing the Elementary Education Funding Data\n",
    "\n",
    "In this step, we apply **standardization** to the `Funding` column using `StandardScaler` from `sklearn`. Standardization transforms the data to have a mean of 0 and a standard deviation of 1, which ensures that the funding values are on the same scale. This is particularly useful for comparing datasets with different units or magnitudes, facilitating more accurate analysis and model performance.\n",
    "\n",
    "Below is the dataset preview with the new `Funding_standardized` column.\n"
   ]
  },
  {
   "cell_type": "code",
   "execution_count": 12,
   "id": "0f15749b",
   "metadata": {},
   "outputs": [
    {
     "name": "stdout",
     "output_type": "stream",
     "text": [
      "               Elementary Level Program  Year     Funding    logfund  \\\n",
      "0               Department of Education  2000  20039563.0  16.813219   \n",
      "1      Education for the disadvantaged   2000   8529111.0  15.958996   \n",
      "2                    Impact aid program  2000    877101.0  13.684377   \n",
      "3           School improvement programs  2000   2549971.0  14.751593   \n",
      "4                     Indian education   2000     65285.0  11.086518   \n",
      "\n",
      "   Funding_standardized  \n",
      "0              1.074498  \n",
      "1              0.266123  \n",
      "2             -0.271276  \n",
      "3             -0.153791  \n",
      "4             -0.328289  \n"
     ]
    }
   ],
   "source": [
    "#Standardize the Data\n",
    "scaler = StandardScaler()\n",
    "elemenfund['Funding_standardized'] = scaler.fit_transform(elemenfund[['Funding']])\n",
    "\n",
    "# Print the DataFrame to verify\n",
    "print(elemenfund.head())"
   ]
  },
  {
   "cell_type": "code",
   "execution_count": 13,
   "id": "841d9285",
   "metadata": {},
   "outputs": [
    {
     "name": "stdout",
     "output_type": "stream",
     "text": [
      "               Elementary Level Program  Year     Funding    logfund  \\\n",
      "0               Department of Education  2000  20039563.0  16.813219   \n",
      "1      Education for the disadvantaged   2000   8529111.0  15.958996   \n",
      "2                    Impact aid program  2000    877101.0  13.684377   \n",
      "3           School improvement programs  2000   2549971.0  14.751593   \n",
      "4                     Indian education   2000     65285.0  11.086518   \n",
      "\n",
      "   Funding_standardized  \n",
      "0              1.074498  \n",
      "1              0.266123  \n",
      "2             -0.271276  \n",
      "3             -0.153791  \n",
      "4             -0.328289  \n"
     ]
    }
   ],
   "source": [
    "#Standardize the Data\n",
    "scaler = StandardScaler()\n",
    "postfund['Funding_standardized'] = scaler.fit_transform(postfund[['Funding']])\n",
    "\n",
    "# Print the DataFrame to verify\n",
    "print(elemenfund.head())"
   ]
  },
  {
   "cell_type": "markdown",
   "id": "2aa11017",
   "metadata": {},
   "source": [
    "## Funding Distribution for Elementary Education Programs"
   ]
  },
  {
   "cell_type": "code",
   "execution_count": 47,
   "id": "d5d726b5",
   "metadata": {},
   "outputs": [
    {
     "data": {
      "application/vnd.plotly.v1+json": {
       "config": {
        "plotlyServerURL": "https://plot.ly"
       },
       "data": [
        {
         "customdata": [
          [
           "Department of Education"
          ],
          [
           "Department of Agriculture"
          ],
          [
           "Child nutrition programs"
          ],
          [
           "Education for the disadvantaged"
          ],
          [
           "Special education"
          ],
          [
           "American Rescue Plan (ARP) Act"
          ],
          [
           "Department of Health and Human Services"
          ],
          [
           "Head Start"
          ],
          [
           "School improvement programs"
          ],
          [
           "Coronavirus Response and Relief Supplemental \n         Appropriations (CRRSA) Act"
          ],
          [
           "Other"
          ]
         ],
         "domain": {
          "x": [
           0,
           1
          ],
          "y": [
           0,
           1
          ]
         },
         "hovertemplate": "Elementary Level Program=%{customdata[0]}<br>Funding=%{value}<extra></extra>",
         "labels": [
          "Department of Education",
          "Department of Agriculture",
          "Child nutrition programs",
          "Education for the disadvantaged",
          "Special education",
          "American Rescue Plan (ARP) Act",
          "Department of Health and Human Services",
          "Head Start",
          "School improvement programs",
          "Coronavirus Response and Relief Supplemental \n         Appropriations (CRRSA) Act",
          "Other"
         ],
         "legendgroup": "",
         "marker": {
          "colors": [
           "rgb(228,26,28)",
           "rgb(55,126,184)",
           "rgb(77,175,74)",
           "rgb(152,78,163)",
           "rgb(255,127,0)",
           "rgb(255,255,51)",
           "rgb(166,86,40)",
           "rgb(247,129,191)",
           "rgb(153,153,153)",
           "rgb(228,26,28)",
           "rgb(55,126,184)"
          ]
         },
         "name": "",
         "showlegend": true,
         "type": "pie",
         "values": [
          617186398,
          249782549,
          234997028,
          173030335,
          137860842,
          124720000,
          99393493,
          99378493,
          65477824,
          57060000,
          311939127
         ]
        }
       ],
       "layout": {
        "legend": {
         "tracegroupgap": 0
        },
        "margin": {
         "b": 50,
         "l": 50,
         "r": 50,
         "t": 80
        },
        "paper_bgcolor": "rgb(255, 255, 255)",
        "piecolorway": [
         "rgb(228,26,28)",
         "rgb(55,126,184)",
         "rgb(77,175,74)",
         "rgb(152,78,163)",
         "rgb(255,127,0)",
         "rgb(255,255,51)",
         "rgb(166,86,40)",
         "rgb(247,129,191)",
         "rgb(153,153,153)"
        ],
        "plot_bgcolor": "rgb(242, 242, 242)",
        "template": {
         "data": {
          "bar": [
           {
            "error_x": {
             "color": "#2a3f5f"
            },
            "error_y": {
             "color": "#2a3f5f"
            },
            "marker": {
             "line": {
              "color": "white",
              "width": 0.5
             },
             "pattern": {
              "fillmode": "overlay",
              "size": 10,
              "solidity": 0.2
             }
            },
            "type": "bar"
           }
          ],
          "barpolar": [
           {
            "marker": {
             "line": {
              "color": "white",
              "width": 0.5
             },
             "pattern": {
              "fillmode": "overlay",
              "size": 10,
              "solidity": 0.2
             }
            },
            "type": "barpolar"
           }
          ],
          "carpet": [
           {
            "aaxis": {
             "endlinecolor": "#2a3f5f",
             "gridcolor": "#C8D4E3",
             "linecolor": "#C8D4E3",
             "minorgridcolor": "#C8D4E3",
             "startlinecolor": "#2a3f5f"
            },
            "baxis": {
             "endlinecolor": "#2a3f5f",
             "gridcolor": "#C8D4E3",
             "linecolor": "#C8D4E3",
             "minorgridcolor": "#C8D4E3",
             "startlinecolor": "#2a3f5f"
            },
            "type": "carpet"
           }
          ],
          "choropleth": [
           {
            "colorbar": {
             "outlinewidth": 0,
             "ticks": ""
            },
            "type": "choropleth"
           }
          ],
          "contour": [
           {
            "colorbar": {
             "outlinewidth": 0,
             "ticks": ""
            },
            "colorscale": [
             [
              0,
              "#0d0887"
             ],
             [
              0.1111111111111111,
              "#46039f"
             ],
             [
              0.2222222222222222,
              "#7201a8"
             ],
             [
              0.3333333333333333,
              "#9c179e"
             ],
             [
              0.4444444444444444,
              "#bd3786"
             ],
             [
              0.5555555555555556,
              "#d8576b"
             ],
             [
              0.6666666666666666,
              "#ed7953"
             ],
             [
              0.7777777777777778,
              "#fb9f3a"
             ],
             [
              0.8888888888888888,
              "#fdca26"
             ],
             [
              1,
              "#f0f921"
             ]
            ],
            "type": "contour"
           }
          ],
          "contourcarpet": [
           {
            "colorbar": {
             "outlinewidth": 0,
             "ticks": ""
            },
            "type": "contourcarpet"
           }
          ],
          "heatmap": [
           {
            "colorbar": {
             "outlinewidth": 0,
             "ticks": ""
            },
            "colorscale": [
             [
              0,
              "#0d0887"
             ],
             [
              0.1111111111111111,
              "#46039f"
             ],
             [
              0.2222222222222222,
              "#7201a8"
             ],
             [
              0.3333333333333333,
              "#9c179e"
             ],
             [
              0.4444444444444444,
              "#bd3786"
             ],
             [
              0.5555555555555556,
              "#d8576b"
             ],
             [
              0.6666666666666666,
              "#ed7953"
             ],
             [
              0.7777777777777778,
              "#fb9f3a"
             ],
             [
              0.8888888888888888,
              "#fdca26"
             ],
             [
              1,
              "#f0f921"
             ]
            ],
            "type": "heatmap"
           }
          ],
          "heatmapgl": [
           {
            "colorbar": {
             "outlinewidth": 0,
             "ticks": ""
            },
            "colorscale": [
             [
              0,
              "#0d0887"
             ],
             [
              0.1111111111111111,
              "#46039f"
             ],
             [
              0.2222222222222222,
              "#7201a8"
             ],
             [
              0.3333333333333333,
              "#9c179e"
             ],
             [
              0.4444444444444444,
              "#bd3786"
             ],
             [
              0.5555555555555556,
              "#d8576b"
             ],
             [
              0.6666666666666666,
              "#ed7953"
             ],
             [
              0.7777777777777778,
              "#fb9f3a"
             ],
             [
              0.8888888888888888,
              "#fdca26"
             ],
             [
              1,
              "#f0f921"
             ]
            ],
            "type": "heatmapgl"
           }
          ],
          "histogram": [
           {
            "marker": {
             "pattern": {
              "fillmode": "overlay",
              "size": 10,
              "solidity": 0.2
             }
            },
            "type": "histogram"
           }
          ],
          "histogram2d": [
           {
            "colorbar": {
             "outlinewidth": 0,
             "ticks": ""
            },
            "colorscale": [
             [
              0,
              "#0d0887"
             ],
             [
              0.1111111111111111,
              "#46039f"
             ],
             [
              0.2222222222222222,
              "#7201a8"
             ],
             [
              0.3333333333333333,
              "#9c179e"
             ],
             [
              0.4444444444444444,
              "#bd3786"
             ],
             [
              0.5555555555555556,
              "#d8576b"
             ],
             [
              0.6666666666666666,
              "#ed7953"
             ],
             [
              0.7777777777777778,
              "#fb9f3a"
             ],
             [
              0.8888888888888888,
              "#fdca26"
             ],
             [
              1,
              "#f0f921"
             ]
            ],
            "type": "histogram2d"
           }
          ],
          "histogram2dcontour": [
           {
            "colorbar": {
             "outlinewidth": 0,
             "ticks": ""
            },
            "colorscale": [
             [
              0,
              "#0d0887"
             ],
             [
              0.1111111111111111,
              "#46039f"
             ],
             [
              0.2222222222222222,
              "#7201a8"
             ],
             [
              0.3333333333333333,
              "#9c179e"
             ],
             [
              0.4444444444444444,
              "#bd3786"
             ],
             [
              0.5555555555555556,
              "#d8576b"
             ],
             [
              0.6666666666666666,
              "#ed7953"
             ],
             [
              0.7777777777777778,
              "#fb9f3a"
             ],
             [
              0.8888888888888888,
              "#fdca26"
             ],
             [
              1,
              "#f0f921"
             ]
            ],
            "type": "histogram2dcontour"
           }
          ],
          "mesh3d": [
           {
            "colorbar": {
             "outlinewidth": 0,
             "ticks": ""
            },
            "type": "mesh3d"
           }
          ],
          "parcoords": [
           {
            "line": {
             "colorbar": {
              "outlinewidth": 0,
              "ticks": ""
             }
            },
            "type": "parcoords"
           }
          ],
          "pie": [
           {
            "automargin": true,
            "type": "pie"
           }
          ],
          "scatter": [
           {
            "fillpattern": {
             "fillmode": "overlay",
             "size": 10,
             "solidity": 0.2
            },
            "type": "scatter"
           }
          ],
          "scatter3d": [
           {
            "line": {
             "colorbar": {
              "outlinewidth": 0,
              "ticks": ""
             }
            },
            "marker": {
             "colorbar": {
              "outlinewidth": 0,
              "ticks": ""
             }
            },
            "type": "scatter3d"
           }
          ],
          "scattercarpet": [
           {
            "marker": {
             "colorbar": {
              "outlinewidth": 0,
              "ticks": ""
             }
            },
            "type": "scattercarpet"
           }
          ],
          "scattergeo": [
           {
            "marker": {
             "colorbar": {
              "outlinewidth": 0,
              "ticks": ""
             }
            },
            "type": "scattergeo"
           }
          ],
          "scattergl": [
           {
            "marker": {
             "colorbar": {
              "outlinewidth": 0,
              "ticks": ""
             }
            },
            "type": "scattergl"
           }
          ],
          "scattermapbox": [
           {
            "marker": {
             "colorbar": {
              "outlinewidth": 0,
              "ticks": ""
             }
            },
            "type": "scattermapbox"
           }
          ],
          "scatterpolar": [
           {
            "marker": {
             "colorbar": {
              "outlinewidth": 0,
              "ticks": ""
             }
            },
            "type": "scatterpolar"
           }
          ],
          "scatterpolargl": [
           {
            "marker": {
             "colorbar": {
              "outlinewidth": 0,
              "ticks": ""
             }
            },
            "type": "scatterpolargl"
           }
          ],
          "scatterternary": [
           {
            "marker": {
             "colorbar": {
              "outlinewidth": 0,
              "ticks": ""
             }
            },
            "type": "scatterternary"
           }
          ],
          "surface": [
           {
            "colorbar": {
             "outlinewidth": 0,
             "ticks": ""
            },
            "colorscale": [
             [
              0,
              "#0d0887"
             ],
             [
              0.1111111111111111,
              "#46039f"
             ],
             [
              0.2222222222222222,
              "#7201a8"
             ],
             [
              0.3333333333333333,
              "#9c179e"
             ],
             [
              0.4444444444444444,
              "#bd3786"
             ],
             [
              0.5555555555555556,
              "#d8576b"
             ],
             [
              0.6666666666666666,
              "#ed7953"
             ],
             [
              0.7777777777777778,
              "#fb9f3a"
             ],
             [
              0.8888888888888888,
              "#fdca26"
             ],
             [
              1,
              "#f0f921"
             ]
            ],
            "type": "surface"
           }
          ],
          "table": [
           {
            "cells": {
             "fill": {
              "color": "#EBF0F8"
             },
             "line": {
              "color": "white"
             }
            },
            "header": {
             "fill": {
              "color": "#C8D4E3"
             },
             "line": {
              "color": "white"
             }
            },
            "type": "table"
           }
          ]
         },
         "layout": {
          "annotationdefaults": {
           "arrowcolor": "#2a3f5f",
           "arrowhead": 0,
           "arrowwidth": 1
          },
          "autotypenumbers": "strict",
          "coloraxis": {
           "colorbar": {
            "outlinewidth": 0,
            "ticks": ""
           }
          },
          "colorscale": {
           "diverging": [
            [
             0,
             "#8e0152"
            ],
            [
             0.1,
             "#c51b7d"
            ],
            [
             0.2,
             "#de77ae"
            ],
            [
             0.3,
             "#f1b6da"
            ],
            [
             0.4,
             "#fde0ef"
            ],
            [
             0.5,
             "#f7f7f7"
            ],
            [
             0.6,
             "#e6f5d0"
            ],
            [
             0.7,
             "#b8e186"
            ],
            [
             0.8,
             "#7fbc41"
            ],
            [
             0.9,
             "#4d9221"
            ],
            [
             1,
             "#276419"
            ]
           ],
           "sequential": [
            [
             0,
             "#0d0887"
            ],
            [
             0.1111111111111111,
             "#46039f"
            ],
            [
             0.2222222222222222,
             "#7201a8"
            ],
            [
             0.3333333333333333,
             "#9c179e"
            ],
            [
             0.4444444444444444,
             "#bd3786"
            ],
            [
             0.5555555555555556,
             "#d8576b"
            ],
            [
             0.6666666666666666,
             "#ed7953"
            ],
            [
             0.7777777777777778,
             "#fb9f3a"
            ],
            [
             0.8888888888888888,
             "#fdca26"
            ],
            [
             1,
             "#f0f921"
            ]
           ],
           "sequentialminus": [
            [
             0,
             "#0d0887"
            ],
            [
             0.1111111111111111,
             "#46039f"
            ],
            [
             0.2222222222222222,
             "#7201a8"
            ],
            [
             0.3333333333333333,
             "#9c179e"
            ],
            [
             0.4444444444444444,
             "#bd3786"
            ],
            [
             0.5555555555555556,
             "#d8576b"
            ],
            [
             0.6666666666666666,
             "#ed7953"
            ],
            [
             0.7777777777777778,
             "#fb9f3a"
            ],
            [
             0.8888888888888888,
             "#fdca26"
            ],
            [
             1,
             "#f0f921"
            ]
           ]
          },
          "colorway": [
           "#636efa",
           "#EF553B",
           "#00cc96",
           "#ab63fa",
           "#FFA15A",
           "#19d3f3",
           "#FF6692",
           "#B6E880",
           "#FF97FF",
           "#FECB52"
          ],
          "font": {
           "color": "#2a3f5f"
          },
          "geo": {
           "bgcolor": "white",
           "lakecolor": "white",
           "landcolor": "white",
           "showlakes": true,
           "showland": true,
           "subunitcolor": "#C8D4E3"
          },
          "hoverlabel": {
           "align": "left"
          },
          "hovermode": "closest",
          "mapbox": {
           "style": "light"
          },
          "paper_bgcolor": "white",
          "plot_bgcolor": "white",
          "polar": {
           "angularaxis": {
            "gridcolor": "#EBF0F8",
            "linecolor": "#EBF0F8",
            "ticks": ""
           },
           "bgcolor": "white",
           "radialaxis": {
            "gridcolor": "#EBF0F8",
            "linecolor": "#EBF0F8",
            "ticks": ""
           }
          },
          "scene": {
           "xaxis": {
            "backgroundcolor": "white",
            "gridcolor": "#DFE8F3",
            "gridwidth": 2,
            "linecolor": "#EBF0F8",
            "showbackground": true,
            "ticks": "",
            "zerolinecolor": "#EBF0F8"
           },
           "yaxis": {
            "backgroundcolor": "white",
            "gridcolor": "#DFE8F3",
            "gridwidth": 2,
            "linecolor": "#EBF0F8",
            "showbackground": true,
            "ticks": "",
            "zerolinecolor": "#EBF0F8"
           },
           "zaxis": {
            "backgroundcolor": "white",
            "gridcolor": "#DFE8F3",
            "gridwidth": 2,
            "linecolor": "#EBF0F8",
            "showbackground": true,
            "ticks": "",
            "zerolinecolor": "#EBF0F8"
           }
          },
          "shapedefaults": {
           "line": {
            "color": "#2a3f5f"
           }
          },
          "ternary": {
           "aaxis": {
            "gridcolor": "#DFE8F3",
            "linecolor": "#A2B1C6",
            "ticks": ""
           },
           "baxis": {
            "gridcolor": "#DFE8F3",
            "linecolor": "#A2B1C6",
            "ticks": ""
           },
           "bgcolor": "white",
           "caxis": {
            "gridcolor": "#DFE8F3",
            "linecolor": "#A2B1C6",
            "ticks": ""
           }
          },
          "title": {
           "x": 0.05
          },
          "xaxis": {
           "automargin": true,
           "gridcolor": "#EBF0F8",
           "linecolor": "#EBF0F8",
           "ticks": "",
           "title": {
            "standoff": 15
           },
           "zerolinecolor": "#EBF0F8",
           "zerolinewidth": 2
          },
          "yaxis": {
           "automargin": true,
           "gridcolor": "#EBF0F8",
           "linecolor": "#EBF0F8",
           "ticks": "",
           "title": {
            "standoff": 15
           },
           "zerolinecolor": "#EBF0F8",
           "zerolinewidth": 2
          }
         }
        },
        "title": {
         "font": {
          "color": "RebeccaPurple",
          "family": "Arial",
          "size": 24
         },
         "text": "Funding Distribution for Top 8 Elementary Level Programs"
        }
       }
      },
      "text/html": [
       "<div>                            <div id=\"efad49d3-178a-4e4a-bd52-1e3407b5a7c9\" class=\"plotly-graph-div\" style=\"height:525px; width:100%;\"></div>            <script type=\"text/javascript\">                require([\"plotly\"], function(Plotly) {                    window.PLOTLYENV=window.PLOTLYENV || {};                                    if (document.getElementById(\"efad49d3-178a-4e4a-bd52-1e3407b5a7c9\")) {                    Plotly.newPlot(                        \"efad49d3-178a-4e4a-bd52-1e3407b5a7c9\",                        [{\"customdata\":[[\"Department of Education\"],[\"Department of Agriculture\"],[\"Child nutrition programs\"],[\"Education for the disadvantaged\"],[\"Special education\"],[\"American Rescue Plan (ARP) Act\"],[\"Department of Health and Human Services\"],[\"Head Start\"],[\"School improvement programs\"],[\"Coronavirus Response and Relief Supplemental \\n         Appropriations (CRRSA) Act\"],[\"Other\"]],\"domain\":{\"x\":[0.0,1.0],\"y\":[0.0,1.0]},\"hovertemplate\":\"Elementary Level Program=%{customdata[0]}\\u003cbr\\u003eFunding=%{value}\\u003cextra\\u003e\\u003c\\u002fextra\\u003e\",\"labels\":[\"Department of Education\",\"Department of Agriculture\",\"Child nutrition programs\",\"Education for the disadvantaged\",\"Special education\",\"American Rescue Plan (ARP) Act\",\"Department of Health and Human Services\",\"Head Start\",\"School improvement programs\",\"Coronavirus Response and Relief Supplemental \\n         Appropriations (CRRSA) Act\",\"Other\"],\"legendgroup\":\"\",\"marker\":{\"colors\":[\"rgb(228,26,28)\",\"rgb(55,126,184)\",\"rgb(77,175,74)\",\"rgb(152,78,163)\",\"rgb(255,127,0)\",\"rgb(255,255,51)\",\"rgb(166,86,40)\",\"rgb(247,129,191)\",\"rgb(153,153,153)\",\"rgb(228,26,28)\",\"rgb(55,126,184)\"]},\"name\":\"\",\"showlegend\":true,\"values\":[617186398.0,249782549.0,234997028.0,173030335.0,137860842.0,124720000.0,99393493.0,99378493.0,65477824.0,57060000.0,311939127.0],\"type\":\"pie\"}],                        {\"template\":{\"data\":{\"barpolar\":[{\"marker\":{\"line\":{\"color\":\"white\",\"width\":0.5},\"pattern\":{\"fillmode\":\"overlay\",\"size\":10,\"solidity\":0.2}},\"type\":\"barpolar\"}],\"bar\":[{\"error_x\":{\"color\":\"#2a3f5f\"},\"error_y\":{\"color\":\"#2a3f5f\"},\"marker\":{\"line\":{\"color\":\"white\",\"width\":0.5},\"pattern\":{\"fillmode\":\"overlay\",\"size\":10,\"solidity\":0.2}},\"type\":\"bar\"}],\"carpet\":[{\"aaxis\":{\"endlinecolor\":\"#2a3f5f\",\"gridcolor\":\"#C8D4E3\",\"linecolor\":\"#C8D4E3\",\"minorgridcolor\":\"#C8D4E3\",\"startlinecolor\":\"#2a3f5f\"},\"baxis\":{\"endlinecolor\":\"#2a3f5f\",\"gridcolor\":\"#C8D4E3\",\"linecolor\":\"#C8D4E3\",\"minorgridcolor\":\"#C8D4E3\",\"startlinecolor\":\"#2a3f5f\"},\"type\":\"carpet\"}],\"choropleth\":[{\"colorbar\":{\"outlinewidth\":0,\"ticks\":\"\"},\"type\":\"choropleth\"}],\"contourcarpet\":[{\"colorbar\":{\"outlinewidth\":0,\"ticks\":\"\"},\"type\":\"contourcarpet\"}],\"contour\":[{\"colorbar\":{\"outlinewidth\":0,\"ticks\":\"\"},\"colorscale\":[[0.0,\"#0d0887\"],[0.1111111111111111,\"#46039f\"],[0.2222222222222222,\"#7201a8\"],[0.3333333333333333,\"#9c179e\"],[0.4444444444444444,\"#bd3786\"],[0.5555555555555556,\"#d8576b\"],[0.6666666666666666,\"#ed7953\"],[0.7777777777777778,\"#fb9f3a\"],[0.8888888888888888,\"#fdca26\"],[1.0,\"#f0f921\"]],\"type\":\"contour\"}],\"heatmapgl\":[{\"colorbar\":{\"outlinewidth\":0,\"ticks\":\"\"},\"colorscale\":[[0.0,\"#0d0887\"],[0.1111111111111111,\"#46039f\"],[0.2222222222222222,\"#7201a8\"],[0.3333333333333333,\"#9c179e\"],[0.4444444444444444,\"#bd3786\"],[0.5555555555555556,\"#d8576b\"],[0.6666666666666666,\"#ed7953\"],[0.7777777777777778,\"#fb9f3a\"],[0.8888888888888888,\"#fdca26\"],[1.0,\"#f0f921\"]],\"type\":\"heatmapgl\"}],\"heatmap\":[{\"colorbar\":{\"outlinewidth\":0,\"ticks\":\"\"},\"colorscale\":[[0.0,\"#0d0887\"],[0.1111111111111111,\"#46039f\"],[0.2222222222222222,\"#7201a8\"],[0.3333333333333333,\"#9c179e\"],[0.4444444444444444,\"#bd3786\"],[0.5555555555555556,\"#d8576b\"],[0.6666666666666666,\"#ed7953\"],[0.7777777777777778,\"#fb9f3a\"],[0.8888888888888888,\"#fdca26\"],[1.0,\"#f0f921\"]],\"type\":\"heatmap\"}],\"histogram2dcontour\":[{\"colorbar\":{\"outlinewidth\":0,\"ticks\":\"\"},\"colorscale\":[[0.0,\"#0d0887\"],[0.1111111111111111,\"#46039f\"],[0.2222222222222222,\"#7201a8\"],[0.3333333333333333,\"#9c179e\"],[0.4444444444444444,\"#bd3786\"],[0.5555555555555556,\"#d8576b\"],[0.6666666666666666,\"#ed7953\"],[0.7777777777777778,\"#fb9f3a\"],[0.8888888888888888,\"#fdca26\"],[1.0,\"#f0f921\"]],\"type\":\"histogram2dcontour\"}],\"histogram2d\":[{\"colorbar\":{\"outlinewidth\":0,\"ticks\":\"\"},\"colorscale\":[[0.0,\"#0d0887\"],[0.1111111111111111,\"#46039f\"],[0.2222222222222222,\"#7201a8\"],[0.3333333333333333,\"#9c179e\"],[0.4444444444444444,\"#bd3786\"],[0.5555555555555556,\"#d8576b\"],[0.6666666666666666,\"#ed7953\"],[0.7777777777777778,\"#fb9f3a\"],[0.8888888888888888,\"#fdca26\"],[1.0,\"#f0f921\"]],\"type\":\"histogram2d\"}],\"histogram\":[{\"marker\":{\"pattern\":{\"fillmode\":\"overlay\",\"size\":10,\"solidity\":0.2}},\"type\":\"histogram\"}],\"mesh3d\":[{\"colorbar\":{\"outlinewidth\":0,\"ticks\":\"\"},\"type\":\"mesh3d\"}],\"parcoords\":[{\"line\":{\"colorbar\":{\"outlinewidth\":0,\"ticks\":\"\"}},\"type\":\"parcoords\"}],\"pie\":[{\"automargin\":true,\"type\":\"pie\"}],\"scatter3d\":[{\"line\":{\"colorbar\":{\"outlinewidth\":0,\"ticks\":\"\"}},\"marker\":{\"colorbar\":{\"outlinewidth\":0,\"ticks\":\"\"}},\"type\":\"scatter3d\"}],\"scattercarpet\":[{\"marker\":{\"colorbar\":{\"outlinewidth\":0,\"ticks\":\"\"}},\"type\":\"scattercarpet\"}],\"scattergeo\":[{\"marker\":{\"colorbar\":{\"outlinewidth\":0,\"ticks\":\"\"}},\"type\":\"scattergeo\"}],\"scattergl\":[{\"marker\":{\"colorbar\":{\"outlinewidth\":0,\"ticks\":\"\"}},\"type\":\"scattergl\"}],\"scattermapbox\":[{\"marker\":{\"colorbar\":{\"outlinewidth\":0,\"ticks\":\"\"}},\"type\":\"scattermapbox\"}],\"scatterpolargl\":[{\"marker\":{\"colorbar\":{\"outlinewidth\":0,\"ticks\":\"\"}},\"type\":\"scatterpolargl\"}],\"scatterpolar\":[{\"marker\":{\"colorbar\":{\"outlinewidth\":0,\"ticks\":\"\"}},\"type\":\"scatterpolar\"}],\"scatter\":[{\"fillpattern\":{\"fillmode\":\"overlay\",\"size\":10,\"solidity\":0.2},\"type\":\"scatter\"}],\"scatterternary\":[{\"marker\":{\"colorbar\":{\"outlinewidth\":0,\"ticks\":\"\"}},\"type\":\"scatterternary\"}],\"surface\":[{\"colorbar\":{\"outlinewidth\":0,\"ticks\":\"\"},\"colorscale\":[[0.0,\"#0d0887\"],[0.1111111111111111,\"#46039f\"],[0.2222222222222222,\"#7201a8\"],[0.3333333333333333,\"#9c179e\"],[0.4444444444444444,\"#bd3786\"],[0.5555555555555556,\"#d8576b\"],[0.6666666666666666,\"#ed7953\"],[0.7777777777777778,\"#fb9f3a\"],[0.8888888888888888,\"#fdca26\"],[1.0,\"#f0f921\"]],\"type\":\"surface\"}],\"table\":[{\"cells\":{\"fill\":{\"color\":\"#EBF0F8\"},\"line\":{\"color\":\"white\"}},\"header\":{\"fill\":{\"color\":\"#C8D4E3\"},\"line\":{\"color\":\"white\"}},\"type\":\"table\"}]},\"layout\":{\"annotationdefaults\":{\"arrowcolor\":\"#2a3f5f\",\"arrowhead\":0,\"arrowwidth\":1},\"autotypenumbers\":\"strict\",\"coloraxis\":{\"colorbar\":{\"outlinewidth\":0,\"ticks\":\"\"}},\"colorscale\":{\"diverging\":[[0,\"#8e0152\"],[0.1,\"#c51b7d\"],[0.2,\"#de77ae\"],[0.3,\"#f1b6da\"],[0.4,\"#fde0ef\"],[0.5,\"#f7f7f7\"],[0.6,\"#e6f5d0\"],[0.7,\"#b8e186\"],[0.8,\"#7fbc41\"],[0.9,\"#4d9221\"],[1,\"#276419\"]],\"sequential\":[[0.0,\"#0d0887\"],[0.1111111111111111,\"#46039f\"],[0.2222222222222222,\"#7201a8\"],[0.3333333333333333,\"#9c179e\"],[0.4444444444444444,\"#bd3786\"],[0.5555555555555556,\"#d8576b\"],[0.6666666666666666,\"#ed7953\"],[0.7777777777777778,\"#fb9f3a\"],[0.8888888888888888,\"#fdca26\"],[1.0,\"#f0f921\"]],\"sequentialminus\":[[0.0,\"#0d0887\"],[0.1111111111111111,\"#46039f\"],[0.2222222222222222,\"#7201a8\"],[0.3333333333333333,\"#9c179e\"],[0.4444444444444444,\"#bd3786\"],[0.5555555555555556,\"#d8576b\"],[0.6666666666666666,\"#ed7953\"],[0.7777777777777778,\"#fb9f3a\"],[0.8888888888888888,\"#fdca26\"],[1.0,\"#f0f921\"]]},\"colorway\":[\"#636efa\",\"#EF553B\",\"#00cc96\",\"#ab63fa\",\"#FFA15A\",\"#19d3f3\",\"#FF6692\",\"#B6E880\",\"#FF97FF\",\"#FECB52\"],\"font\":{\"color\":\"#2a3f5f\"},\"geo\":{\"bgcolor\":\"white\",\"lakecolor\":\"white\",\"landcolor\":\"white\",\"showlakes\":true,\"showland\":true,\"subunitcolor\":\"#C8D4E3\"},\"hoverlabel\":{\"align\":\"left\"},\"hovermode\":\"closest\",\"mapbox\":{\"style\":\"light\"},\"paper_bgcolor\":\"white\",\"plot_bgcolor\":\"white\",\"polar\":{\"angularaxis\":{\"gridcolor\":\"#EBF0F8\",\"linecolor\":\"#EBF0F8\",\"ticks\":\"\"},\"bgcolor\":\"white\",\"radialaxis\":{\"gridcolor\":\"#EBF0F8\",\"linecolor\":\"#EBF0F8\",\"ticks\":\"\"}},\"scene\":{\"xaxis\":{\"backgroundcolor\":\"white\",\"gridcolor\":\"#DFE8F3\",\"gridwidth\":2,\"linecolor\":\"#EBF0F8\",\"showbackground\":true,\"ticks\":\"\",\"zerolinecolor\":\"#EBF0F8\"},\"yaxis\":{\"backgroundcolor\":\"white\",\"gridcolor\":\"#DFE8F3\",\"gridwidth\":2,\"linecolor\":\"#EBF0F8\",\"showbackground\":true,\"ticks\":\"\",\"zerolinecolor\":\"#EBF0F8\"},\"zaxis\":{\"backgroundcolor\":\"white\",\"gridcolor\":\"#DFE8F3\",\"gridwidth\":2,\"linecolor\":\"#EBF0F8\",\"showbackground\":true,\"ticks\":\"\",\"zerolinecolor\":\"#EBF0F8\"}},\"shapedefaults\":{\"line\":{\"color\":\"#2a3f5f\"}},\"ternary\":{\"aaxis\":{\"gridcolor\":\"#DFE8F3\",\"linecolor\":\"#A2B1C6\",\"ticks\":\"\"},\"baxis\":{\"gridcolor\":\"#DFE8F3\",\"linecolor\":\"#A2B1C6\",\"ticks\":\"\"},\"bgcolor\":\"white\",\"caxis\":{\"gridcolor\":\"#DFE8F3\",\"linecolor\":\"#A2B1C6\",\"ticks\":\"\"}},\"title\":{\"x\":0.05},\"xaxis\":{\"automargin\":true,\"gridcolor\":\"#EBF0F8\",\"linecolor\":\"#EBF0F8\",\"ticks\":\"\",\"title\":{\"standoff\":15},\"zerolinecolor\":\"#EBF0F8\",\"zerolinewidth\":2},\"yaxis\":{\"automargin\":true,\"gridcolor\":\"#EBF0F8\",\"linecolor\":\"#EBF0F8\",\"ticks\":\"\",\"title\":{\"standoff\":15},\"zerolinecolor\":\"#EBF0F8\",\"zerolinewidth\":2}}},\"legend\":{\"tracegroupgap\":0},\"title\":{\"text\":\"Funding Distribution for Top 8 Elementary Level Programs\",\"font\":{\"size\":24,\"family\":\"Arial\",\"color\":\"RebeccaPurple\"}},\"piecolorway\":[\"rgb(228,26,28)\",\"rgb(55,126,184)\",\"rgb(77,175,74)\",\"rgb(152,78,163)\",\"rgb(255,127,0)\",\"rgb(255,255,51)\",\"rgb(166,86,40)\",\"rgb(247,129,191)\",\"rgb(153,153,153)\"],\"margin\":{\"l\":50,\"r\":50,\"t\":80,\"b\":50},\"paper_bgcolor\":\"rgb(255, 255, 255)\",\"plot_bgcolor\":\"rgb(242, 242, 242)\"},                        {\"responsive\": true}                    ).then(function(){\n",
       "                            \n",
       "var gd = document.getElementById('efad49d3-178a-4e4a-bd52-1e3407b5a7c9');\n",
       "var x = new MutationObserver(function (mutations, observer) {{\n",
       "        var display = window.getComputedStyle(gd).display;\n",
       "        if (!display || display === 'none') {{\n",
       "            console.log([gd, 'removed!']);\n",
       "            Plotly.purge(gd);\n",
       "            observer.disconnect();\n",
       "        }}\n",
       "}});\n",
       "\n",
       "// Listen for the removal of the full notebook cells\n",
       "var notebookContainer = gd.closest('#notebook-container');\n",
       "if (notebookContainer) {{\n",
       "    x.observe(notebookContainer, {childList: true});\n",
       "}}\n",
       "\n",
       "// Listen for the clearing of the current output cell\n",
       "var outputEl = gd.closest('.output');\n",
       "if (outputEl) {{\n",
       "    x.observe(outputEl, {childList: true});\n",
       "}}\n",
       "\n",
       "                        })                };                });            </script>        </div>"
      ]
     },
     "metadata": {},
     "output_type": "display_data"
    }
   ],
   "source": [
    "#Pie Chart showing the top 8 funded elementary level education programs\n",
    "program_funding = elemenfund.groupby('Elementary Level Program')['Funding'].sum()\n",
    "\n",
    "\n",
    "top_programs = program_funding.nlargest(10)\n",
    "\n",
    "other_funding = program_funding.sum() - top_programs.sum()\n",
    "\n",
    "top_programs = pd.concat([top_programs, pd.Series(other_funding, index=['Other'])]).reset_index()\n",
    "top_programs.columns = ['Elementary Level Program', 'Funding']\n",
    "\n",
    "\n",
    "fig = px.pie(\n",
    "    data_frame=top_programs,\n",
    "    names='Elementary Level Program',\n",
    "    values='Funding',\n",
    "    title='Funding Distribution for Top 8 Elementary Level Programs',\n",
    "    color='Elementary Level Program',\n",
    "    color_discrete_sequence=px.colors.qualitative.Set1,\n",
    "    template='plotly_white'\n",
    ")\n",
    "\n",
    "\n",
    "fig.update_layout(\n",
    "    title_font=dict(size=24, family='Arial', color='RebeccaPurple'),\n",
    "    margin=dict(l=50, r=50, t=80, b=50),\n",
    "    paper_bgcolor='rgb(255, 255, 255)',  \n",
    "    plot_bgcolor='rgb(242, 242, 242)'    \n",
    ")\n",
    "\n",
    "\n",
    "fig.show()\n",
    "\n",
    "\n",
    "\n",
    "\n",
    "\n",
    "\n",
    "\n",
    "\n",
    "\n"
   ]
  },
  {
   "cell_type": "code",
   "execution_count": 48,
   "id": "d339b8fe",
   "metadata": {},
   "outputs": [
    {
     "data": {
      "application/vnd.plotly.v1+json": {
       "config": {
        "plotlyServerURL": "https://plot.ly"
       },
       "data": [
        {
         "fillpattern": {
          "shape": ""
         },
         "hovertemplate": "Year=%{x}<br>Total Funding Amount=%{y}<extra></extra>",
         "legendgroup": "",
         "line": {
          "color": "#636efa"
         },
         "marker": {
          "symbol": "circle"
         },
         "mode": "lines",
         "name": "",
         "orientation": "v",
         "showlegend": false,
         "stackgroup": "1",
         "type": "scatter",
         "x": [
          2000,
          2010,
          2014,
          2015,
          2016,
          2017,
          2018,
          2019,
          2020,
          2021,
          2022
         ],
         "xaxis": "x",
         "y": [
          87462936,
          150172283,
          153935578,
          157713573,
          163970931,
          165483341,
          172217325,
          174058419,
          206176969,
          547506827,
          192127907
         ],
         "yaxis": "y"
        }
       ],
       "layout": {
        "legend": {
         "tracegroupgap": 0
        },
        "margin": {
         "b": 50,
         "l": 50,
         "r": 50,
         "t": 80
        },
        "paper_bgcolor": "rgb(255, 255, 255)",
        "plot_bgcolor": "rgb(242, 242, 242)",
        "template": {
         "data": {
          "bar": [
           {
            "error_x": {
             "color": "#f2f5fa"
            },
            "error_y": {
             "color": "#f2f5fa"
            },
            "marker": {
             "line": {
              "color": "rgb(17,17,17)",
              "width": 0.5
             },
             "pattern": {
              "fillmode": "overlay",
              "size": 10,
              "solidity": 0.2
             }
            },
            "type": "bar"
           }
          ],
          "barpolar": [
           {
            "marker": {
             "line": {
              "color": "rgb(17,17,17)",
              "width": 0.5
             },
             "pattern": {
              "fillmode": "overlay",
              "size": 10,
              "solidity": 0.2
             }
            },
            "type": "barpolar"
           }
          ],
          "carpet": [
           {
            "aaxis": {
             "endlinecolor": "#A2B1C6",
             "gridcolor": "#506784",
             "linecolor": "#506784",
             "minorgridcolor": "#506784",
             "startlinecolor": "#A2B1C6"
            },
            "baxis": {
             "endlinecolor": "#A2B1C6",
             "gridcolor": "#506784",
             "linecolor": "#506784",
             "minorgridcolor": "#506784",
             "startlinecolor": "#A2B1C6"
            },
            "type": "carpet"
           }
          ],
          "choropleth": [
           {
            "colorbar": {
             "outlinewidth": 0,
             "ticks": ""
            },
            "type": "choropleth"
           }
          ],
          "contour": [
           {
            "colorbar": {
             "outlinewidth": 0,
             "ticks": ""
            },
            "colorscale": [
             [
              0,
              "#0d0887"
             ],
             [
              0.1111111111111111,
              "#46039f"
             ],
             [
              0.2222222222222222,
              "#7201a8"
             ],
             [
              0.3333333333333333,
              "#9c179e"
             ],
             [
              0.4444444444444444,
              "#bd3786"
             ],
             [
              0.5555555555555556,
              "#d8576b"
             ],
             [
              0.6666666666666666,
              "#ed7953"
             ],
             [
              0.7777777777777778,
              "#fb9f3a"
             ],
             [
              0.8888888888888888,
              "#fdca26"
             ],
             [
              1,
              "#f0f921"
             ]
            ],
            "type": "contour"
           }
          ],
          "contourcarpet": [
           {
            "colorbar": {
             "outlinewidth": 0,
             "ticks": ""
            },
            "type": "contourcarpet"
           }
          ],
          "heatmap": [
           {
            "colorbar": {
             "outlinewidth": 0,
             "ticks": ""
            },
            "colorscale": [
             [
              0,
              "#0d0887"
             ],
             [
              0.1111111111111111,
              "#46039f"
             ],
             [
              0.2222222222222222,
              "#7201a8"
             ],
             [
              0.3333333333333333,
              "#9c179e"
             ],
             [
              0.4444444444444444,
              "#bd3786"
             ],
             [
              0.5555555555555556,
              "#d8576b"
             ],
             [
              0.6666666666666666,
              "#ed7953"
             ],
             [
              0.7777777777777778,
              "#fb9f3a"
             ],
             [
              0.8888888888888888,
              "#fdca26"
             ],
             [
              1,
              "#f0f921"
             ]
            ],
            "type": "heatmap"
           }
          ],
          "heatmapgl": [
           {
            "colorbar": {
             "outlinewidth": 0,
             "ticks": ""
            },
            "colorscale": [
             [
              0,
              "#0d0887"
             ],
             [
              0.1111111111111111,
              "#46039f"
             ],
             [
              0.2222222222222222,
              "#7201a8"
             ],
             [
              0.3333333333333333,
              "#9c179e"
             ],
             [
              0.4444444444444444,
              "#bd3786"
             ],
             [
              0.5555555555555556,
              "#d8576b"
             ],
             [
              0.6666666666666666,
              "#ed7953"
             ],
             [
              0.7777777777777778,
              "#fb9f3a"
             ],
             [
              0.8888888888888888,
              "#fdca26"
             ],
             [
              1,
              "#f0f921"
             ]
            ],
            "type": "heatmapgl"
           }
          ],
          "histogram": [
           {
            "marker": {
             "pattern": {
              "fillmode": "overlay",
              "size": 10,
              "solidity": 0.2
             }
            },
            "type": "histogram"
           }
          ],
          "histogram2d": [
           {
            "colorbar": {
             "outlinewidth": 0,
             "ticks": ""
            },
            "colorscale": [
             [
              0,
              "#0d0887"
             ],
             [
              0.1111111111111111,
              "#46039f"
             ],
             [
              0.2222222222222222,
              "#7201a8"
             ],
             [
              0.3333333333333333,
              "#9c179e"
             ],
             [
              0.4444444444444444,
              "#bd3786"
             ],
             [
              0.5555555555555556,
              "#d8576b"
             ],
             [
              0.6666666666666666,
              "#ed7953"
             ],
             [
              0.7777777777777778,
              "#fb9f3a"
             ],
             [
              0.8888888888888888,
              "#fdca26"
             ],
             [
              1,
              "#f0f921"
             ]
            ],
            "type": "histogram2d"
           }
          ],
          "histogram2dcontour": [
           {
            "colorbar": {
             "outlinewidth": 0,
             "ticks": ""
            },
            "colorscale": [
             [
              0,
              "#0d0887"
             ],
             [
              0.1111111111111111,
              "#46039f"
             ],
             [
              0.2222222222222222,
              "#7201a8"
             ],
             [
              0.3333333333333333,
              "#9c179e"
             ],
             [
              0.4444444444444444,
              "#bd3786"
             ],
             [
              0.5555555555555556,
              "#d8576b"
             ],
             [
              0.6666666666666666,
              "#ed7953"
             ],
             [
              0.7777777777777778,
              "#fb9f3a"
             ],
             [
              0.8888888888888888,
              "#fdca26"
             ],
             [
              1,
              "#f0f921"
             ]
            ],
            "type": "histogram2dcontour"
           }
          ],
          "mesh3d": [
           {
            "colorbar": {
             "outlinewidth": 0,
             "ticks": ""
            },
            "type": "mesh3d"
           }
          ],
          "parcoords": [
           {
            "line": {
             "colorbar": {
              "outlinewidth": 0,
              "ticks": ""
             }
            },
            "type": "parcoords"
           }
          ],
          "pie": [
           {
            "automargin": true,
            "type": "pie"
           }
          ],
          "scatter": [
           {
            "marker": {
             "line": {
              "color": "#283442"
             }
            },
            "type": "scatter"
           }
          ],
          "scatter3d": [
           {
            "line": {
             "colorbar": {
              "outlinewidth": 0,
              "ticks": ""
             }
            },
            "marker": {
             "colorbar": {
              "outlinewidth": 0,
              "ticks": ""
             }
            },
            "type": "scatter3d"
           }
          ],
          "scattercarpet": [
           {
            "marker": {
             "colorbar": {
              "outlinewidth": 0,
              "ticks": ""
             }
            },
            "type": "scattercarpet"
           }
          ],
          "scattergeo": [
           {
            "marker": {
             "colorbar": {
              "outlinewidth": 0,
              "ticks": ""
             }
            },
            "type": "scattergeo"
           }
          ],
          "scattergl": [
           {
            "marker": {
             "line": {
              "color": "#283442"
             }
            },
            "type": "scattergl"
           }
          ],
          "scattermapbox": [
           {
            "marker": {
             "colorbar": {
              "outlinewidth": 0,
              "ticks": ""
             }
            },
            "type": "scattermapbox"
           }
          ],
          "scatterpolar": [
           {
            "marker": {
             "colorbar": {
              "outlinewidth": 0,
              "ticks": ""
             }
            },
            "type": "scatterpolar"
           }
          ],
          "scatterpolargl": [
           {
            "marker": {
             "colorbar": {
              "outlinewidth": 0,
              "ticks": ""
             }
            },
            "type": "scatterpolargl"
           }
          ],
          "scatterternary": [
           {
            "marker": {
             "colorbar": {
              "outlinewidth": 0,
              "ticks": ""
             }
            },
            "type": "scatterternary"
           }
          ],
          "surface": [
           {
            "colorbar": {
             "outlinewidth": 0,
             "ticks": ""
            },
            "colorscale": [
             [
              0,
              "#0d0887"
             ],
             [
              0.1111111111111111,
              "#46039f"
             ],
             [
              0.2222222222222222,
              "#7201a8"
             ],
             [
              0.3333333333333333,
              "#9c179e"
             ],
             [
              0.4444444444444444,
              "#bd3786"
             ],
             [
              0.5555555555555556,
              "#d8576b"
             ],
             [
              0.6666666666666666,
              "#ed7953"
             ],
             [
              0.7777777777777778,
              "#fb9f3a"
             ],
             [
              0.8888888888888888,
              "#fdca26"
             ],
             [
              1,
              "#f0f921"
             ]
            ],
            "type": "surface"
           }
          ],
          "table": [
           {
            "cells": {
             "fill": {
              "color": "#506784"
             },
             "line": {
              "color": "rgb(17,17,17)"
             }
            },
            "header": {
             "fill": {
              "color": "#2a3f5f"
             },
             "line": {
              "color": "rgb(17,17,17)"
             }
            },
            "type": "table"
           }
          ]
         },
         "layout": {
          "annotationdefaults": {
           "arrowcolor": "#f2f5fa",
           "arrowhead": 0,
           "arrowwidth": 1
          },
          "autotypenumbers": "strict",
          "coloraxis": {
           "colorbar": {
            "outlinewidth": 0,
            "ticks": ""
           }
          },
          "colorscale": {
           "diverging": [
            [
             0,
             "#8e0152"
            ],
            [
             0.1,
             "#c51b7d"
            ],
            [
             0.2,
             "#de77ae"
            ],
            [
             0.3,
             "#f1b6da"
            ],
            [
             0.4,
             "#fde0ef"
            ],
            [
             0.5,
             "#f7f7f7"
            ],
            [
             0.6,
             "#e6f5d0"
            ],
            [
             0.7,
             "#b8e186"
            ],
            [
             0.8,
             "#7fbc41"
            ],
            [
             0.9,
             "#4d9221"
            ],
            [
             1,
             "#276419"
            ]
           ],
           "sequential": [
            [
             0,
             "#0d0887"
            ],
            [
             0.1111111111111111,
             "#46039f"
            ],
            [
             0.2222222222222222,
             "#7201a8"
            ],
            [
             0.3333333333333333,
             "#9c179e"
            ],
            [
             0.4444444444444444,
             "#bd3786"
            ],
            [
             0.5555555555555556,
             "#d8576b"
            ],
            [
             0.6666666666666666,
             "#ed7953"
            ],
            [
             0.7777777777777778,
             "#fb9f3a"
            ],
            [
             0.8888888888888888,
             "#fdca26"
            ],
            [
             1,
             "#f0f921"
            ]
           ],
           "sequentialminus": [
            [
             0,
             "#0d0887"
            ],
            [
             0.1111111111111111,
             "#46039f"
            ],
            [
             0.2222222222222222,
             "#7201a8"
            ],
            [
             0.3333333333333333,
             "#9c179e"
            ],
            [
             0.4444444444444444,
             "#bd3786"
            ],
            [
             0.5555555555555556,
             "#d8576b"
            ],
            [
             0.6666666666666666,
             "#ed7953"
            ],
            [
             0.7777777777777778,
             "#fb9f3a"
            ],
            [
             0.8888888888888888,
             "#fdca26"
            ],
            [
             1,
             "#f0f921"
            ]
           ]
          },
          "colorway": [
           "#636efa",
           "#EF553B",
           "#00cc96",
           "#ab63fa",
           "#FFA15A",
           "#19d3f3",
           "#FF6692",
           "#B6E880",
           "#FF97FF",
           "#FECB52"
          ],
          "font": {
           "color": "#f2f5fa"
          },
          "geo": {
           "bgcolor": "rgb(17,17,17)",
           "lakecolor": "rgb(17,17,17)",
           "landcolor": "rgb(17,17,17)",
           "showlakes": true,
           "showland": true,
           "subunitcolor": "#506784"
          },
          "hoverlabel": {
           "align": "left"
          },
          "hovermode": "closest",
          "mapbox": {
           "style": "dark"
          },
          "paper_bgcolor": "rgb(17,17,17)",
          "plot_bgcolor": "rgb(17,17,17)",
          "polar": {
           "angularaxis": {
            "gridcolor": "#506784",
            "linecolor": "#506784",
            "ticks": ""
           },
           "bgcolor": "rgb(17,17,17)",
           "radialaxis": {
            "gridcolor": "#506784",
            "linecolor": "#506784",
            "ticks": ""
           }
          },
          "scene": {
           "xaxis": {
            "backgroundcolor": "rgb(17,17,17)",
            "gridcolor": "#506784",
            "gridwidth": 2,
            "linecolor": "#506784",
            "showbackground": true,
            "ticks": "",
            "zerolinecolor": "#C8D4E3"
           },
           "yaxis": {
            "backgroundcolor": "rgb(17,17,17)",
            "gridcolor": "#506784",
            "gridwidth": 2,
            "linecolor": "#506784",
            "showbackground": true,
            "ticks": "",
            "zerolinecolor": "#C8D4E3"
           },
           "zaxis": {
            "backgroundcolor": "rgb(17,17,17)",
            "gridcolor": "#506784",
            "gridwidth": 2,
            "linecolor": "#506784",
            "showbackground": true,
            "ticks": "",
            "zerolinecolor": "#C8D4E3"
           }
          },
          "shapedefaults": {
           "line": {
            "color": "#f2f5fa"
           }
          },
          "sliderdefaults": {
           "bgcolor": "#C8D4E3",
           "bordercolor": "rgb(17,17,17)",
           "borderwidth": 1,
           "tickwidth": 0
          },
          "ternary": {
           "aaxis": {
            "gridcolor": "#506784",
            "linecolor": "#506784",
            "ticks": ""
           },
           "baxis": {
            "gridcolor": "#506784",
            "linecolor": "#506784",
            "ticks": ""
           },
           "bgcolor": "rgb(17,17,17)",
           "caxis": {
            "gridcolor": "#506784",
            "linecolor": "#506784",
            "ticks": ""
           }
          },
          "title": {
           "x": 0.05
          },
          "updatemenudefaults": {
           "bgcolor": "#506784",
           "borderwidth": 0
          },
          "xaxis": {
           "automargin": true,
           "gridcolor": "#283442",
           "linecolor": "#506784",
           "ticks": "",
           "title": {
            "standoff": 15
           },
           "zerolinecolor": "#283442",
           "zerolinewidth": 2
          },
          "yaxis": {
           "automargin": true,
           "gridcolor": "#283442",
           "linecolor": "#506784",
           "ticks": "",
           "title": {
            "standoff": 15
           },
           "zerolinecolor": "#283442",
           "zerolinewidth": 2
          }
         }
        },
        "title": {
         "font": {
          "color": "RebeccaPurple",
          "family": "Arial",
          "size": 24
         },
         "text": "Total Elementary School Program Funding by Year"
        },
        "xaxis": {
         "anchor": "y",
         "domain": [
          0,
          1
         ],
         "tickfont": {
          "color": "black",
          "family": "Arial",
          "size": 14
         },
         "title": {
          "font": {
           "color": "black",
           "family": "Arial",
           "size": 18
          },
          "text": "Year"
         }
        },
        "yaxis": {
         "anchor": "x",
         "domain": [
          0,
          1
         ],
         "tickfont": {
          "color": "black",
          "family": "Arial",
          "size": 14
         },
         "title": {
          "font": {
           "color": "black",
           "family": "Arial",
           "size": 18
          },
          "text": "Total Funding Amount"
         }
        }
       }
      },
      "text/html": [
       "<div>                            <div id=\"b3e6e57a-5707-4d99-9ac9-fcb2d743fa0a\" class=\"plotly-graph-div\" style=\"height:525px; width:100%;\"></div>            <script type=\"text/javascript\">                require([\"plotly\"], function(Plotly) {                    window.PLOTLYENV=window.PLOTLYENV || {};                                    if (document.getElementById(\"b3e6e57a-5707-4d99-9ac9-fcb2d743fa0a\")) {                    Plotly.newPlot(                        \"b3e6e57a-5707-4d99-9ac9-fcb2d743fa0a\",                        [{\"fillpattern\":{\"shape\":\"\"},\"hovertemplate\":\"Year=%{x}\\u003cbr\\u003eTotal Funding Amount=%{y}\\u003cextra\\u003e\\u003c\\u002fextra\\u003e\",\"legendgroup\":\"\",\"line\":{\"color\":\"#636efa\"},\"marker\":{\"symbol\":\"circle\"},\"mode\":\"lines\",\"name\":\"\",\"orientation\":\"v\",\"showlegend\":false,\"stackgroup\":\"1\",\"x\":[2000,2010,2014,2015,2016,2017,2018,2019,2020,2021,2022],\"xaxis\":\"x\",\"y\":[87462936.0,150172283.0,153935578.0,157713573.0,163970931.0,165483341.0,172217325.0,174058419.0,206176969.0,547506827.0,192127907.0],\"yaxis\":\"y\",\"type\":\"scatter\"}],                        {\"template\":{\"data\":{\"barpolar\":[{\"marker\":{\"line\":{\"color\":\"rgb(17,17,17)\",\"width\":0.5},\"pattern\":{\"fillmode\":\"overlay\",\"size\":10,\"solidity\":0.2}},\"type\":\"barpolar\"}],\"bar\":[{\"error_x\":{\"color\":\"#f2f5fa\"},\"error_y\":{\"color\":\"#f2f5fa\"},\"marker\":{\"line\":{\"color\":\"rgb(17,17,17)\",\"width\":0.5},\"pattern\":{\"fillmode\":\"overlay\",\"size\":10,\"solidity\":0.2}},\"type\":\"bar\"}],\"carpet\":[{\"aaxis\":{\"endlinecolor\":\"#A2B1C6\",\"gridcolor\":\"#506784\",\"linecolor\":\"#506784\",\"minorgridcolor\":\"#506784\",\"startlinecolor\":\"#A2B1C6\"},\"baxis\":{\"endlinecolor\":\"#A2B1C6\",\"gridcolor\":\"#506784\",\"linecolor\":\"#506784\",\"minorgridcolor\":\"#506784\",\"startlinecolor\":\"#A2B1C6\"},\"type\":\"carpet\"}],\"choropleth\":[{\"colorbar\":{\"outlinewidth\":0,\"ticks\":\"\"},\"type\":\"choropleth\"}],\"contourcarpet\":[{\"colorbar\":{\"outlinewidth\":0,\"ticks\":\"\"},\"type\":\"contourcarpet\"}],\"contour\":[{\"colorbar\":{\"outlinewidth\":0,\"ticks\":\"\"},\"colorscale\":[[0.0,\"#0d0887\"],[0.1111111111111111,\"#46039f\"],[0.2222222222222222,\"#7201a8\"],[0.3333333333333333,\"#9c179e\"],[0.4444444444444444,\"#bd3786\"],[0.5555555555555556,\"#d8576b\"],[0.6666666666666666,\"#ed7953\"],[0.7777777777777778,\"#fb9f3a\"],[0.8888888888888888,\"#fdca26\"],[1.0,\"#f0f921\"]],\"type\":\"contour\"}],\"heatmapgl\":[{\"colorbar\":{\"outlinewidth\":0,\"ticks\":\"\"},\"colorscale\":[[0.0,\"#0d0887\"],[0.1111111111111111,\"#46039f\"],[0.2222222222222222,\"#7201a8\"],[0.3333333333333333,\"#9c179e\"],[0.4444444444444444,\"#bd3786\"],[0.5555555555555556,\"#d8576b\"],[0.6666666666666666,\"#ed7953\"],[0.7777777777777778,\"#fb9f3a\"],[0.8888888888888888,\"#fdca26\"],[1.0,\"#f0f921\"]],\"type\":\"heatmapgl\"}],\"heatmap\":[{\"colorbar\":{\"outlinewidth\":0,\"ticks\":\"\"},\"colorscale\":[[0.0,\"#0d0887\"],[0.1111111111111111,\"#46039f\"],[0.2222222222222222,\"#7201a8\"],[0.3333333333333333,\"#9c179e\"],[0.4444444444444444,\"#bd3786\"],[0.5555555555555556,\"#d8576b\"],[0.6666666666666666,\"#ed7953\"],[0.7777777777777778,\"#fb9f3a\"],[0.8888888888888888,\"#fdca26\"],[1.0,\"#f0f921\"]],\"type\":\"heatmap\"}],\"histogram2dcontour\":[{\"colorbar\":{\"outlinewidth\":0,\"ticks\":\"\"},\"colorscale\":[[0.0,\"#0d0887\"],[0.1111111111111111,\"#46039f\"],[0.2222222222222222,\"#7201a8\"],[0.3333333333333333,\"#9c179e\"],[0.4444444444444444,\"#bd3786\"],[0.5555555555555556,\"#d8576b\"],[0.6666666666666666,\"#ed7953\"],[0.7777777777777778,\"#fb9f3a\"],[0.8888888888888888,\"#fdca26\"],[1.0,\"#f0f921\"]],\"type\":\"histogram2dcontour\"}],\"histogram2d\":[{\"colorbar\":{\"outlinewidth\":0,\"ticks\":\"\"},\"colorscale\":[[0.0,\"#0d0887\"],[0.1111111111111111,\"#46039f\"],[0.2222222222222222,\"#7201a8\"],[0.3333333333333333,\"#9c179e\"],[0.4444444444444444,\"#bd3786\"],[0.5555555555555556,\"#d8576b\"],[0.6666666666666666,\"#ed7953\"],[0.7777777777777778,\"#fb9f3a\"],[0.8888888888888888,\"#fdca26\"],[1.0,\"#f0f921\"]],\"type\":\"histogram2d\"}],\"histogram\":[{\"marker\":{\"pattern\":{\"fillmode\":\"overlay\",\"size\":10,\"solidity\":0.2}},\"type\":\"histogram\"}],\"mesh3d\":[{\"colorbar\":{\"outlinewidth\":0,\"ticks\":\"\"},\"type\":\"mesh3d\"}],\"parcoords\":[{\"line\":{\"colorbar\":{\"outlinewidth\":0,\"ticks\":\"\"}},\"type\":\"parcoords\"}],\"pie\":[{\"automargin\":true,\"type\":\"pie\"}],\"scatter3d\":[{\"line\":{\"colorbar\":{\"outlinewidth\":0,\"ticks\":\"\"}},\"marker\":{\"colorbar\":{\"outlinewidth\":0,\"ticks\":\"\"}},\"type\":\"scatter3d\"}],\"scattercarpet\":[{\"marker\":{\"colorbar\":{\"outlinewidth\":0,\"ticks\":\"\"}},\"type\":\"scattercarpet\"}],\"scattergeo\":[{\"marker\":{\"colorbar\":{\"outlinewidth\":0,\"ticks\":\"\"}},\"type\":\"scattergeo\"}],\"scattergl\":[{\"marker\":{\"line\":{\"color\":\"#283442\"}},\"type\":\"scattergl\"}],\"scattermapbox\":[{\"marker\":{\"colorbar\":{\"outlinewidth\":0,\"ticks\":\"\"}},\"type\":\"scattermapbox\"}],\"scatterpolargl\":[{\"marker\":{\"colorbar\":{\"outlinewidth\":0,\"ticks\":\"\"}},\"type\":\"scatterpolargl\"}],\"scatterpolar\":[{\"marker\":{\"colorbar\":{\"outlinewidth\":0,\"ticks\":\"\"}},\"type\":\"scatterpolar\"}],\"scatter\":[{\"marker\":{\"line\":{\"color\":\"#283442\"}},\"type\":\"scatter\"}],\"scatterternary\":[{\"marker\":{\"colorbar\":{\"outlinewidth\":0,\"ticks\":\"\"}},\"type\":\"scatterternary\"}],\"surface\":[{\"colorbar\":{\"outlinewidth\":0,\"ticks\":\"\"},\"colorscale\":[[0.0,\"#0d0887\"],[0.1111111111111111,\"#46039f\"],[0.2222222222222222,\"#7201a8\"],[0.3333333333333333,\"#9c179e\"],[0.4444444444444444,\"#bd3786\"],[0.5555555555555556,\"#d8576b\"],[0.6666666666666666,\"#ed7953\"],[0.7777777777777778,\"#fb9f3a\"],[0.8888888888888888,\"#fdca26\"],[1.0,\"#f0f921\"]],\"type\":\"surface\"}],\"table\":[{\"cells\":{\"fill\":{\"color\":\"#506784\"},\"line\":{\"color\":\"rgb(17,17,17)\"}},\"header\":{\"fill\":{\"color\":\"#2a3f5f\"},\"line\":{\"color\":\"rgb(17,17,17)\"}},\"type\":\"table\"}]},\"layout\":{\"annotationdefaults\":{\"arrowcolor\":\"#f2f5fa\",\"arrowhead\":0,\"arrowwidth\":1},\"autotypenumbers\":\"strict\",\"coloraxis\":{\"colorbar\":{\"outlinewidth\":0,\"ticks\":\"\"}},\"colorscale\":{\"diverging\":[[0,\"#8e0152\"],[0.1,\"#c51b7d\"],[0.2,\"#de77ae\"],[0.3,\"#f1b6da\"],[0.4,\"#fde0ef\"],[0.5,\"#f7f7f7\"],[0.6,\"#e6f5d0\"],[0.7,\"#b8e186\"],[0.8,\"#7fbc41\"],[0.9,\"#4d9221\"],[1,\"#276419\"]],\"sequential\":[[0.0,\"#0d0887\"],[0.1111111111111111,\"#46039f\"],[0.2222222222222222,\"#7201a8\"],[0.3333333333333333,\"#9c179e\"],[0.4444444444444444,\"#bd3786\"],[0.5555555555555556,\"#d8576b\"],[0.6666666666666666,\"#ed7953\"],[0.7777777777777778,\"#fb9f3a\"],[0.8888888888888888,\"#fdca26\"],[1.0,\"#f0f921\"]],\"sequentialminus\":[[0.0,\"#0d0887\"],[0.1111111111111111,\"#46039f\"],[0.2222222222222222,\"#7201a8\"],[0.3333333333333333,\"#9c179e\"],[0.4444444444444444,\"#bd3786\"],[0.5555555555555556,\"#d8576b\"],[0.6666666666666666,\"#ed7953\"],[0.7777777777777778,\"#fb9f3a\"],[0.8888888888888888,\"#fdca26\"],[1.0,\"#f0f921\"]]},\"colorway\":[\"#636efa\",\"#EF553B\",\"#00cc96\",\"#ab63fa\",\"#FFA15A\",\"#19d3f3\",\"#FF6692\",\"#B6E880\",\"#FF97FF\",\"#FECB52\"],\"font\":{\"color\":\"#f2f5fa\"},\"geo\":{\"bgcolor\":\"rgb(17,17,17)\",\"lakecolor\":\"rgb(17,17,17)\",\"landcolor\":\"rgb(17,17,17)\",\"showlakes\":true,\"showland\":true,\"subunitcolor\":\"#506784\"},\"hoverlabel\":{\"align\":\"left\"},\"hovermode\":\"closest\",\"mapbox\":{\"style\":\"dark\"},\"paper_bgcolor\":\"rgb(17,17,17)\",\"plot_bgcolor\":\"rgb(17,17,17)\",\"polar\":{\"angularaxis\":{\"gridcolor\":\"#506784\",\"linecolor\":\"#506784\",\"ticks\":\"\"},\"bgcolor\":\"rgb(17,17,17)\",\"radialaxis\":{\"gridcolor\":\"#506784\",\"linecolor\":\"#506784\",\"ticks\":\"\"}},\"scene\":{\"xaxis\":{\"backgroundcolor\":\"rgb(17,17,17)\",\"gridcolor\":\"#506784\",\"gridwidth\":2,\"linecolor\":\"#506784\",\"showbackground\":true,\"ticks\":\"\",\"zerolinecolor\":\"#C8D4E3\"},\"yaxis\":{\"backgroundcolor\":\"rgb(17,17,17)\",\"gridcolor\":\"#506784\",\"gridwidth\":2,\"linecolor\":\"#506784\",\"showbackground\":true,\"ticks\":\"\",\"zerolinecolor\":\"#C8D4E3\"},\"zaxis\":{\"backgroundcolor\":\"rgb(17,17,17)\",\"gridcolor\":\"#506784\",\"gridwidth\":2,\"linecolor\":\"#506784\",\"showbackground\":true,\"ticks\":\"\",\"zerolinecolor\":\"#C8D4E3\"}},\"shapedefaults\":{\"line\":{\"color\":\"#f2f5fa\"}},\"sliderdefaults\":{\"bgcolor\":\"#C8D4E3\",\"bordercolor\":\"rgb(17,17,17)\",\"borderwidth\":1,\"tickwidth\":0},\"ternary\":{\"aaxis\":{\"gridcolor\":\"#506784\",\"linecolor\":\"#506784\",\"ticks\":\"\"},\"baxis\":{\"gridcolor\":\"#506784\",\"linecolor\":\"#506784\",\"ticks\":\"\"},\"bgcolor\":\"rgb(17,17,17)\",\"caxis\":{\"gridcolor\":\"#506784\",\"linecolor\":\"#506784\",\"ticks\":\"\"}},\"title\":{\"x\":0.05},\"updatemenudefaults\":{\"bgcolor\":\"#506784\",\"borderwidth\":0},\"xaxis\":{\"automargin\":true,\"gridcolor\":\"#283442\",\"linecolor\":\"#506784\",\"ticks\":\"\",\"title\":{\"standoff\":15},\"zerolinecolor\":\"#283442\",\"zerolinewidth\":2},\"yaxis\":{\"automargin\":true,\"gridcolor\":\"#283442\",\"linecolor\":\"#506784\",\"ticks\":\"\",\"title\":{\"standoff\":15},\"zerolinecolor\":\"#283442\",\"zerolinewidth\":2}}},\"xaxis\":{\"anchor\":\"y\",\"domain\":[0.0,1.0],\"title\":{\"text\":\"Year\",\"font\":{\"size\":18,\"family\":\"Arial\",\"color\":\"black\"}},\"tickfont\":{\"size\":14,\"family\":\"Arial\",\"color\":\"black\"}},\"yaxis\":{\"anchor\":\"x\",\"domain\":[0.0,1.0],\"title\":{\"text\":\"Total Funding Amount\",\"font\":{\"size\":18,\"family\":\"Arial\",\"color\":\"black\"}},\"tickfont\":{\"size\":14,\"family\":\"Arial\",\"color\":\"black\"}},\"legend\":{\"tracegroupgap\":0},\"title\":{\"text\":\"Total Elementary School Program Funding by Year\",\"font\":{\"size\":24,\"family\":\"Arial\",\"color\":\"RebeccaPurple\"}},\"margin\":{\"l\":50,\"r\":50,\"t\":80,\"b\":50},\"paper_bgcolor\":\"rgb(255, 255, 255)\",\"plot_bgcolor\":\"rgb(242, 242, 242)\"},                        {\"responsive\": true}                    ).then(function(){\n",
       "                            \n",
       "var gd = document.getElementById('b3e6e57a-5707-4d99-9ac9-fcb2d743fa0a');\n",
       "var x = new MutationObserver(function (mutations, observer) {{\n",
       "        var display = window.getComputedStyle(gd).display;\n",
       "        if (!display || display === 'none') {{\n",
       "            console.log([gd, 'removed!']);\n",
       "            Plotly.purge(gd);\n",
       "            observer.disconnect();\n",
       "        }}\n",
       "}});\n",
       "\n",
       "// Listen for the removal of the full notebook cells\n",
       "var notebookContainer = gd.closest('#notebook-container');\n",
       "if (notebookContainer) {{\n",
       "    x.observe(notebookContainer, {childList: true});\n",
       "}}\n",
       "\n",
       "// Listen for the clearing of the current output cell\n",
       "var outputEl = gd.closest('.output');\n",
       "if (outputEl) {{\n",
       "    x.observe(outputEl, {childList: true});\n",
       "}}\n",
       "\n",
       "                        })                };                });            </script>        </div>"
      ]
     },
     "metadata": {},
     "output_type": "display_data"
    }
   ],
   "source": [
    "#Total Elementary School Programs Funding By Year\n",
    "yearly_funding = elemenfund.groupby('Year')['Funding'].sum().reset_index()\n",
    "\n",
    "\n",
    "fig = px.area(\n",
    "    data_frame=yearly_funding,\n",
    "    x='Year',\n",
    "    y='Funding',\n",
    "    title='Total Elementary School Program Funding by Year',\n",
    "    labels={'Funding': 'Total Funding Amount', 'Year': 'Year'},\n",
    "    template='plotly_dark'  \n",
    ")\n",
    "\n",
    "\n",
    "fig.update_layout(\n",
    "    xaxis_title='Year',\n",
    "    yaxis_title='Total Funding Amount',\n",
    "    title_font=dict(size=24, family='Arial', color='RebeccaPurple'),\n",
    "    xaxis=dict(\n",
    "        title_font=dict(size=18, family='Arial', color='black'),\n",
    "        tickfont=dict(size=14, family='Arial', color='black')\n",
    "    ),\n",
    "    yaxis=dict(\n",
    "        title_font=dict(size=18, family='Arial', color='black'),\n",
    "        tickfont=dict(size=14, family='Arial', color='black')\n",
    "    ),\n",
    "    margin=dict(l=50, r=50, t=80, b=50),\n",
    "    paper_bgcolor='rgb(255, 255, 255)', \n",
    "    plot_bgcolor='rgb(242, 242, 242)'   \n",
    ")\n",
    "\n",
    "\n",
    "fig.show()"
   ]
  },
  {
   "cell_type": "markdown",
   "id": "3f901217",
   "metadata": {},
   "source": [
    "# Comparing Education Funding Trends with Presidential Administrations\n",
    "\n",
    "This section introduces a dataset that maps each year in the analysis to the U.S. president in office at that time. By aligning funding data with presidential terms, we can explore potential patterns or shifts in federal education funding policies across different administrations.\n",
    "\n",
    "The dataset includes key years from 2000 to 2022, covering multiple administrations, including those of Presidents Clinton, Obama, Trump, and Biden. This comparison helps identify whether certain changes in funding align with specific presidential terms or policy shifts.\n"
   ]
  },
  {
   "cell_type": "code",
   "execution_count": 24,
   "id": "e38b174a",
   "metadata": {},
   "outputs": [
    {
     "name": "stdout",
     "output_type": "stream",
     "text": [
      "    Year President\n",
      "0   2000   Clinton\n",
      "1   2010     Obama\n",
      "2   2014     Obama\n",
      "3   2015     Obama\n",
      "4   2016     Obama\n",
      "..   ...       ...\n",
      "6   2018     Trump\n",
      "7   2019     Trump\n",
      "8   2020     Trump\n",
      "9   2021     Biden\n",
      "10  2022     Biden\n",
      "\n",
      "[11 rows x 2 columns]\n"
     ]
    }
   ],
   "source": [
    "#Comparing with who was in office that year: \n",
    "president_data = pd.DataFrame({\n",
    "    'Year': [2000, 2010, 2014, 2015, 2016, 2017, 2018, 2019, 2020, 2021, 2022],\n",
    "    'President': [\n",
    "        'Clinton',  # 2000 - Bill Clinton\n",
    "        'Obama',    # 2010 - Barack Obama\n",
    "        'Obama',    # 2014 - Barack Obama\n",
    "        'Obama',    # 2015 - Barack Obama\n",
    "        'Obama',    # 2016 - Barack Obama\n",
    "        'Trump',    # 2017 - Donald Trump\n",
    "        'Trump',    # 2018 - Donald Trump\n",
    "        'Trump',    # 2019 - Donald Trump\n",
    "        'Trump',    # 2020 - Donald Trump\n",
    "        'Biden',    # 2021 - Joe Biden\n",
    "        'Biden'     # 2022 - Joe Biden\n",
    "    ]\n",
    "})\n",
    "\n",
    "print(president_data)\n",
    "\n"
   ]
  },
  {
   "cell_type": "code",
   "execution_count": 54,
   "id": "e2b2113b",
   "metadata": {},
   "outputs": [
    {
     "data": {
      "image/png": "[encoded data removed]",
      "text/plain": [
       "<Figure size 864x576 with 1 Axes>"
      ]
     },
     "metadata": {
      "needs_background": "light"
     },
     "output_type": "display_data"
    }
   ],
   "source": [
    "# Sample data for president and party information\n",
    "president_data = pd.DataFrame({\n",
    "    'Year': [2000, 2010, 2014, 2015, 2016, 2017, 2018, 2019, 2020, 2021, 2022],\n",
    "    'President': [\n",
    "        'Clinton', 'Obama', 'Obama', 'Obama', 'Obama', 'Trump', 'Trump', 'Trump', 'Trump', 'Biden', 'Biden'\n",
    "    ],\n",
    "    'Party': [\n",
    "        'Democrat', 'Democrat', 'Democrat', 'Democrat', 'Democrat', 'Republican', 'Republican', 'Republican', 'Republican', 'Democrat', 'Democrat'\n",
    "    ]\n",
    "})\n",
    "\n",
    "\n",
    "elemenfund['Year'] = pd.to_numeric(elemenfund['Year'], errors='coerce')\n",
    "postfund['Year'] = pd.to_numeric(postfund['Year'], errors='coerce')\n",
    "president_data['Year'] = pd.to_numeric(president_data['Year'], errors='coerce')\n",
    "\n",
    "\n",
    "elemen_merged = pd.merge(elemenfund, president_data, on='Year')\n",
    "post_merged = pd.merge(postfund, president_data, on='Year')\n",
    "\n",
    "\n",
    "elemen_aggregated = elemen_merged.groupby(['Year', 'Party'])['Funding'].sum().reset_index()\n",
    "post_aggregated = post_merged.groupby(['Year', 'Party'])['Funding'].sum().reset_index()\n",
    "\n",
    "\n",
    "elemen_pivot = elemen_aggregated.pivot(index='Year', columns='Party', values='Funding').fillna(0)\n",
    "post_pivot = post_aggregated.pivot(index='Year', columns='Party', values='Funding').fillna(0)\n",
    "\n",
    "\n",
    "elemen_pivot.columns = [f'Elemen_{col}' for col in elemen_pivot.columns]\n",
    "post_pivot.columns = [f'Post_{col}' for col in post_pivot.columns]\n",
    "\n",
    "# Combine both datasets\n",
    "combined_pivot = pd.concat([elemen_pivot, post_pivot], axis=1).reset_index()\n",
    "\n",
    "\n",
    "def thousands(x, pos):\n",
    "    'The two args are the value and tick position'\n",
    "    return '%1.0fK' % (x * 1e-3)\n",
    "\n",
    "plt.figure(figsize=(12, 8))\n",
    "\n",
    "# Plot Elementary Level Program Funding\n",
    "for col in elemen_pivot.columns:\n",
    "    plt.plot(combined_pivot['Year'].values, combined_pivot[col].values, label=col)\n",
    "\n",
    "# Plot Postsecondary Level Program Funding\n",
    "for col in post_pivot.columns:\n",
    "    plt.plot(combined_pivot['Year'].values, combined_pivot[col].values, label=col, linestyle='--')\n",
    "\n",
    "plt.xlabel('Year')\n",
    "plt.ylabel('Total Funding (in thousands)')\n",
    "plt.title('Total Funding for Elementary and Postsecondary Programs by Party Over Time')\n",
    "plt.legend(title='Funding Type')\n",
    "plt.grid(True)\n",
    "plt.gca().yaxis.set_major_formatter(FuncFormatter(thousands))\n",
    "plt.show()\n"
   ]
  },
  {
   "cell_type": "code",
   "execution_count": 52,
   "id": "bf0a0ebe",
   "metadata": {},
   "outputs": [
    {
     "data": {
      "image/png": "[encoded data removed]",
      "text/plain": [
       "<Figure size 864x576 with 1 Axes>"
      ]
     },
     "metadata": {
      "needs_background": "light"
     },
     "output_type": "display_data"
    }
   ],
   "source": [
    "import pandas as pd\n",
    "import matplotlib.pyplot as plt\n",
    "from matplotlib.ticker import FuncFormatter\n",
    "\n",
    "# Sample data for president and party information\n",
    "president_data = pd.DataFrame({\n",
    "    'Year': [2000, 2010, 2014, 2015, 2016, 2017, 2018, 2019, 2020, 2021, 2022],\n",
    "    'President': [\n",
    "        'Clinton', 'Obama', 'Obama', 'Obama', 'Obama', 'Trump', 'Trump', 'Trump', 'Trump', 'Biden', 'Biden'\n",
    "    ],\n",
    "    'Party': [\n",
    "        'Democrat', 'Democrat', 'Democrat', 'Democrat', 'Democrat', 'Republican', 'Republican', 'Republican', 'Republican', 'Democrat', 'Democrat'\n",
    "    ]\n",
    "})\n",
    "\n",
    "# Convert 'Year' to numeric in all DataFrames\n",
    "elemenfund['Year'] = pd.to_numeric(elemenfund['Year'], errors='coerce')\n",
    "postfund['Year'] = pd.to_numeric(postfund['Year'], errors='coerce')\n",
    "president_data['Year'] = pd.to_numeric(president_data['Year'], errors='coerce')\n",
    "\n",
    "# Merge the data with president_data on 'Year'\n",
    "elemen_merged = pd.merge(elemenfund, president_data, on='Year')\n",
    "post_merged = pd.merge(postfund, president_data, on='Year')\n",
    "\n",
    "# Aggregate data: Sum of funding by Year and Party\n",
    "elemen_aggregated = elemen_merged.groupby(['Year', 'Party'])['Funding'].sum().reset_index()\n",
    "post_aggregated = post_merged.groupby(['Year', 'Party'])['Funding'].sum().reset_index()\n",
    "\n",
    "# Pivot the data for better visualization\n",
    "elemen_pivot = elemen_aggregated.pivot(index='Year', columns='Party', values='Funding').fillna(0)\n",
    "post_pivot = post_aggregated.pivot(index='Year', columns='Party', values='Funding').fillna(0)\n",
    "\n",
    "# Combine both pivot tables into a single DataFrame for plotting\n",
    "elemen_pivot.columns = [f'Elemen_{col}' for col in elemen_pivot.columns]\n",
    "post_pivot.columns = [f'Post_{col}' for col in post_pivot.columns]\n",
    "\n",
    "# Combine both datasets\n",
    "combined_pivot = pd.concat([elemen_pivot, post_pivot], axis=1).reset_index()\n",
    "\n",
    "# Define a function to format y-axis labels to show thousands\n",
    "def thousands(x, pos):\n",
    "    'The two args are the value and tick position'\n",
    "    return '%1.0fK' % (x * 1e-3)\n",
    "\n",
    "# Plotting\n",
    "plt.figure(figsize=(12, 8))\n",
    "\n",
    "# Plot Elementary Level Program Funding\n",
    "for col in elemen_pivot.columns:\n",
    "    plt.plot(combined_pivot['Year'].values, combined_pivot[col].values, label=col)\n",
    "\n",
    "# Plot Postsecondary Level Program Funding\n",
    "for col in post_pivot.columns:\n",
    "    plt.plot(combined_pivot['Year'].values, combined_pivot[col].values, label=col, linestyle='--')\n",
    "\n",
    "# Add a vertical solid black line for the pandemic start\n",
    "plt.axvline(x=2020, color='black', linestyle='-', linewidth=2, label='Pandemic Start')\n",
    "\n",
    "# Add text annotation at the bottom\n",
    "plt.text(2020, plt.ylim()[0] + (plt.ylim()[1] - plt.ylim()[0]) * 0.02, 'Pandemic Start', color='black', fontsize=12, ha='center', va='bottom')\n",
    "\n",
    "plt.xlabel('Year')\n",
    "plt.ylabel('Total Funding (in thousands)')\n",
    "plt.title('Total Funding for Elementary and Postsecondary Programs by Party Over Time')\n",
    "plt.legend(title='Funding Type')\n",
    "plt.grid(True)\n",
    "plt.gca().yaxis.set_major_formatter(FuncFormatter(thousands))\n",
    "plt.show()\n"
   ]
  },
  {
   "cell_type": "code",
   "execution_count": 27,
   "id": "a3d20b03",
   "metadata": {},
   "outputs": [
    {
     "data": {
      "image/png": "[encoded data removed]",
      "text/plain": [
       "<Figure size 864x576 with 1 Axes>"
      ]
     },
     "metadata": {
      "needs_background": "light"
     },
     "output_type": "display_data"
    }
   ],
   "source": [
    "president_data = pd.DataFrame({\n",
    "    'Year': [2000, 2010, 2014, 2015, 2016, 2017, 2018, 2019, 2020, 2021, 2022],\n",
    "    'President': [\n",
    "        'Clinton',  # 2000 - Bill Clinton\n",
    "        'Obama',    # 2010 - Barack Obama\n",
    "        'Obama',    # 2014 - Barack Obama\n",
    "        'Obama',    # 2015 - Barack Obama\n",
    "        'Obama',    # 2016 - Barack Obama\n",
    "        'Trump',    # 2017 - Donald Trump\n",
    "        'Trump',    # 2018 - Donald Trump\n",
    "        'Trump',    # 2019 - Donald Trump\n",
    "        'Trump',    # 2020 - Donald Trump\n",
    "        'Biden',    # 2021 - Joe Biden\n",
    "        'Biden'     # 2022 - Joe Biden\n",
    "    ],\n",
    "    'Party': [\n",
    "        'Democrat', # Clinton\n",
    "        'Democrat', # Obama\n",
    "        'Democrat', # Obama\n",
    "        'Democrat', # Obama\n",
    "        'Democrat', # Obama\n",
    "        'Republican', # Trump\n",
    "        'Republican', # Trump\n",
    "        'Republican', # Trump\n",
    "        'Republican', # Trump\n",
    "        'Democrat', # Biden\n",
    "        'Democrat'  # Biden\n",
    "    ]\n",
    "})\n",
    "\n",
    "# Ensure 'Year' column is in numeric format in both DataFrames\n",
    "elemenfund['Year'] = pd.to_numeric(elemenfund['Year'], errors='coerce')\n",
    "president_data['Year'] = pd.to_numeric(president_data['Year'], errors='coerce')\n",
    "\n",
    "# Merge the two DataFrames on 'Year'\n",
    "merged_data = pd.merge(elemenfund, president_data, on='Year')\n",
    "\n",
    "# Aggregate data: Sum of funding by Year and Party\n",
    "aggregated_data = merged_data.groupby(['Year', 'Party'])['Funding'].sum().reset_index()\n",
    "\n",
    "# Pivot the data for better visualization\n",
    "pivot_data = aggregated_data.pivot(index='Year', columns='Party', values='Funding')\n",
    "\n",
    "\n",
    "plt.figure(figsize=(12, 8))\n",
    "sns.lineplot(data=pivot_data, markers=True)\n",
    "plt.xlabel('Year')\n",
    "plt.ylabel('Total Funding')\n",
    "plt.title('Total Elementary Level Program Funding by Party Over Time')\n",
    "plt.legend(title='Party')\n",
    "plt.grid(True)\n",
    "plt.show()"
   ]
  },
  {
   "cell_type": "code",
   "execution_count": 28,
   "id": "d9348668",
   "metadata": {},
   "outputs": [
    {
     "data": {
      "image/png": "[encoded data removed]",
      "text/plain": [
       "<Figure size 864x576 with 1 Axes>"
      ]
     },
     "metadata": {
      "needs_background": "light"
     },
     "output_type": "display_data"
    }
   ],
   "source": [
    "president_data = pd.DataFrame({\n",
    "    'Year': [2000, 2010, 2014, 2015, 2016, 2017, 2018, 2019, 2020, 2021, 2022],\n",
    "    'President': [\n",
    "        'Clinton',  # 2000 - Bill Clinton\n",
    "        'Obama',    # 2010 - Barack Obama\n",
    "        'Obama',    # 2014 - Barack Obama\n",
    "        'Obama',    # 2015 - Barack Obama\n",
    "        'Obama',    # 2016 - Barack Obama\n",
    "        'Trump',    # 2017 - Donald Trump\n",
    "        'Trump',    # 2018 - Donald Trump\n",
    "        'Trump',    # 2019 - Donald Trump\n",
    "        'Trump',    # 2020 - Donald Trump\n",
    "        'Biden',    # 2021 - Joe Biden\n",
    "        'Biden'     # 2022 - Joe Biden\n",
    "    ],\n",
    "    'Party': [\n",
    "        'Democrat', # Clinton\n",
    "        'Democrat', # Obama\n",
    "        'Democrat', # Obama\n",
    "        'Democrat', # Obama\n",
    "        'Democrat', # Obama\n",
    "        'Republican', # Trump\n",
    "        'Republican', # Trump\n",
    "        'Republican', # Trump\n",
    "        'Republican', # Trump\n",
    "        'Democrat', # Biden\n",
    "        'Democrat'  # Biden\n",
    "    ]\n",
    "})\n",
    "\n",
    "# Ensure 'Year' column is in numeric format in both DataFrames\n",
    "postfund['Year'] = pd.to_numeric(postfund['Year'], errors='coerce')\n",
    "president_data['Year'] = pd.to_numeric(president_data['Year'], errors='coerce')\n",
    "\n",
    "# Merge the two DataFrames on 'Year'\n",
    "merged_data = pd.merge(elemenfund, president_data, on='Year')\n",
    "\n",
    "# Aggregate data: Sum of funding by Year and Party\n",
    "aggregated_data = merged_data.groupby(['Year', 'Party'])['Funding'].sum().reset_index()\n",
    "\n",
    "# Pivot the data for better visualization\n",
    "pivot_data = aggregated_data.pivot(index='Year', columns='Party', values='Funding')\n",
    "\n",
    "\n",
    "plt.figure(figsize=(12, 8))\n",
    "sns.lineplot(data=pivot_data, markers=True)\n",
    "plt.xlabel('Year')\n",
    "plt.ylabel('Total Funding')\n",
    "plt.title('Total Postsecondary Level Program Funding by Party Over Time')\n",
    "plt.legend(title='Party')\n",
    "plt.grid(True)\n",
    "plt.show()"
   ]
  },
  {
   "cell_type": "code",
   "execution_count": 29,
   "id": "215172cf",
   "metadata": {},
   "outputs": [
    {
     "name": "stdout",
     "output_type": "stream",
     "text": [
      "                              Elementary Level Program    Year     Funding  \\\n",
      "0                              Department of Education  2000.0  20039563.0   \n",
      "1                      Education for the disadvantaged  2000.0   8529111.0   \n",
      "2                                   Impact aid program  2000.0    877101.0   \n",
      "3                          School improvement programs  2000.0   2549971.0   \n",
      "4                                     Indian education  2000.0     65285.0   \n",
      "..                                                 ...     ...         ...   \n",
      "634                     Social Security Administration  2022.0   1168000.0   \n",
      "635                   Social Security student benefits  2022.0   1168000.0   \n",
      "637  Estimated education share of federal aid to th...  2022.0    221666.0   \n",
      "9                                                  NaN     NaN         NaN   \n",
      "10                                                 NaN     NaN         NaN   \n",
      "\n",
      "       logfund  Funding_standardized President  \n",
      "0    16.813219              1.074498   Clinton  \n",
      "1    15.958996              0.266123     Obama  \n",
      "2    13.684377             -0.271276     Obama  \n",
      "3    14.751593             -0.153791     Obama  \n",
      "4    11.086518             -0.328289     Obama  \n",
      "..         ...                   ...       ...  \n",
      "634  13.970803             -0.250846       NaN  \n",
      "635  13.970803             -0.250846       NaN  \n",
      "637  12.308927             -0.317307       NaN  \n",
      "9          NaN                   NaN     Biden  \n",
      "10         NaN                   NaN     Biden  \n",
      "\n",
      "[460 rows x 6 columns]\n"
     ]
    }
   ],
   "source": [
    "#Combining Elementary Level Funding Data Set with Presidential Data Set\n",
    "combined_data = pd.concat([elemenfund, president_data['President']], axis=1)\n",
    "\n",
    "print(combined_data)"
   ]
  },
  {
   "cell_type": "code",
   "execution_count": 53,
   "id": "1eb6501f",
   "metadata": {},
   "outputs": [],
   "source": [
    "top_programs = postfund.groupby('Postsecondary Level')['Funding'].sum().nlargest(8).index\n",
    "filtered_data = postfund[postfund['Postsecondary Level'].isin(top_programs)]"
   ]
  },
  {
   "cell_type": "code",
   "execution_count": 32,
   "id": "a0e9cf22",
   "metadata": {},
   "outputs": [
    {
     "data": {
      "application/vnd.plotly.v1+json": {
       "config": {
        "plotlyServerURL": "https://plot.ly"
       },
       "data": [
        {
         "customdata": [
          [
           "Department of Education"
          ],
          [
           "Direct Loan Program"
          ],
          [
           " Student financial assistance"
          ],
          [
           "Department of Health and Human Services "
          ],
          [
           " Medicare medical education benefits"
          ],
          [
           "  Department of Veterans Affairs"
          ],
          [
           "Post-9/11 GI Bill"
          ],
          [
           "Federal Family Education Loan (FFEL) Program"
          ],
          [
           "Other"
          ]
         ],
         "domain": {
          "x": [
           0,
           1
          ],
          "y": [
           0,
           1
          ]
         },
         "hovertemplate": "Postsecondary Level=%{customdata[0]}<br>Funding=%{value}<extra></extra>",
         "labels": [
          "Department of Education",
          "Direct Loan Program",
          " Student financial assistance",
          "Department of Health and Human Services ",
          " Medicare medical education benefits",
          "  Department of Veterans Affairs",
          "Post-9/11 GI Bill",
          "Federal Family Education Loan (FFEL) Program",
          "Other"
         ],
         "legendgroup": "",
         "marker": {
          "colors": [
           "rgb(228,26,28)",
           "rgb(55,126,184)",
           "rgb(77,175,74)",
           "rgb(152,78,163)",
           "rgb(255,127,0)",
           "rgb(255,255,51)",
           "rgb(166,86,40)",
           "rgb(247,129,191)",
           "rgb(153,153,153)"
          ]
         },
         "name": "",
         "showlegend": true,
         "type": "pie",
         "values": [
          1332278063,
          829751987,
          310695180,
          158780211,
          142130000,
          116655861,
          102194486,
          87504500,
          251412516
         ]
        }
       ],
       "layout": {
        "legend": {
         "tracegroupgap": 0
        },
        "margin": {
         "b": 50,
         "l": 50,
         "r": 50,
         "t": 80
        },
        "paper_bgcolor": "rgb(255, 255, 255)",
        "piecolorway": [
         "rgb(228,26,28)",
         "rgb(55,126,184)",
         "rgb(77,175,74)",
         "rgb(152,78,163)",
         "rgb(255,127,0)",
         "rgb(255,255,51)",
         "rgb(166,86,40)",
         "rgb(247,129,191)",
         "rgb(153,153,153)"
        ],
        "plot_bgcolor": "rgb(242, 242, 242)",
        "template": {
         "data": {
          "bar": [
           {
            "error_x": {
             "color": "#2a3f5f"
            },
            "error_y": {
             "color": "#2a3f5f"
            },
            "marker": {
             "line": {
              "color": "white",
              "width": 0.5
             },
             "pattern": {
              "fillmode": "overlay",
              "size": 10,
              "solidity": 0.2
             }
            },
            "type": "bar"
           }
          ],
          "barpolar": [
           {
            "marker": {
             "line": {
              "color": "white",
              "width": 0.5
             },
             "pattern": {
              "fillmode": "overlay",
              "size": 10,
              "solidity": 0.2
             }
            },
            "type": "barpolar"
           }
          ],
          "carpet": [
           {
            "aaxis": {
             "endlinecolor": "#2a3f5f",
             "gridcolor": "#C8D4E3",
             "linecolor": "#C8D4E3",
             "minorgridcolor": "#C8D4E3",
             "startlinecolor": "#2a3f5f"
            },
            "baxis": {
             "endlinecolor": "#2a3f5f",
             "gridcolor": "#C8D4E3",
             "linecolor": "#C8D4E3",
             "minorgridcolor": "#C8D4E3",
             "startlinecolor": "#2a3f5f"
            },
            "type": "carpet"
           }
          ],
          "choropleth": [
           {
            "colorbar": {
             "outlinewidth": 0,
             "ticks": ""
            },
            "type": "choropleth"
           }
          ],
          "contour": [
           {
            "colorbar": {
             "outlinewidth": 0,
             "ticks": ""
            },
            "colorscale": [
             [
              0,
              "#0d0887"
             ],
             [
              0.1111111111111111,
              "#46039f"
             ],
             [
              0.2222222222222222,
              "#7201a8"
             ],
             [
              0.3333333333333333,
              "#9c179e"
             ],
             [
              0.4444444444444444,
              "#bd3786"
             ],
             [
              0.5555555555555556,
              "#d8576b"
             ],
             [
              0.6666666666666666,
              "#ed7953"
             ],
             [
              0.7777777777777778,
              "#fb9f3a"
             ],
             [
              0.8888888888888888,
              "#fdca26"
             ],
             [
              1,
              "#f0f921"
             ]
            ],
            "type": "contour"
           }
          ],
          "contourcarpet": [
           {
            "colorbar": {
             "outlinewidth": 0,
             "ticks": ""
            },
            "type": "contourcarpet"
           }
          ],
          "heatmap": [
           {
            "colorbar": {
             "outlinewidth": 0,
             "ticks": ""
            },
            "colorscale": [
             [
              0,
              "#0d0887"
             ],
             [
              0.1111111111111111,
              "#46039f"
             ],
             [
              0.2222222222222222,
              "#7201a8"
             ],
             [
              0.3333333333333333,
              "#9c179e"
             ],
             [
              0.4444444444444444,
              "#bd3786"
             ],
             [
              0.5555555555555556,
              "#d8576b"
             ],
             [
              0.6666666666666666,
              "#ed7953"
             ],
             [
              0.7777777777777778,
              "#fb9f3a"
             ],
             [
              0.8888888888888888,
              "#fdca26"
             ],
             [
              1,
              "#f0f921"
             ]
            ],
            "type": "heatmap"
           }
          ],
          "heatmapgl": [
           {
            "colorbar": {
             "outlinewidth": 0,
             "ticks": ""
            },
            "colorscale": [
             [
              0,
              "#0d0887"
             ],
             [
              0.1111111111111111,
              "#46039f"
             ],
             [
              0.2222222222222222,
              "#7201a8"
             ],
             [
              0.3333333333333333,
              "#9c179e"
             ],
             [
              0.4444444444444444,
              "#bd3786"
             ],
             [
              0.5555555555555556,
              "#d8576b"
             ],
             [
              0.6666666666666666,
              "#ed7953"
             ],
             [
              0.7777777777777778,
              "#fb9f3a"
             ],
             [
              0.8888888888888888,
              "#fdca26"
             ],
             [
              1,
              "#f0f921"
             ]
            ],
            "type": "heatmapgl"
           }
          ],
          "histogram": [
           {
            "marker": {
             "pattern": {
              "fillmode": "overlay",
              "size": 10,
              "solidity": 0.2
             }
            },
            "type": "histogram"
           }
          ],
          "histogram2d": [
           {
            "colorbar": {
             "outlinewidth": 0,
             "ticks": ""
            },
            "colorscale": [
             [
              0,
              "#0d0887"
             ],
             [
              0.1111111111111111,
              "#46039f"
             ],
             [
              0.2222222222222222,
              "#7201a8"
             ],
             [
              0.3333333333333333,
              "#9c179e"
             ],
             [
              0.4444444444444444,
              "#bd3786"
             ],
             [
              0.5555555555555556,
              "#d8576b"
             ],
             [
              0.6666666666666666,
              "#ed7953"
             ],
             [
              0.7777777777777778,
              "#fb9f3a"
             ],
             [
              0.8888888888888888,
              "#fdca26"
             ],
             [
              1,
              "#f0f921"
             ]
            ],
            "type": "histogram2d"
           }
          ],
          "histogram2dcontour": [
           {
            "colorbar": {
             "outlinewidth": 0,
             "ticks": ""
            },
            "colorscale": [
             [
              0,
              "#0d0887"
             ],
             [
              0.1111111111111111,
              "#46039f"
             ],
             [
              0.2222222222222222,
              "#7201a8"
             ],
             [
              0.3333333333333333,
              "#9c179e"
             ],
             [
              0.4444444444444444,
              "#bd3786"
             ],
             [
              0.5555555555555556,
              "#d8576b"
             ],
             [
              0.6666666666666666,
              "#ed7953"
             ],
             [
              0.7777777777777778,
              "#fb9f3a"
             ],
             [
              0.8888888888888888,
              "#fdca26"
             ],
             [
              1,
              "#f0f921"
             ]
            ],
            "type": "histogram2dcontour"
           }
          ],
          "mesh3d": [
           {
            "colorbar": {
             "outlinewidth": 0,
             "ticks": ""
            },
            "type": "mesh3d"
           }
          ],
          "parcoords": [
           {
            "line": {
             "colorbar": {
              "outlinewidth": 0,
              "ticks": ""
             }
            },
            "type": "parcoords"
           }
          ],
          "pie": [
           {
            "automargin": true,
            "type": "pie"
           }
          ],
          "scatter": [
           {
            "fillpattern": {
             "fillmode": "overlay",
             "size": 10,
             "solidity": 0.2
            },
            "type": "scatter"
           }
          ],
          "scatter3d": [
           {
            "line": {
             "colorbar": {
              "outlinewidth": 0,
              "ticks": ""
             }
            },
            "marker": {
             "colorbar": {
              "outlinewidth": 0,
              "ticks": ""
             }
            },
            "type": "scatter3d"
           }
          ],
          "scattercarpet": [
           {
            "marker": {
             "colorbar": {
              "outlinewidth": 0,
              "ticks": ""
             }
            },
            "type": "scattercarpet"
           }
          ],
          "scattergeo": [
           {
            "marker": {
             "colorbar": {
              "outlinewidth": 0,
              "ticks": ""
             }
            },
            "type": "scattergeo"
           }
          ],
          "scattergl": [
           {
            "marker": {
             "colorbar": {
              "outlinewidth": 0,
              "ticks": ""
             }
            },
            "type": "scattergl"
           }
          ],
          "scattermapbox": [
           {
            "marker": {
             "colorbar": {
              "outlinewidth": 0,
              "ticks": ""
             }
            },
            "type": "scattermapbox"
           }
          ],
          "scatterpolar": [
           {
            "marker": {
             "colorbar": {
              "outlinewidth": 0,
              "ticks": ""
             }
            },
            "type": "scatterpolar"
           }
          ],
          "scatterpolargl": [
           {
            "marker": {
             "colorbar": {
              "outlinewidth": 0,
              "ticks": ""
             }
            },
            "type": "scatterpolargl"
           }
          ],
          "scatterternary": [
           {
            "marker": {
             "colorbar": {
              "outlinewidth": 0,
              "ticks": ""
             }
            },
            "type": "scatterternary"
           }
          ],
          "surface": [
           {
            "colorbar": {
             "outlinewidth": 0,
             "ticks": ""
            },
            "colorscale": [
             [
              0,
              "#0d0887"
             ],
             [
              0.1111111111111111,
              "#46039f"
             ],
             [
              0.2222222222222222,
              "#7201a8"
             ],
             [
              0.3333333333333333,
              "#9c179e"
             ],
             [
              0.4444444444444444,
              "#bd3786"
             ],
             [
              0.5555555555555556,
              "#d8576b"
             ],
             [
              0.6666666666666666,
              "#ed7953"
             ],
             [
              0.7777777777777778,
              "#fb9f3a"
             ],
             [
              0.8888888888888888,
              "#fdca26"
             ],
             [
              1,
              "#f0f921"
             ]
            ],
            "type": "surface"
           }
          ],
          "table": [
           {
            "cells": {
             "fill": {
              "color": "#EBF0F8"
             },
             "line": {
              "color": "white"
             }
            },
            "header": {
             "fill": {
              "color": "#C8D4E3"
             },
             "line": {
              "color": "white"
             }
            },
            "type": "table"
           }
          ]
         },
         "layout": {
          "annotationdefaults": {
           "arrowcolor": "#2a3f5f",
           "arrowhead": 0,
           "arrowwidth": 1
          },
          "autotypenumbers": "strict",
          "coloraxis": {
           "colorbar": {
            "outlinewidth": 0,
            "ticks": ""
           }
          },
          "colorscale": {
           "diverging": [
            [
             0,
             "#8e0152"
            ],
            [
             0.1,
             "#c51b7d"
            ],
            [
             0.2,
             "#de77ae"
            ],
            [
             0.3,
             "#f1b6da"
            ],
            [
             0.4,
             "#fde0ef"
            ],
            [
             0.5,
             "#f7f7f7"
            ],
            [
             0.6,
             "#e6f5d0"
            ],
            [
             0.7,
             "#b8e186"
            ],
            [
             0.8,
             "#7fbc41"
            ],
            [
             0.9,
             "#4d9221"
            ],
            [
             1,
             "#276419"
            ]
           ],
           "sequential": [
            [
             0,
             "#0d0887"
            ],
            [
             0.1111111111111111,
             "#46039f"
            ],
            [
             0.2222222222222222,
             "#7201a8"
            ],
            [
             0.3333333333333333,
             "#9c179e"
            ],
            [
             0.4444444444444444,
             "#bd3786"
            ],
            [
             0.5555555555555556,
             "#d8576b"
            ],
            [
             0.6666666666666666,
             "#ed7953"
            ],
            [
             0.7777777777777778,
             "#fb9f3a"
            ],
            [
             0.8888888888888888,
             "#fdca26"
            ],
            [
             1,
             "#f0f921"
            ]
           ],
           "sequentialminus": [
            [
             0,
             "#0d0887"
            ],
            [
             0.1111111111111111,
             "#46039f"
            ],
            [
             0.2222222222222222,
             "#7201a8"
            ],
            [
             0.3333333333333333,
             "#9c179e"
            ],
            [
             0.4444444444444444,
             "#bd3786"
            ],
            [
             0.5555555555555556,
             "#d8576b"
            ],
            [
             0.6666666666666666,
             "#ed7953"
            ],
            [
             0.7777777777777778,
             "#fb9f3a"
            ],
            [
             0.8888888888888888,
             "#fdca26"
            ],
            [
             1,
             "#f0f921"
            ]
           ]
          },
          "colorway": [
           "#636efa",
           "#EF553B",
           "#00cc96",
           "#ab63fa",
           "#FFA15A",
           "#19d3f3",
           "#FF6692",
           "#B6E880",
           "#FF97FF",
           "#FECB52"
          ],
          "font": {
           "color": "#2a3f5f"
          },
          "geo": {
           "bgcolor": "white",
           "lakecolor": "white",
           "landcolor": "white",
           "showlakes": true,
           "showland": true,
           "subunitcolor": "#C8D4E3"
          },
          "hoverlabel": {
           "align": "left"
          },
          "hovermode": "closest",
          "mapbox": {
           "style": "light"
          },
          "paper_bgcolor": "white",
          "plot_bgcolor": "white",
          "polar": {
           "angularaxis": {
            "gridcolor": "#EBF0F8",
            "linecolor": "#EBF0F8",
            "ticks": ""
           },
           "bgcolor": "white",
           "radialaxis": {
            "gridcolor": "#EBF0F8",
            "linecolor": "#EBF0F8",
            "ticks": ""
           }
          },
          "scene": {
           "xaxis": {
            "backgroundcolor": "white",
            "gridcolor": "#DFE8F3",
            "gridwidth": 2,
            "linecolor": "#EBF0F8",
            "showbackground": true,
            "ticks": "",
            "zerolinecolor": "#EBF0F8"
           },
           "yaxis": {
            "backgroundcolor": "white",
            "gridcolor": "#DFE8F3",
            "gridwidth": 2,
            "linecolor": "#EBF0F8",
            "showbackground": true,
            "ticks": "",
            "zerolinecolor": "#EBF0F8"
           },
           "zaxis": {
            "backgroundcolor": "white",
            "gridcolor": "#DFE8F3",
            "gridwidth": 2,
            "linecolor": "#EBF0F8",
            "showbackground": true,
            "ticks": "",
            "zerolinecolor": "#EBF0F8"
           }
          },
          "shapedefaults": {
           "line": {
            "color": "#2a3f5f"
           }
          },
          "ternary": {
           "aaxis": {
            "gridcolor": "#DFE8F3",
            "linecolor": "#A2B1C6",
            "ticks": ""
           },
           "baxis": {
            "gridcolor": "#DFE8F3",
            "linecolor": "#A2B1C6",
            "ticks": ""
           },
           "bgcolor": "white",
           "caxis": {
            "gridcolor": "#DFE8F3",
            "linecolor": "#A2B1C6",
            "ticks": ""
           }
          },
          "title": {
           "x": 0.05
          },
          "xaxis": {
           "automargin": true,
           "gridcolor": "#EBF0F8",
           "linecolor": "#EBF0F8",
           "ticks": "",
           "title": {
            "standoff": 15
           },
           "zerolinecolor": "#EBF0F8",
           "zerolinewidth": 2
          },
          "yaxis": {
           "automargin": true,
           "gridcolor": "#EBF0F8",
           "linecolor": "#EBF0F8",
           "ticks": "",
           "title": {
            "standoff": 15
           },
           "zerolinecolor": "#EBF0F8",
           "zerolinewidth": 2
          }
         }
        },
        "title": {
         "font": {
          "color": "RebeccaPurple",
          "family": "Arial",
          "size": 24
         },
         "text": "Funding Distribution for Top 8 Postsecondary Level Programs"
        }
       }
      },
      "text/html": [
       "<div>                            <div id=\"ff36954f-8319-4281-a7b4-2e50619a043a\" class=\"plotly-graph-div\" style=\"height:525px; width:100%;\"></div>            <script type=\"text/javascript\">                require([\"plotly\"], function(Plotly) {                    window.PLOTLYENV=window.PLOTLYENV || {};                                    if (document.getElementById(\"ff36954f-8319-4281-a7b4-2e50619a043a\")) {                    Plotly.newPlot(                        \"ff36954f-8319-4281-a7b4-2e50619a043a\",                        [{\"customdata\":[[\"Department of Education\"],[\"Direct Loan Program\"],[\" Student financial assistance\"],[\"Department of Health and Human Services \"],[\" Medicare medical education benefits\"],[\"  Department of Veterans Affairs\"],[\"Post-9\\u002f11 GI Bill\"],[\"Federal Family Education Loan (FFEL) Program\"],[\"Other\"]],\"domain\":{\"x\":[0.0,1.0],\"y\":[0.0,1.0]},\"hovertemplate\":\"Postsecondary Level=%{customdata[0]}\\u003cbr\\u003eFunding=%{value}\\u003cextra\\u003e\\u003c\\u002fextra\\u003e\",\"labels\":[\"Department of Education\",\"Direct Loan Program\",\" Student financial assistance\",\"Department of Health and Human Services \",\" Medicare medical education benefits\",\"  Department of Veterans Affairs\",\"Post-9\\u002f11 GI Bill\",\"Federal Family Education Loan (FFEL) Program\",\"Other\"],\"legendgroup\":\"\",\"marker\":{\"colors\":[\"rgb(228,26,28)\",\"rgb(55,126,184)\",\"rgb(77,175,74)\",\"rgb(152,78,163)\",\"rgb(255,127,0)\",\"rgb(255,255,51)\",\"rgb(166,86,40)\",\"rgb(247,129,191)\",\"rgb(153,153,153)\"]},\"name\":\"\",\"showlegend\":true,\"values\":[1332278063.0,829751987.0,310695180.0,158780211.0,142130000.0,116655861.0,102194486.0,87504500.0,251412516.0],\"type\":\"pie\"}],                        {\"template\":{\"data\":{\"barpolar\":[{\"marker\":{\"line\":{\"color\":\"white\",\"width\":0.5},\"pattern\":{\"fillmode\":\"overlay\",\"size\":10,\"solidity\":0.2}},\"type\":\"barpolar\"}],\"bar\":[{\"error_x\":{\"color\":\"#2a3f5f\"},\"error_y\":{\"color\":\"#2a3f5f\"},\"marker\":{\"line\":{\"color\":\"white\",\"width\":0.5},\"pattern\":{\"fillmode\":\"overlay\",\"size\":10,\"solidity\":0.2}},\"type\":\"bar\"}],\"carpet\":[{\"aaxis\":{\"endlinecolor\":\"#2a3f5f\",\"gridcolor\":\"#C8D4E3\",\"linecolor\":\"#C8D4E3\",\"minorgridcolor\":\"#C8D4E3\",\"startlinecolor\":\"#2a3f5f\"},\"baxis\":{\"endlinecolor\":\"#2a3f5f\",\"gridcolor\":\"#C8D4E3\",\"linecolor\":\"#C8D4E3\",\"minorgridcolor\":\"#C8D4E3\",\"startlinecolor\":\"#2a3f5f\"},\"type\":\"carpet\"}],\"choropleth\":[{\"colorbar\":{\"outlinewidth\":0,\"ticks\":\"\"},\"type\":\"choropleth\"}],\"contourcarpet\":[{\"colorbar\":{\"outlinewidth\":0,\"ticks\":\"\"},\"type\":\"contourcarpet\"}],\"contour\":[{\"colorbar\":{\"outlinewidth\":0,\"ticks\":\"\"},\"colorscale\":[[0.0,\"#0d0887\"],[0.1111111111111111,\"#46039f\"],[0.2222222222222222,\"#7201a8\"],[0.3333333333333333,\"#9c179e\"],[0.4444444444444444,\"#bd3786\"],[0.5555555555555556,\"#d8576b\"],[0.6666666666666666,\"#ed7953\"],[0.7777777777777778,\"#fb9f3a\"],[0.8888888888888888,\"#fdca26\"],[1.0,\"#f0f921\"]],\"type\":\"contour\"}],\"heatmapgl\":[{\"colorbar\":{\"outlinewidth\":0,\"ticks\":\"\"},\"colorscale\":[[0.0,\"#0d0887\"],[0.1111111111111111,\"#46039f\"],[0.2222222222222222,\"#7201a8\"],[0.3333333333333333,\"#9c179e\"],[0.4444444444444444,\"#bd3786\"],[0.5555555555555556,\"#d8576b\"],[0.6666666666666666,\"#ed7953\"],[0.7777777777777778,\"#fb9f3a\"],[0.8888888888888888,\"#fdca26\"],[1.0,\"#f0f921\"]],\"type\":\"heatmapgl\"}],\"heatmap\":[{\"colorbar\":{\"outlinewidth\":0,\"ticks\":\"\"},\"colorscale\":[[0.0,\"#0d0887\"],[0.1111111111111111,\"#46039f\"],[0.2222222222222222,\"#7201a8\"],[0.3333333333333333,\"#9c179e\"],[0.4444444444444444,\"#bd3786\"],[0.5555555555555556,\"#d8576b\"],[0.6666666666666666,\"#ed7953\"],[0.7777777777777778,\"#fb9f3a\"],[0.8888888888888888,\"#fdca26\"],[1.0,\"#f0f921\"]],\"type\":\"heatmap\"}],\"histogram2dcontour\":[{\"colorbar\":{\"outlinewidth\":0,\"ticks\":\"\"},\"colorscale\":[[0.0,\"#0d0887\"],[0.1111111111111111,\"#46039f\"],[0.2222222222222222,\"#7201a8\"],[0.3333333333333333,\"#9c179e\"],[0.4444444444444444,\"#bd3786\"],[0.5555555555555556,\"#d8576b\"],[0.6666666666666666,\"#ed7953\"],[0.7777777777777778,\"#fb9f3a\"],[0.8888888888888888,\"#fdca26\"],[1.0,\"#f0f921\"]],\"type\":\"histogram2dcontour\"}],\"histogram2d\":[{\"colorbar\":{\"outlinewidth\":0,\"ticks\":\"\"},\"colorscale\":[[0.0,\"#0d0887\"],[0.1111111111111111,\"#46039f\"],[0.2222222222222222,\"#7201a8\"],[0.3333333333333333,\"#9c179e\"],[0.4444444444444444,\"#bd3786\"],[0.5555555555555556,\"#d8576b\"],[0.6666666666666666,\"#ed7953\"],[0.7777777777777778,\"#fb9f3a\"],[0.8888888888888888,\"#fdca26\"],[1.0,\"#f0f921\"]],\"type\":\"histogram2d\"}],\"histogram\":[{\"marker\":{\"pattern\":{\"fillmode\":\"overlay\",\"size\":10,\"solidity\":0.2}},\"type\":\"histogram\"}],\"mesh3d\":[{\"colorbar\":{\"outlinewidth\":0,\"ticks\":\"\"},\"type\":\"mesh3d\"}],\"parcoords\":[{\"line\":{\"colorbar\":{\"outlinewidth\":0,\"ticks\":\"\"}},\"type\":\"parcoords\"}],\"pie\":[{\"automargin\":true,\"type\":\"pie\"}],\"scatter3d\":[{\"line\":{\"colorbar\":{\"outlinewidth\":0,\"ticks\":\"\"}},\"marker\":{\"colorbar\":{\"outlinewidth\":0,\"ticks\":\"\"}},\"type\":\"scatter3d\"}],\"scattercarpet\":[{\"marker\":{\"colorbar\":{\"outlinewidth\":0,\"ticks\":\"\"}},\"type\":\"scattercarpet\"}],\"scattergeo\":[{\"marker\":{\"colorbar\":{\"outlinewidth\":0,\"ticks\":\"\"}},\"type\":\"scattergeo\"}],\"scattergl\":[{\"marker\":{\"colorbar\":{\"outlinewidth\":0,\"ticks\":\"\"}},\"type\":\"scattergl\"}],\"scattermapbox\":[{\"marker\":{\"colorbar\":{\"outlinewidth\":0,\"ticks\":\"\"}},\"type\":\"scattermapbox\"}],\"scatterpolargl\":[{\"marker\":{\"colorbar\":{\"outlinewidth\":0,\"ticks\":\"\"}},\"type\":\"scatterpolargl\"}],\"scatterpolar\":[{\"marker\":{\"colorbar\":{\"outlinewidth\":0,\"ticks\":\"\"}},\"type\":\"scatterpolar\"}],\"scatter\":[{\"fillpattern\":{\"fillmode\":\"overlay\",\"size\":10,\"solidity\":0.2},\"type\":\"scatter\"}],\"scatterternary\":[{\"marker\":{\"colorbar\":{\"outlinewidth\":0,\"ticks\":\"\"}},\"type\":\"scatterternary\"}],\"surface\":[{\"colorbar\":{\"outlinewidth\":0,\"ticks\":\"\"},\"colorscale\":[[0.0,\"#0d0887\"],[0.1111111111111111,\"#46039f\"],[0.2222222222222222,\"#7201a8\"],[0.3333333333333333,\"#9c179e\"],[0.4444444444444444,\"#bd3786\"],[0.5555555555555556,\"#d8576b\"],[0.6666666666666666,\"#ed7953\"],[0.7777777777777778,\"#fb9f3a\"],[0.8888888888888888,\"#fdca26\"],[1.0,\"#f0f921\"]],\"type\":\"surface\"}],\"table\":[{\"cells\":{\"fill\":{\"color\":\"#EBF0F8\"},\"line\":{\"color\":\"white\"}},\"header\":{\"fill\":{\"color\":\"#C8D4E3\"},\"line\":{\"color\":\"white\"}},\"type\":\"table\"}]},\"layout\":{\"annotationdefaults\":{\"arrowcolor\":\"#2a3f5f\",\"arrowhead\":0,\"arrowwidth\":1},\"autotypenumbers\":\"strict\",\"coloraxis\":{\"colorbar\":{\"outlinewidth\":0,\"ticks\":\"\"}},\"colorscale\":{\"diverging\":[[0,\"#8e0152\"],[0.1,\"#c51b7d\"],[0.2,\"#de77ae\"],[0.3,\"#f1b6da\"],[0.4,\"#fde0ef\"],[0.5,\"#f7f7f7\"],[0.6,\"#e6f5d0\"],[0.7,\"#b8e186\"],[0.8,\"#7fbc41\"],[0.9,\"#4d9221\"],[1,\"#276419\"]],\"sequential\":[[0.0,\"#0d0887\"],[0.1111111111111111,\"#46039f\"],[0.2222222222222222,\"#7201a8\"],[0.3333333333333333,\"#9c179e\"],[0.4444444444444444,\"#bd3786\"],[0.5555555555555556,\"#d8576b\"],[0.6666666666666666,\"#ed7953\"],[0.7777777777777778,\"#fb9f3a\"],[0.8888888888888888,\"#fdca26\"],[1.0,\"#f0f921\"]],\"sequentialminus\":[[0.0,\"#0d0887\"],[0.1111111111111111,\"#46039f\"],[0.2222222222222222,\"#7201a8\"],[0.3333333333333333,\"#9c179e\"],[0.4444444444444444,\"#bd3786\"],[0.5555555555555556,\"#d8576b\"],[0.6666666666666666,\"#ed7953\"],[0.7777777777777778,\"#fb9f3a\"],[0.8888888888888888,\"#fdca26\"],[1.0,\"#f0f921\"]]},\"colorway\":[\"#636efa\",\"#EF553B\",\"#00cc96\",\"#ab63fa\",\"#FFA15A\",\"#19d3f3\",\"#FF6692\",\"#B6E880\",\"#FF97FF\",\"#FECB52\"],\"font\":{\"color\":\"#2a3f5f\"},\"geo\":{\"bgcolor\":\"white\",\"lakecolor\":\"white\",\"landcolor\":\"white\",\"showlakes\":true,\"showland\":true,\"subunitcolor\":\"#C8D4E3\"},\"hoverlabel\":{\"align\":\"left\"},\"hovermode\":\"closest\",\"mapbox\":{\"style\":\"light\"},\"paper_bgcolor\":\"white\",\"plot_bgcolor\":\"white\",\"polar\":{\"angularaxis\":{\"gridcolor\":\"#EBF0F8\",\"linecolor\":\"#EBF0F8\",\"ticks\":\"\"},\"bgcolor\":\"white\",\"radialaxis\":{\"gridcolor\":\"#EBF0F8\",\"linecolor\":\"#EBF0F8\",\"ticks\":\"\"}},\"scene\":{\"xaxis\":{\"backgroundcolor\":\"white\",\"gridcolor\":\"#DFE8F3\",\"gridwidth\":2,\"linecolor\":\"#EBF0F8\",\"showbackground\":true,\"ticks\":\"\",\"zerolinecolor\":\"#EBF0F8\"},\"yaxis\":{\"backgroundcolor\":\"white\",\"gridcolor\":\"#DFE8F3\",\"gridwidth\":2,\"linecolor\":\"#EBF0F8\",\"showbackground\":true,\"ticks\":\"\",\"zerolinecolor\":\"#EBF0F8\"},\"zaxis\":{\"backgroundcolor\":\"white\",\"gridcolor\":\"#DFE8F3\",\"gridwidth\":2,\"linecolor\":\"#EBF0F8\",\"showbackground\":true,\"ticks\":\"\",\"zerolinecolor\":\"#EBF0F8\"}},\"shapedefaults\":{\"line\":{\"color\":\"#2a3f5f\"}},\"ternary\":{\"aaxis\":{\"gridcolor\":\"#DFE8F3\",\"linecolor\":\"#A2B1C6\",\"ticks\":\"\"},\"baxis\":{\"gridcolor\":\"#DFE8F3\",\"linecolor\":\"#A2B1C6\",\"ticks\":\"\"},\"bgcolor\":\"white\",\"caxis\":{\"gridcolor\":\"#DFE8F3\",\"linecolor\":\"#A2B1C6\",\"ticks\":\"\"}},\"title\":{\"x\":0.05},\"xaxis\":{\"automargin\":true,\"gridcolor\":\"#EBF0F8\",\"linecolor\":\"#EBF0F8\",\"ticks\":\"\",\"title\":{\"standoff\":15},\"zerolinecolor\":\"#EBF0F8\",\"zerolinewidth\":2},\"yaxis\":{\"automargin\":true,\"gridcolor\":\"#EBF0F8\",\"linecolor\":\"#EBF0F8\",\"ticks\":\"\",\"title\":{\"standoff\":15},\"zerolinecolor\":\"#EBF0F8\",\"zerolinewidth\":2}}},\"legend\":{\"tracegroupgap\":0},\"title\":{\"text\":\"Funding Distribution for Top 8 Postsecondary Level Programs\",\"font\":{\"size\":24,\"family\":\"Arial\",\"color\":\"RebeccaPurple\"}},\"piecolorway\":[\"rgb(228,26,28)\",\"rgb(55,126,184)\",\"rgb(77,175,74)\",\"rgb(152,78,163)\",\"rgb(255,127,0)\",\"rgb(255,255,51)\",\"rgb(166,86,40)\",\"rgb(247,129,191)\",\"rgb(153,153,153)\"],\"margin\":{\"l\":50,\"r\":50,\"t\":80,\"b\":50},\"paper_bgcolor\":\"rgb(255, 255, 255)\",\"plot_bgcolor\":\"rgb(242, 242, 242)\"},                        {\"responsive\": true}                    ).then(function(){\n",
       "                            \n",
       "var gd = document.getElementById('ff36954f-8319-4281-a7b4-2e50619a043a');\n",
       "var x = new MutationObserver(function (mutations, observer) {{\n",
       "        var display = window.getComputedStyle(gd).display;\n",
       "        if (!display || display === 'none') {{\n",
       "            console.log([gd, 'removed!']);\n",
       "            Plotly.purge(gd);\n",
       "            observer.disconnect();\n",
       "        }}\n",
       "}});\n",
       "\n",
       "// Listen for the removal of the full notebook cells\n",
       "var notebookContainer = gd.closest('#notebook-container');\n",
       "if (notebookContainer) {{\n",
       "    x.observe(notebookContainer, {childList: true});\n",
       "}}\n",
       "\n",
       "// Listen for the clearing of the current output cell\n",
       "var outputEl = gd.closest('.output');\n",
       "if (outputEl) {{\n",
       "    x.observe(outputEl, {childList: true});\n",
       "}}\n",
       "\n",
       "                        })                };                });            </script>        </div>"
      ]
     },
     "metadata": {},
     "output_type": "display_data"
    }
   ],
   "source": [
    "program_funding = postfund.groupby('Postsecondary Level')['Funding'].sum()\n",
    "\n",
    "\n",
    "top_programs = program_funding.nlargest(8)\n",
    "\n",
    "\n",
    "other_funding = program_funding.sum() - top_programs.sum()\n",
    "\n",
    "# Create a new DataFrame with the top 8 programs and \"Other\"\n",
    "top_programs = pd.concat([top_programs, pd.Series(other_funding, index=['Other'])]).reset_index()\n",
    "top_programs.columns = ['Postsecondary Level', 'Funding']\n",
    "\n",
    "# Create the pie chart\n",
    "g = px.pie(\n",
    "    data_frame=top_programs,\n",
    "    names='Postsecondary Level',\n",
    "    values='Funding',\n",
    "    title='Funding Distribution for Top 8 Postsecondary Level Programs',\n",
    "    color='Postsecondary Level',\n",
    "    color_discrete_sequence=px.colors.qualitative.Set1,  # Use a qualitative color palette\n",
    "    template='plotly_white'\n",
    ")\n",
    "\n",
    "g.update_layout(\n",
    "    title_font=dict(size=24, family='Arial', color='RebeccaPurple'),\n",
    "    margin=dict(l=50, r=50, t=80, b=50),\n",
    "    paper_bgcolor='rgb(255, 255, 255)',  # Change background color\n",
    "    plot_bgcolor='rgb(242, 242, 242)'    # Change plot area color\n",
    ")\n",
    "\n",
    "\n",
    "g.show()"
   ]
  },
  {
   "cell_type": "code",
   "execution_count": 33,
   "id": "5d669bf0",
   "metadata": {},
   "outputs": [
    {
     "data": {
      "application/vnd.plotly.v1+json": {
       "config": {
        "plotlyServerURL": "https://plot.ly"
       },
       "data": [
        {
         "fillpattern": {
          "shape": ""
         },
         "hovertemplate": "Year=%{x}<br>Total Funding Amount=%{y}<extra></extra>",
         "legendgroup": "",
         "line": {
          "color": "#636efa"
         },
         "marker": {
          "symbol": "circle"
         },
         "mode": "lines",
         "name": "",
         "orientation": "v",
         "showlegend": false,
         "stackgroup": "1",
         "type": "scatter",
         "x": [
          2000,
          2010,
          2014,
          2015,
          2016,
          2017,
          2018,
          2019,
          2020,
          2021,
          2022
         ],
         "xaxis": "x",
         "y": [
          53054197,
          118908181,
          163016106,
          174420275,
          150678226,
          229019990,
          168079983,
          215901936,
          427872940,
          474496965,
          1155954005
         ],
         "yaxis": "y"
        }
       ],
       "layout": {
        "legend": {
         "tracegroupgap": 0
        },
        "margin": {
         "b": 50,
         "l": 50,
         "r": 50,
         "t": 80
        },
        "paper_bgcolor": "rgb(255, 255, 255)",
        "plot_bgcolor": "rgb(242, 242, 242)",
        "template": {
         "data": {
          "bar": [
           {
            "error_x": {
             "color": "#f2f5fa"
            },
            "error_y": {
             "color": "#f2f5fa"
            },
            "marker": {
             "line": {
              "color": "rgb(17,17,17)",
              "width": 0.5
             },
             "pattern": {
              "fillmode": "overlay",
              "size": 10,
              "solidity": 0.2
             }
            },
            "type": "bar"
           }
          ],
          "barpolar": [
           {
            "marker": {
             "line": {
              "color": "rgb(17,17,17)",
              "width": 0.5
             },
             "pattern": {
              "fillmode": "overlay",
              "size": 10,
              "solidity": 0.2
             }
            },
            "type": "barpolar"
           }
          ],
          "carpet": [
           {
            "aaxis": {
             "endlinecolor": "#A2B1C6",
             "gridcolor": "#506784",
             "linecolor": "#506784",
             "minorgridcolor": "#506784",
             "startlinecolor": "#A2B1C6"
            },
            "baxis": {
             "endlinecolor": "#A2B1C6",
             "gridcolor": "#506784",
             "linecolor": "#506784",
             "minorgridcolor": "#506784",
             "startlinecolor": "#A2B1C6"
            },
            "type": "carpet"
           }
          ],
          "choropleth": [
           {
            "colorbar": {
             "outlinewidth": 0,
             "ticks": ""
            },
            "type": "choropleth"
           }
          ],
          "contour": [
           {
            "colorbar": {
             "outlinewidth": 0,
             "ticks": ""
            },
            "colorscale": [
             [
              0,
              "#0d0887"
             ],
             [
              0.1111111111111111,
              "#46039f"
             ],
             [
              0.2222222222222222,
              "#7201a8"
             ],
             [
              0.3333333333333333,
              "#9c179e"
             ],
             [
              0.4444444444444444,
              "#bd3786"
             ],
             [
              0.5555555555555556,
              "#d8576b"
             ],
             [
              0.6666666666666666,
              "#ed7953"
             ],
             [
              0.7777777777777778,
              "#fb9f3a"
             ],
             [
              0.8888888888888888,
              "#fdca26"
             ],
             [
              1,
              "#f0f921"
             ]
            ],
            "type": "contour"
           }
          ],
          "contourcarpet": [
           {
            "colorbar": {
             "outlinewidth": 0,
             "ticks": ""
            },
            "type": "contourcarpet"
           }
          ],
          "heatmap": [
           {
            "colorbar": {
             "outlinewidth": 0,
             "ticks": ""
            },
            "colorscale": [
             [
              0,
              "#0d0887"
             ],
             [
              0.1111111111111111,
              "#46039f"
             ],
             [
              0.2222222222222222,
              "#7201a8"
             ],
             [
              0.3333333333333333,
              "#9c179e"
             ],
             [
              0.4444444444444444,
              "#bd3786"
             ],
             [
              0.5555555555555556,
              "#d8576b"
             ],
             [
              0.6666666666666666,
              "#ed7953"
             ],
             [
              0.7777777777777778,
              "#fb9f3a"
             ],
             [
              0.8888888888888888,
              "#fdca26"
             ],
             [
              1,
              "#f0f921"
             ]
            ],
            "type": "heatmap"
           }
          ],
          "heatmapgl": [
           {
            "colorbar": {
             "outlinewidth": 0,
             "ticks": ""
            },
            "colorscale": [
             [
              0,
              "#0d0887"
             ],
             [
              0.1111111111111111,
              "#46039f"
             ],
             [
              0.2222222222222222,
              "#7201a8"
             ],
             [
              0.3333333333333333,
              "#9c179e"
             ],
             [
              0.4444444444444444,
              "#bd3786"
             ],
             [
              0.5555555555555556,
              "#d8576b"
             ],
             [
              0.6666666666666666,
              "#ed7953"
             ],
             [
              0.7777777777777778,
              "#fb9f3a"
             ],
             [
              0.8888888888888888,
              "#fdca26"
             ],
             [
              1,
              "#f0f921"
             ]
            ],
            "type": "heatmapgl"
           }
          ],
          "histogram": [
           {
            "marker": {
             "pattern": {
              "fillmode": "overlay",
              "size": 10,
              "solidity": 0.2
             }
            },
            "type": "histogram"
           }
          ],
          "histogram2d": [
           {
            "colorbar": {
             "outlinewidth": 0,
             "ticks": ""
            },
            "colorscale": [
             [
              0,
              "#0d0887"
             ],
             [
              0.1111111111111111,
              "#46039f"
             ],
             [
              0.2222222222222222,
              "#7201a8"
             ],
             [
              0.3333333333333333,
              "#9c179e"
             ],
             [
              0.4444444444444444,
              "#bd3786"
             ],
             [
              0.5555555555555556,
              "#d8576b"
             ],
             [
              0.6666666666666666,
              "#ed7953"
             ],
             [
              0.7777777777777778,
              "#fb9f3a"
             ],
             [
              0.8888888888888888,
              "#fdca26"
             ],
             [
              1,
              "#f0f921"
             ]
            ],
            "type": "histogram2d"
           }
          ],
          "histogram2dcontour": [
           {
            "colorbar": {
             "outlinewidth": 0,
             "ticks": ""
            },
            "colorscale": [
             [
              0,
              "#0d0887"
             ],
             [
              0.1111111111111111,
              "#46039f"
             ],
             [
              0.2222222222222222,
              "#7201a8"
             ],
             [
              0.3333333333333333,
              "#9c179e"
             ],
             [
              0.4444444444444444,
              "#bd3786"
             ],
             [
              0.5555555555555556,
              "#d8576b"
             ],
             [
              0.6666666666666666,
              "#ed7953"
             ],
             [
              0.7777777777777778,
              "#fb9f3a"
             ],
             [
              0.8888888888888888,
              "#fdca26"
             ],
             [
              1,
              "#f0f921"
             ]
            ],
            "type": "histogram2dcontour"
           }
          ],
          "mesh3d": [
           {
            "colorbar": {
             "outlinewidth": 0,
             "ticks": ""
            },
            "type": "mesh3d"
           }
          ],
          "parcoords": [
           {
            "line": {
             "colorbar": {
              "outlinewidth": 0,
              "ticks": ""
             }
            },
            "type": "parcoords"
           }
          ],
          "pie": [
           {
            "automargin": true,
            "type": "pie"
           }
          ],
          "scatter": [
           {
            "marker": {
             "line": {
              "color": "#283442"
             }
            },
            "type": "scatter"
           }
          ],
          "scatter3d": [
           {
            "line": {
             "colorbar": {
              "outlinewidth": 0,
              "ticks": ""
             }
            },
            "marker": {
             "colorbar": {
              "outlinewidth": 0,
              "ticks": ""
             }
            },
            "type": "scatter3d"
           }
          ],
          "scattercarpet": [
           {
            "marker": {
             "colorbar": {
              "outlinewidth": 0,
              "ticks": ""
             }
            },
            "type": "scattercarpet"
           }
          ],
          "scattergeo": [
           {
            "marker": {
             "colorbar": {
              "outlinewidth": 0,
              "ticks": ""
             }
            },
            "type": "scattergeo"
           }
          ],
          "scattergl": [
           {
            "marker": {
             "line": {
              "color": "#283442"
             }
            },
            "type": "scattergl"
           }
          ],
          "scattermapbox": [
           {
            "marker": {
             "colorbar": {
              "outlinewidth": 0,
              "ticks": ""
             }
            },
            "type": "scattermapbox"
           }
          ],
          "scatterpolar": [
           {
            "marker": {
             "colorbar": {
              "outlinewidth": 0,
              "ticks": ""
             }
            },
            "type": "scatterpolar"
           }
          ],
          "scatterpolargl": [
           {
            "marker": {
             "colorbar": {
              "outlinewidth": 0,
              "ticks": ""
             }
            },
            "type": "scatterpolargl"
           }
          ],
          "scatterternary": [
           {
            "marker": {
             "colorbar": {
              "outlinewidth": 0,
              "ticks": ""
             }
            },
            "type": "scatterternary"
           }
          ],
          "surface": [
           {
            "colorbar": {
             "outlinewidth": 0,
             "ticks": ""
            },
            "colorscale": [
             [
              0,
              "#0d0887"
             ],
             [
              0.1111111111111111,
              "#46039f"
             ],
             [
              0.2222222222222222,
              "#7201a8"
             ],
             [
              0.3333333333333333,
              "#9c179e"
             ],
             [
              0.4444444444444444,
              "#bd3786"
             ],
             [
              0.5555555555555556,
              "#d8576b"
             ],
             [
              0.6666666666666666,
              "#ed7953"
             ],
             [
              0.7777777777777778,
              "#fb9f3a"
             ],
             [
              0.8888888888888888,
              "#fdca26"
             ],
             [
              1,
              "#f0f921"
             ]
            ],
            "type": "surface"
           }
          ],
          "table": [
           {
            "cells": {
             "fill": {
              "color": "#506784"
             },
             "line": {
              "color": "rgb(17,17,17)"
             }
            },
            "header": {
             "fill": {
              "color": "#2a3f5f"
             },
             "line": {
              "color": "rgb(17,17,17)"
             }
            },
            "type": "table"
           }
          ]
         },
         "layout": {
          "annotationdefaults": {
           "arrowcolor": "#f2f5fa",
           "arrowhead": 0,
           "arrowwidth": 1
          },
          "autotypenumbers": "strict",
          "coloraxis": {
           "colorbar": {
            "outlinewidth": 0,
            "ticks": ""
           }
          },
          "colorscale": {
           "diverging": [
            [
             0,
             "#8e0152"
            ],
            [
             0.1,
             "#c51b7d"
            ],
            [
             0.2,
             "#de77ae"
            ],
            [
             0.3,
             "#f1b6da"
            ],
            [
             0.4,
             "#fde0ef"
            ],
            [
             0.5,
             "#f7f7f7"
            ],
            [
             0.6,
             "#e6f5d0"
            ],
            [
             0.7,
             "#b8e186"
            ],
            [
             0.8,
             "#7fbc41"
            ],
            [
             0.9,
             "#4d9221"
            ],
            [
             1,
             "#276419"
            ]
           ],
           "sequential": [
            [
             0,
             "#0d0887"
            ],
            [
             0.1111111111111111,
             "#46039f"
            ],
            [
             0.2222222222222222,
             "#7201a8"
            ],
            [
             0.3333333333333333,
             "#9c179e"
            ],
            [
             0.4444444444444444,
             "#bd3786"
            ],
            [
             0.5555555555555556,
             "#d8576b"
            ],
            [
             0.6666666666666666,
             "#ed7953"
            ],
            [
             0.7777777777777778,
             "#fb9f3a"
            ],
            [
             0.8888888888888888,
             "#fdca26"
            ],
            [
             1,
             "#f0f921"
            ]
           ],
           "sequentialminus": [
            [
             0,
             "#0d0887"
            ],
            [
             0.1111111111111111,
             "#46039f"
            ],
            [
             0.2222222222222222,
             "#7201a8"
            ],
            [
             0.3333333333333333,
             "#9c179e"
            ],
            [
             0.4444444444444444,
             "#bd3786"
            ],
            [
             0.5555555555555556,
             "#d8576b"
            ],
            [
             0.6666666666666666,
             "#ed7953"
            ],
            [
             0.7777777777777778,
             "#fb9f3a"
            ],
            [
             0.8888888888888888,
             "#fdca26"
            ],
            [
             1,
             "#f0f921"
            ]
           ]
          },
          "colorway": [
           "#636efa",
           "#EF553B",
           "#00cc96",
           "#ab63fa",
           "#FFA15A",
           "#19d3f3",
           "#FF6692",
           "#B6E880",
           "#FF97FF",
           "#FECB52"
          ],
          "font": {
           "color": "#f2f5fa"
          },
          "geo": {
           "bgcolor": "rgb(17,17,17)",
           "lakecolor": "rgb(17,17,17)",
           "landcolor": "rgb(17,17,17)",
           "showlakes": true,
           "showland": true,
           "subunitcolor": "#506784"
          },
          "hoverlabel": {
           "align": "left"
          },
          "hovermode": "closest",
          "mapbox": {
           "style": "dark"
          },
          "paper_bgcolor": "rgb(17,17,17)",
          "plot_bgcolor": "rgb(17,17,17)",
          "polar": {
           "angularaxis": {
            "gridcolor": "#506784",
            "linecolor": "#506784",
            "ticks": ""
           },
           "bgcolor": "rgb(17,17,17)",
           "radialaxis": {
            "gridcolor": "#506784",
            "linecolor": "#506784",
            "ticks": ""
           }
          },
          "scene": {
           "xaxis": {
            "backgroundcolor": "rgb(17,17,17)",
            "gridcolor": "#506784",
            "gridwidth": 2,
            "linecolor": "#506784",
            "showbackground": true,
            "ticks": "",
            "zerolinecolor": "#C8D4E3"
           },
           "yaxis": {
            "backgroundcolor": "rgb(17,17,17)",
            "gridcolor": "#506784",
            "gridwidth": 2,
            "linecolor": "#506784",
            "showbackground": true,
            "ticks": "",
            "zerolinecolor": "#C8D4E3"
           },
           "zaxis": {
            "backgroundcolor": "rgb(17,17,17)",
            "gridcolor": "#506784",
            "gridwidth": 2,
            "linecolor": "#506784",
            "showbackground": true,
            "ticks": "",
            "zerolinecolor": "#C8D4E3"
           }
          },
          "shapedefaults": {
           "line": {
            "color": "#f2f5fa"
           }
          },
          "sliderdefaults": {
           "bgcolor": "#C8D4E3",
           "bordercolor": "rgb(17,17,17)",
           "borderwidth": 1,
           "tickwidth": 0
          },
          "ternary": {
           "aaxis": {
            "gridcolor": "#506784",
            "linecolor": "#506784",
            "ticks": ""
           },
           "baxis": {
            "gridcolor": "#506784",
            "linecolor": "#506784",
            "ticks": ""
           },
           "bgcolor": "rgb(17,17,17)",
           "caxis": {
            "gridcolor": "#506784",
            "linecolor": "#506784",
            "ticks": ""
           }
          },
          "title": {
           "x": 0.05
          },
          "updatemenudefaults": {
           "bgcolor": "#506784",
           "borderwidth": 0
          },
          "xaxis": {
           "automargin": true,
           "gridcolor": "#283442",
           "linecolor": "#506784",
           "ticks": "",
           "title": {
            "standoff": 15
           },
           "zerolinecolor": "#283442",
           "zerolinewidth": 2
          },
          "yaxis": {
           "automargin": true,
           "gridcolor": "#283442",
           "linecolor": "#506784",
           "ticks": "",
           "title": {
            "standoff": 15
           },
           "zerolinecolor": "#283442",
           "zerolinewidth": 2
          }
         }
        },
        "title": {
         "font": {
          "color": "RebeccaPurple",
          "family": "Arial",
          "size": 24
         },
         "text": "Total Postsecondary School Program Funding by Year"
        },
        "xaxis": {
         "anchor": "y",
         "domain": [
          0,
          1
         ],
         "tickfont": {
          "color": "black",
          "family": "Arial",
          "size": 14
         },
         "title": {
          "font": {
           "color": "black",
           "family": "Arial",
           "size": 18
          },
          "text": "Year"
         }
        },
        "yaxis": {
         "anchor": "x",
         "domain": [
          0,
          1
         ],
         "tickfont": {
          "color": "black",
          "family": "Arial",
          "size": 14
         },
         "title": {
          "font": {
           "color": "black",
           "family": "Arial",
           "size": 18
          },
          "text": "Total Funding Amount"
         }
        }
       }
      },
      "text/html": [
       "<div>                            <div id=\"ac85764d-098b-4f3a-9888-5c33e6321280\" class=\"plotly-graph-div\" style=\"height:525px; width:100%;\"></div>            <script type=\"text/javascript\">                require([\"plotly\"], function(Plotly) {                    window.PLOTLYENV=window.PLOTLYENV || {};                                    if (document.getElementById(\"ac85764d-098b-4f3a-9888-5c33e6321280\")) {                    Plotly.newPlot(                        \"ac85764d-098b-4f3a-9888-5c33e6321280\",                        [{\"fillpattern\":{\"shape\":\"\"},\"hovertemplate\":\"Year=%{x}\\u003cbr\\u003eTotal Funding Amount=%{y}\\u003cextra\\u003e\\u003c\\u002fextra\\u003e\",\"legendgroup\":\"\",\"line\":{\"color\":\"#636efa\"},\"marker\":{\"symbol\":\"circle\"},\"mode\":\"lines\",\"name\":\"\",\"orientation\":\"v\",\"showlegend\":false,\"stackgroup\":\"1\",\"x\":[2000,2010,2014,2015,2016,2017,2018,2019,2020,2021,2022],\"xaxis\":\"x\",\"y\":[53054197.0,118908181.0,163016106.0,174420275.0,150678226.0,229019990.0,168079983.0,215901936.0,427872940.0,474496965.0,1155954005.0],\"yaxis\":\"y\",\"type\":\"scatter\"}],                        {\"template\":{\"data\":{\"barpolar\":[{\"marker\":{\"line\":{\"color\":\"rgb(17,17,17)\",\"width\":0.5},\"pattern\":{\"fillmode\":\"overlay\",\"size\":10,\"solidity\":0.2}},\"type\":\"barpolar\"}],\"bar\":[{\"error_x\":{\"color\":\"#f2f5fa\"},\"error_y\":{\"color\":\"#f2f5fa\"},\"marker\":{\"line\":{\"color\":\"rgb(17,17,17)\",\"width\":0.5},\"pattern\":{\"fillmode\":\"overlay\",\"size\":10,\"solidity\":0.2}},\"type\":\"bar\"}],\"carpet\":[{\"aaxis\":{\"endlinecolor\":\"#A2B1C6\",\"gridcolor\":\"#506784\",\"linecolor\":\"#506784\",\"minorgridcolor\":\"#506784\",\"startlinecolor\":\"#A2B1C6\"},\"baxis\":{\"endlinecolor\":\"#A2B1C6\",\"gridcolor\":\"#506784\",\"linecolor\":\"#506784\",\"minorgridcolor\":\"#506784\",\"startlinecolor\":\"#A2B1C6\"},\"type\":\"carpet\"}],\"choropleth\":[{\"colorbar\":{\"outlinewidth\":0,\"ticks\":\"\"},\"type\":\"choropleth\"}],\"contourcarpet\":[{\"colorbar\":{\"outlinewidth\":0,\"ticks\":\"\"},\"type\":\"contourcarpet\"}],\"contour\":[{\"colorbar\":{\"outlinewidth\":0,\"ticks\":\"\"},\"colorscale\":[[0.0,\"#0d0887\"],[0.1111111111111111,\"#46039f\"],[0.2222222222222222,\"#7201a8\"],[0.3333333333333333,\"#9c179e\"],[0.4444444444444444,\"#bd3786\"],[0.5555555555555556,\"#d8576b\"],[0.6666666666666666,\"#ed7953\"],[0.7777777777777778,\"#fb9f3a\"],[0.8888888888888888,\"#fdca26\"],[1.0,\"#f0f921\"]],\"type\":\"contour\"}],\"heatmapgl\":[{\"colorbar\":{\"outlinewidth\":0,\"ticks\":\"\"},\"colorscale\":[[0.0,\"#0d0887\"],[0.1111111111111111,\"#46039f\"],[0.2222222222222222,\"#7201a8\"],[0.3333333333333333,\"#9c179e\"],[0.4444444444444444,\"#bd3786\"],[0.5555555555555556,\"#d8576b\"],[0.6666666666666666,\"#ed7953\"],[0.7777777777777778,\"#fb9f3a\"],[0.8888888888888888,\"#fdca26\"],[1.0,\"#f0f921\"]],\"type\":\"heatmapgl\"}],\"heatmap\":[{\"colorbar\":{\"outlinewidth\":0,\"ticks\":\"\"},\"colorscale\":[[0.0,\"#0d0887\"],[0.1111111111111111,\"#46039f\"],[0.2222222222222222,\"#7201a8\"],[0.3333333333333333,\"#9c179e\"],[0.4444444444444444,\"#bd3786\"],[0.5555555555555556,\"#d8576b\"],[0.6666666666666666,\"#ed7953\"],[0.7777777777777778,\"#fb9f3a\"],[0.8888888888888888,\"#fdca26\"],[1.0,\"#f0f921\"]],\"type\":\"heatmap\"}],\"histogram2dcontour\":[{\"colorbar\":{\"outlinewidth\":0,\"ticks\":\"\"},\"colorscale\":[[0.0,\"#0d0887\"],[0.1111111111111111,\"#46039f\"],[0.2222222222222222,\"#7201a8\"],[0.3333333333333333,\"#9c179e\"],[0.4444444444444444,\"#bd3786\"],[0.5555555555555556,\"#d8576b\"],[0.6666666666666666,\"#ed7953\"],[0.7777777777777778,\"#fb9f3a\"],[0.8888888888888888,\"#fdca26\"],[1.0,\"#f0f921\"]],\"type\":\"histogram2dcontour\"}],\"histogram2d\":[{\"colorbar\":{\"outlinewidth\":0,\"ticks\":\"\"},\"colorscale\":[[0.0,\"#0d0887\"],[0.1111111111111111,\"#46039f\"],[0.2222222222222222,\"#7201a8\"],[0.3333333333333333,\"#9c179e\"],[0.4444444444444444,\"#bd3786\"],[0.5555555555555556,\"#d8576b\"],[0.6666666666666666,\"#ed7953\"],[0.7777777777777778,\"#fb9f3a\"],[0.8888888888888888,\"#fdca26\"],[1.0,\"#f0f921\"]],\"type\":\"histogram2d\"}],\"histogram\":[{\"marker\":{\"pattern\":{\"fillmode\":\"overlay\",\"size\":10,\"solidity\":0.2}},\"type\":\"histogram\"}],\"mesh3d\":[{\"colorbar\":{\"outlinewidth\":0,\"ticks\":\"\"},\"type\":\"mesh3d\"}],\"parcoords\":[{\"line\":{\"colorbar\":{\"outlinewidth\":0,\"ticks\":\"\"}},\"type\":\"parcoords\"}],\"pie\":[{\"automargin\":true,\"type\":\"pie\"}],\"scatter3d\":[{\"line\":{\"colorbar\":{\"outlinewidth\":0,\"ticks\":\"\"}},\"marker\":{\"colorbar\":{\"outlinewidth\":0,\"ticks\":\"\"}},\"type\":\"scatter3d\"}],\"scattercarpet\":[{\"marker\":{\"colorbar\":{\"outlinewidth\":0,\"ticks\":\"\"}},\"type\":\"scattercarpet\"}],\"scattergeo\":[{\"marker\":{\"colorbar\":{\"outlinewidth\":0,\"ticks\":\"\"}},\"type\":\"scattergeo\"}],\"scattergl\":[{\"marker\":{\"line\":{\"color\":\"#283442\"}},\"type\":\"scattergl\"}],\"scattermapbox\":[{\"marker\":{\"colorbar\":{\"outlinewidth\":0,\"ticks\":\"\"}},\"type\":\"scattermapbox\"}],\"scatterpolargl\":[{\"marker\":{\"colorbar\":{\"outlinewidth\":0,\"ticks\":\"\"}},\"type\":\"scatterpolargl\"}],\"scatterpolar\":[{\"marker\":{\"colorbar\":{\"outlinewidth\":0,\"ticks\":\"\"}},\"type\":\"scatterpolar\"}],\"scatter\":[{\"marker\":{\"line\":{\"color\":\"#283442\"}},\"type\":\"scatter\"}],\"scatterternary\":[{\"marker\":{\"colorbar\":{\"outlinewidth\":0,\"ticks\":\"\"}},\"type\":\"scatterternary\"}],\"surface\":[{\"colorbar\":{\"outlinewidth\":0,\"ticks\":\"\"},\"colorscale\":[[0.0,\"#0d0887\"],[0.1111111111111111,\"#46039f\"],[0.2222222222222222,\"#7201a8\"],[0.3333333333333333,\"#9c179e\"],[0.4444444444444444,\"#bd3786\"],[0.5555555555555556,\"#d8576b\"],[0.6666666666666666,\"#ed7953\"],[0.7777777777777778,\"#fb9f3a\"],[0.8888888888888888,\"#fdca26\"],[1.0,\"#f0f921\"]],\"type\":\"surface\"}],\"table\":[{\"cells\":{\"fill\":{\"color\":\"#506784\"},\"line\":{\"color\":\"rgb(17,17,17)\"}},\"header\":{\"fill\":{\"color\":\"#2a3f5f\"},\"line\":{\"color\":\"rgb(17,17,17)\"}},\"type\":\"table\"}]},\"layout\":{\"annotationdefaults\":{\"arrowcolor\":\"#f2f5fa\",\"arrowhead\":0,\"arrowwidth\":1},\"autotypenumbers\":\"strict\",\"coloraxis\":{\"colorbar\":{\"outlinewidth\":0,\"ticks\":\"\"}},\"colorscale\":{\"diverging\":[[0,\"#8e0152\"],[0.1,\"#c51b7d\"],[0.2,\"#de77ae\"],[0.3,\"#f1b6da\"],[0.4,\"#fde0ef\"],[0.5,\"#f7f7f7\"],[0.6,\"#e6f5d0\"],[0.7,\"#b8e186\"],[0.8,\"#7fbc41\"],[0.9,\"#4d9221\"],[1,\"#276419\"]],\"sequential\":[[0.0,\"#0d0887\"],[0.1111111111111111,\"#46039f\"],[0.2222222222222222,\"#7201a8\"],[0.3333333333333333,\"#9c179e\"],[0.4444444444444444,\"#bd3786\"],[0.5555555555555556,\"#d8576b\"],[0.6666666666666666,\"#ed7953\"],[0.7777777777777778,\"#fb9f3a\"],[0.8888888888888888,\"#fdca26\"],[1.0,\"#f0f921\"]],\"sequentialminus\":[[0.0,\"#0d0887\"],[0.1111111111111111,\"#46039f\"],[0.2222222222222222,\"#7201a8\"],[0.3333333333333333,\"#9c179e\"],[0.4444444444444444,\"#bd3786\"],[0.5555555555555556,\"#d8576b\"],[0.6666666666666666,\"#ed7953\"],[0.7777777777777778,\"#fb9f3a\"],[0.8888888888888888,\"#fdca26\"],[1.0,\"#f0f921\"]]},\"colorway\":[\"#636efa\",\"#EF553B\",\"#00cc96\",\"#ab63fa\",\"#FFA15A\",\"#19d3f3\",\"#FF6692\",\"#B6E880\",\"#FF97FF\",\"#FECB52\"],\"font\":{\"color\":\"#f2f5fa\"},\"geo\":{\"bgcolor\":\"rgb(17,17,17)\",\"lakecolor\":\"rgb(17,17,17)\",\"landcolor\":\"rgb(17,17,17)\",\"showlakes\":true,\"showland\":true,\"subunitcolor\":\"#506784\"},\"hoverlabel\":{\"align\":\"left\"},\"hovermode\":\"closest\",\"mapbox\":{\"style\":\"dark\"},\"paper_bgcolor\":\"rgb(17,17,17)\",\"plot_bgcolor\":\"rgb(17,17,17)\",\"polar\":{\"angularaxis\":{\"gridcolor\":\"#506784\",\"linecolor\":\"#506784\",\"ticks\":\"\"},\"bgcolor\":\"rgb(17,17,17)\",\"radialaxis\":{\"gridcolor\":\"#506784\",\"linecolor\":\"#506784\",\"ticks\":\"\"}},\"scene\":{\"xaxis\":{\"backgroundcolor\":\"rgb(17,17,17)\",\"gridcolor\":\"#506784\",\"gridwidth\":2,\"linecolor\":\"#506784\",\"showbackground\":true,\"ticks\":\"\",\"zerolinecolor\":\"#C8D4E3\"},\"yaxis\":{\"backgroundcolor\":\"rgb(17,17,17)\",\"gridcolor\":\"#506784\",\"gridwidth\":2,\"linecolor\":\"#506784\",\"showbackground\":true,\"ticks\":\"\",\"zerolinecolor\":\"#C8D4E3\"},\"zaxis\":{\"backgroundcolor\":\"rgb(17,17,17)\",\"gridcolor\":\"#506784\",\"gridwidth\":2,\"linecolor\":\"#506784\",\"showbackground\":true,\"ticks\":\"\",\"zerolinecolor\":\"#C8D4E3\"}},\"shapedefaults\":{\"line\":{\"color\":\"#f2f5fa\"}},\"sliderdefaults\":{\"bgcolor\":\"#C8D4E3\",\"bordercolor\":\"rgb(17,17,17)\",\"borderwidth\":1,\"tickwidth\":0},\"ternary\":{\"aaxis\":{\"gridcolor\":\"#506784\",\"linecolor\":\"#506784\",\"ticks\":\"\"},\"baxis\":{\"gridcolor\":\"#506784\",\"linecolor\":\"#506784\",\"ticks\":\"\"},\"bgcolor\":\"rgb(17,17,17)\",\"caxis\":{\"gridcolor\":\"#506784\",\"linecolor\":\"#506784\",\"ticks\":\"\"}},\"title\":{\"x\":0.05},\"updatemenudefaults\":{\"bgcolor\":\"#506784\",\"borderwidth\":0},\"xaxis\":{\"automargin\":true,\"gridcolor\":\"#283442\",\"linecolor\":\"#506784\",\"ticks\":\"\",\"title\":{\"standoff\":15},\"zerolinecolor\":\"#283442\",\"zerolinewidth\":2},\"yaxis\":{\"automargin\":true,\"gridcolor\":\"#283442\",\"linecolor\":\"#506784\",\"ticks\":\"\",\"title\":{\"standoff\":15},\"zerolinecolor\":\"#283442\",\"zerolinewidth\":2}}},\"xaxis\":{\"anchor\":\"y\",\"domain\":[0.0,1.0],\"title\":{\"text\":\"Year\",\"font\":{\"size\":18,\"family\":\"Arial\",\"color\":\"black\"}},\"tickfont\":{\"size\":14,\"family\":\"Arial\",\"color\":\"black\"}},\"yaxis\":{\"anchor\":\"x\",\"domain\":[0.0,1.0],\"title\":{\"text\":\"Total Funding Amount\",\"font\":{\"size\":18,\"family\":\"Arial\",\"color\":\"black\"}},\"tickfont\":{\"size\":14,\"family\":\"Arial\",\"color\":\"black\"}},\"legend\":{\"tracegroupgap\":0},\"title\":{\"text\":\"Total Postsecondary School Program Funding by Year\",\"font\":{\"size\":24,\"family\":\"Arial\",\"color\":\"RebeccaPurple\"}},\"margin\":{\"l\":50,\"r\":50,\"t\":80,\"b\":50},\"paper_bgcolor\":\"rgb(255, 255, 255)\",\"plot_bgcolor\":\"rgb(242, 242, 242)\"},                        {\"responsive\": true}                    ).then(function(){\n",
       "                            \n",
       "var gd = document.getElementById('ac85764d-098b-4f3a-9888-5c33e6321280');\n",
       "var x = new MutationObserver(function (mutations, observer) {{\n",
       "        var display = window.getComputedStyle(gd).display;\n",
       "        if (!display || display === 'none') {{\n",
       "            console.log([gd, 'removed!']);\n",
       "            Plotly.purge(gd);\n",
       "            observer.disconnect();\n",
       "        }}\n",
       "}});\n",
       "\n",
       "// Listen for the removal of the full notebook cells\n",
       "var notebookContainer = gd.closest('#notebook-container');\n",
       "if (notebookContainer) {{\n",
       "    x.observe(notebookContainer, {childList: true});\n",
       "}}\n",
       "\n",
       "// Listen for the clearing of the current output cell\n",
       "var outputEl = gd.closest('.output');\n",
       "if (outputEl) {{\n",
       "    x.observe(outputEl, {childList: true});\n",
       "}}\n",
       "\n",
       "                        })                };                });            </script>        </div>"
      ]
     },
     "metadata": {},
     "output_type": "display_data"
    }
   ],
   "source": [
    "yearly_funding = postfund.groupby('Year')['Funding'].sum().reset_index()\n",
    "\n",
    "# Create the area plot\n",
    "fig = px.area(\n",
    "    data_frame=yearly_funding,\n",
    "    x='Year',\n",
    "    y='Funding',\n",
    "    title='Total Postsecondary School Program Funding by Year',\n",
    "    labels={'Funding': 'Total Funding Amount', 'Year': 'Year'},\n",
    "    template='plotly_dark'  # Change to 'plotly_white' or other themes if preferred\n",
    ")\n",
    "\n",
    "\n",
    "fig.update_layout(\n",
    "    xaxis_title='Year',\n",
    "    yaxis_title='Total Funding Amount',\n",
    "    title_font=dict(size=24, family='Arial', color='RebeccaPurple'),\n",
    "    xaxis=dict(\n",
    "        title_font=dict(size=18, family='Arial', color='black'),\n",
    "        tickfont=dict(size=14, family='Arial', color='black')\n",
    "    ),\n",
    "    yaxis=dict(\n",
    "        title_font=dict(size=18, family='Arial', color='black'),\n",
    "        tickfont=dict(size=14, family='Arial', color='black')\n",
    "    ),\n",
    "    margin=dict(l=50, r=50, t=80, b=50),\n",
    "    paper_bgcolor='rgb(255, 255, 255)',  # Change background color\n",
    "    plot_bgcolor='rgb(242, 242, 242)'    # Change plot area color\n",
    ")\n",
    "\n",
    "# Show the plot\n",
    "fig.show()"
   ]
  },
  {
   "cell_type": "code",
   "execution_count": 34,
   "id": "8977c433",
   "metadata": {},
   "outputs": [
    {
     "name": "stdout",
     "output_type": "stream",
     "text": [
      "        Party  Predicted_Elementary_Funding  Predicted_Postsecondary_Funding\n",
      "0    Democrat                  2.549881e+06                     1.239072e+06\n",
      "1  Republican                  2.549881e+06                     1.239072e+06\n"
     ]
    }
   ],
   "source": [
    "#Predictive Model\n",
    "president_data = pd.DataFrame({\n",
    "    'Year': [2000, 2001, 2002, 2003, 2004, 2005, 2006, 2007, 2008, 2009, 2010],\n",
    "    'President': ['Clinton', 'Clinton', 'Bush', 'Bush', 'Bush', 'Bush', 'Obama', 'Obama', 'Obama', 'Obama', 'Obama'],\n",
    "    'Party': ['Democrat', 'Democrat', 'Republican', 'Republican', 'Republican', 'Republican', 'Democrat', 'Democrat', 'Democrat', 'Democrat', 'Democrat']\n",
    "})\n",
    "\n",
    "# Encode the Party column\n",
    "le = LabelEncoder()\n",
    "president_data['Party_Code'] = le.fit_transform(president_data['Party'])\n",
    "\n",
    "# Merge datasets\n",
    "elemen_merged = pd.merge(elemenfund, president_data, on='Year')\n",
    "post_merged = pd.merge(postfund, president_data, on='Year')\n",
    "\n",
    "# Prepare features and target for Elementary Funding\n",
    "X_elemen = elemen_merged[['Party_Code']]\n",
    "y_elemen = elemen_merged['Funding']\n",
    "\n",
    "# Prepare features and target for Postsecondary Funding\n",
    "X_post = post_merged[['Party_Code']]\n",
    "y_post = post_merged['Funding']\n",
    "\n",
    "# Split the data into training and testing sets\n",
    "X_train_elemen, X_test_elemen, y_train_elemen, y_test_elemen = train_test_split(X_elemen, y_elemen, test_size=0.2, random_state=0)\n",
    "X_train_post, X_test_post, y_train_post, y_test_post = train_test_split(X_post, y_post, test_size=0.2, random_state=0)\n",
    "\n",
    "# Train Linear Regression Models\n",
    "model_elemen = LinearRegression()\n",
    "model_elemen.fit(X_train_elemen, y_train_elemen)\n",
    "\n",
    "model_post = LinearRegression()\n",
    "model_post.fit(X_train_post, y_train_post)\n",
    "\n",
    "# Predict funding for Democratic and Republican administrations\n",
    "# Party_Code: 0 for Democrat, 1 for Republican\n",
    "future_parties = pd.DataFrame({'Party_Code': [0, 1]})\n",
    "\n",
    "predictions_elemen = model_elemen.predict(future_parties)\n",
    "predictions_post = model_post.predict(future_parties)\n",
    "\n",
    "# Display results\n",
    "party_names = le.inverse_transform([0, 1])\n",
    "results = pd.DataFrame({\n",
    "    'Party': party_names,\n",
    "    'Predicted_Elementary_Funding': predictions_elemen,\n",
    "    'Predicted_Postsecondary_Funding': predictions_post\n",
    "})\n",
    "\n",
    "print(results)"
   ]
  },
  {
   "cell_type": "code",
   "execution_count": 36,
   "id": "0368b648",
   "metadata": {
    "scrolled": true
   },
   "outputs": [
    {
     "data": {
      "text/html": [
       "<div>\n",
       "<style scoped>\n",
       "    .dataframe tbody tr th:only-of-type {\n",
       "        vertical-align: middle;\n",
       "    }\n",
       "\n",
       "    .dataframe tbody tr th {\n",
       "        vertical-align: top;\n",
       "    }\n",
       "\n",
       "    .dataframe thead th {\n",
       "        text-align: right;\n",
       "    }\n",
       "</style>\n",
       "<table border=\"1\" class=\"dataframe\">\n",
       "  <thead>\n",
       "    <tr style=\"text-align: right;\">\n",
       "      <th></th>\n",
       "      <th>Elementary Level Program</th>\n",
       "      <th>Year</th>\n",
       "      <th>Funding</th>\n",
       "      <th>logfund</th>\n",
       "      <th>Funding_standardized</th>\n",
       "    </tr>\n",
       "  </thead>\n",
       "  <tbody>\n",
       "    <tr>\n",
       "      <th>0</th>\n",
       "      <td>Department of Education</td>\n",
       "      <td>2000</td>\n",
       "      <td>20039563.0</td>\n",
       "      <td>16.813219</td>\n",
       "      <td>1.074498</td>\n",
       "    </tr>\n",
       "    <tr>\n",
       "      <th>1</th>\n",
       "      <td>Education for the disadvantaged</td>\n",
       "      <td>2000</td>\n",
       "      <td>8529111.0</td>\n",
       "      <td>15.958996</td>\n",
       "      <td>0.266123</td>\n",
       "    </tr>\n",
       "    <tr>\n",
       "      <th>2</th>\n",
       "      <td>Impact aid program</td>\n",
       "      <td>2000</td>\n",
       "      <td>877101.0</td>\n",
       "      <td>13.684377</td>\n",
       "      <td>-0.271276</td>\n",
       "    </tr>\n",
       "    <tr>\n",
       "      <th>3</th>\n",
       "      <td>School improvement programs</td>\n",
       "      <td>2000</td>\n",
       "      <td>2549971.0</td>\n",
       "      <td>14.751593</td>\n",
       "      <td>-0.153791</td>\n",
       "    </tr>\n",
       "    <tr>\n",
       "      <th>4</th>\n",
       "      <td>Indian education</td>\n",
       "      <td>2000</td>\n",
       "      <td>65285.0</td>\n",
       "      <td>11.086518</td>\n",
       "      <td>-0.328289</td>\n",
       "    </tr>\n",
       "    <tr>\n",
       "      <th>5</th>\n",
       "      <td>English Language Acquisition</td>\n",
       "      <td>2000</td>\n",
       "      <td>362662.0</td>\n",
       "      <td>12.801227</td>\n",
       "      <td>-0.307405</td>\n",
       "    </tr>\n",
       "    <tr>\n",
       "      <th>6</th>\n",
       "      <td>Special education</td>\n",
       "      <td>2000</td>\n",
       "      <td>4948977.0</td>\n",
       "      <td>15.414691</td>\n",
       "      <td>0.014691</td>\n",
       "    </tr>\n",
       "    <tr>\n",
       "      <th>7</th>\n",
       "      <td>Vocational and adult education</td>\n",
       "      <td>2000</td>\n",
       "      <td>1462977.0</td>\n",
       "      <td>14.195984</td>\n",
       "      <td>-0.230130</td>\n",
       "    </tr>\n",
       "    <tr>\n",
       "      <th>8</th>\n",
       "      <td>Education Reform--Goals 2000</td>\n",
       "      <td>2000</td>\n",
       "      <td>1243479.0</td>\n",
       "      <td>14.033424</td>\n",
       "      <td>-0.245545</td>\n",
       "    </tr>\n",
       "  </tbody>\n",
       "</table>\n",
       "</div>"
      ],
      "text/plain": [
       "          Elementary Level Program  Year     Funding    logfund  \\\n",
       "0          Department of Education  2000  20039563.0  16.813219   \n",
       "1  Education for the disadvantaged  2000   8529111.0  15.958996   \n",
       "2               Impact aid program  2000    877101.0  13.684377   \n",
       "3      School improvement programs  2000   2549971.0  14.751593   \n",
       "4                 Indian education  2000     65285.0  11.086518   \n",
       "5     English Language Acquisition  2000    362662.0  12.801227   \n",
       "6                Special education  2000   4948977.0  15.414691   \n",
       "7   Vocational and adult education  2000   1462977.0  14.195984   \n",
       "8     Education Reform--Goals 2000  2000   1243479.0  14.033424   \n",
       "\n",
       "   Funding_standardized  \n",
       "0              1.074498  \n",
       "1              0.266123  \n",
       "2             -0.271276  \n",
       "3             -0.153791  \n",
       "4             -0.328289  \n",
       "5             -0.307405  \n",
       "6              0.014691  \n",
       "7             -0.230130  \n",
       "8             -0.245545  "
      ]
     },
     "execution_count": 36,
     "metadata": {},
     "output_type": "execute_result"
    }
   ],
   "source": [
    "elemenfund.head(9)"
   ]
  },
  {
   "cell_type": "code",
   "execution_count": 37,
   "id": "466c3a54",
   "metadata": {},
   "outputs": [
    {
     "name": "stdout",
     "output_type": "stream",
     "text": [
      "                            OLS Regression Results                            \n",
      "==============================================================================\n",
      "Dep. Variable:                logfund   R-squared:                       0.020\n",
      "Model:                            OLS   Adj. R-squared:                  0.018\n",
      "Method:                 Least Squares   F-statistic:                     9.278\n",
      "Date:                Wed, 16 Oct 2024   Prob (F-statistic):            0.00245\n",
      "Time:                        23:33:07   Log-Likelihood:                -1126.8\n",
      "No. Observations:                 458   AIC:                             2258.\n",
      "Df Residuals:                     456   BIC:                             2266.\n",
      "Df Model:                           1                                         \n",
      "Covariance Type:            nonrobust                                         \n",
      "==============================================================================\n",
      "                 coef    std err          t      P>|t|      [0.025      0.975]\n",
      "------------------------------------------------------------------------------\n",
      "Intercept   -121.4598     44.136     -2.752      0.006    -208.195     -34.725\n",
      "Year           0.0667      0.022      3.046      0.002       0.024       0.110\n",
      "==============================================================================\n",
      "Omnibus:                       27.781   Durbin-Watson:                   1.168\n",
      "Prob(Omnibus):                  0.000   Jarque-Bera (JB):               31.818\n",
      "Skew:                          -0.645   Prob(JB):                     1.23e-07\n",
      "Kurtosis:                       2.940   Cond. No.                     6.71e+05\n",
      "==============================================================================\n",
      "\n",
      "Notes:\n",
      "[1] Standard Errors assume that the covariance matrix of the errors is correctly specified.\n",
      "[2] The condition number is large, 6.71e+05. This might indicate that there are\n",
      "strong multicollinearity or other numerical problems.\n"
     ]
    }
   ],
   "source": [
    " \n",
    "model_interaction = ols('logfund ~ Year', data=elemenfund).fit()\n",
    "\n",
    "print(model_interaction.summary())"
   ]
  },
  {
   "cell_type": "code",
   "execution_count": 35,
   "id": "611dc261",
   "metadata": {},
   "outputs": [
    {
     "name": "stdout",
     "output_type": "stream",
     "text": [
      "               Metric  Value\n",
      "            R-squared 0.0199\n",
      "   Adjusted R-squared 0.0178\n",
      "          F-statistic 9.2777\n",
      "P-value (F-statistic) 0.0025\n",
      "   Coefficient (Year) 0.0667\n",
      "       P-value (Year) 0.0025\n",
      "Standard Error (Year) 0.0219\n"
     ]
    }
   ],
   "source": [
    "# Run the regression with 'logfund' instead of 'Funding'\n",
    "model_interaction = ols('logfund ~ Year', data=elemenfund).fit()\n",
    "\n",
    "# Extract relevant statistics\n",
    "summary_data = {\n",
    "    \"Metric\": [\n",
    "        \"R-squared\", \n",
    "        \"Adjusted R-squared\", \n",
    "        \"F-statistic\", \n",
    "        \"P-value (F-statistic)\", \n",
    "        \"Coefficient (Year)\", \n",
    "        \"P-value (Year)\", \n",
    "        \"Standard Error (Year)\"\n",
    "    ],\n",
    "    \"Value\": [\n",
    "        round(model_interaction.rsquared, 4), \n",
    "        round(model_interaction.rsquared_adj, 4), \n",
    "        round(model_interaction.fvalue, 4), \n",
    "        round(model_interaction.f_pvalue, 4), \n",
    "        round(model_interaction.params['Year'], 4), \n",
    "        round(model_interaction.pvalues['Year'], 4), \n",
    "        round(model_interaction.bse['Year'], 4)\n",
    "    ]\n",
    "}\n",
    "\n",
    "# Create DataFrame for display\n",
    "summary_df = pd.DataFrame(summary_data)\n",
    "\n",
    "# Display the DataFrame in a tabular format\n",
    "print(summary_df.to_string(index=False))\n"
   ]
  },
  {
   "cell_type": "code",
   "execution_count": 38,
   "id": "9a96edc3",
   "metadata": {
    "scrolled": true
   },
   "outputs": [
    {
     "data": {
      "text/html": [
       "<div>\n",
       "<style scoped>\n",
       "    .dataframe tbody tr th:only-of-type {\n",
       "        vertical-align: middle;\n",
       "    }\n",
       "\n",
       "    .dataframe tbody tr th {\n",
       "        vertical-align: top;\n",
       "    }\n",
       "\n",
       "    .dataframe thead th {\n",
       "        text-align: right;\n",
       "    }\n",
       "</style>\n",
       "<table border=\"1\" class=\"dataframe\">\n",
       "  <thead>\n",
       "    <tr style=\"text-align: right;\">\n",
       "      <th></th>\n",
       "      <th>Postsecondary Level</th>\n",
       "      <th>Year</th>\n",
       "      <th>Funding</th>\n",
       "      <th>logfund</th>\n",
       "      <th>Funding_standardized</th>\n",
       "    </tr>\n",
       "  </thead>\n",
       "  <tbody>\n",
       "    <tr>\n",
       "      <th>0</th>\n",
       "      <td>Department of Education</td>\n",
       "      <td>2000</td>\n",
       "      <td>10727315.0</td>\n",
       "      <td>16.188304</td>\n",
       "      <td>0.166310</td>\n",
       "    </tr>\n",
       "    <tr>\n",
       "      <th>1</th>\n",
       "      <td>Student financial assistance</td>\n",
       "      <td>2000</td>\n",
       "      <td>9060317.0</td>\n",
       "      <td>16.019415</td>\n",
       "      <td>0.114613</td>\n",
       "    </tr>\n",
       "    <tr>\n",
       "      <th>2</th>\n",
       "      <td>Direct Loan Program</td>\n",
       "      <td>2000</td>\n",
       "      <td>2862240.0</td>\n",
       "      <td>14.867115</td>\n",
       "      <td>-0.077603</td>\n",
       "    </tr>\n",
       "    <tr>\n",
       "      <th>3</th>\n",
       "      <td>Federal Family Education Loan (FFEL) Program</td>\n",
       "      <td>2000</td>\n",
       "      <td>2707473.0</td>\n",
       "      <td>14.811526</td>\n",
       "      <td>-0.082402</td>\n",
       "    </tr>\n",
       "    <tr>\n",
       "      <th>4</th>\n",
       "      <td>Higher education</td>\n",
       "      <td>2000</td>\n",
       "      <td>1530779.0</td>\n",
       "      <td>14.241287</td>\n",
       "      <td>-0.118894</td>\n",
       "    </tr>\n",
       "    <tr>\n",
       "      <th>5</th>\n",
       "      <td>Facilities--loans and insurance</td>\n",
       "      <td>2000</td>\n",
       "      <td>2174.0</td>\n",
       "      <td>7.684324</td>\n",
       "      <td>-0.166299</td>\n",
       "    </tr>\n",
       "    <tr>\n",
       "      <th>6</th>\n",
       "      <td>College housing loans</td>\n",
       "      <td>2000</td>\n",
       "      <td>41886.0</td>\n",
       "      <td>10.642707</td>\n",
       "      <td>-0.165068</td>\n",
       "    </tr>\n",
       "    <tr>\n",
       "      <th>8</th>\n",
       "      <td>Historically Black Colleges and Universities\\n...</td>\n",
       "      <td>2000</td>\n",
       "      <td>150.0</td>\n",
       "      <td>5.010635</td>\n",
       "      <td>-0.166362</td>\n",
       "    </tr>\n",
       "    <tr>\n",
       "      <th>9</th>\n",
       "      <td>Gallaudet College and Howard University</td>\n",
       "      <td>2000</td>\n",
       "      <td>291060.0</td>\n",
       "      <td>12.581285</td>\n",
       "      <td>-0.157340</td>\n",
       "    </tr>\n",
       "    <tr>\n",
       "      <th>10</th>\n",
       "      <td>National Technical Institute for the Deaf</td>\n",
       "      <td>2000</td>\n",
       "      <td>43836.0</td>\n",
       "      <td>10.688211</td>\n",
       "      <td>-0.165007</td>\n",
       "    </tr>\n",
       "  </tbody>\n",
       "</table>\n",
       "</div>"
      ],
      "text/plain": [
       "                                  Postsecondary Level  Year     Funding  \\\n",
       "0                             Department of Education  2000  10727315.0   \n",
       "1                        Student financial assistance  2000   9060317.0   \n",
       "2                                 Direct Loan Program  2000   2862240.0   \n",
       "3        Federal Family Education Loan (FFEL) Program  2000   2707473.0   \n",
       "4                                    Higher education  2000   1530779.0   \n",
       "5                    Facilities--loans and insurance   2000      2174.0   \n",
       "6                               College housing loans  2000     41886.0   \n",
       "8   Historically Black Colleges and Universities\\n...  2000       150.0   \n",
       "9            Gallaudet College and Howard University   2000    291060.0   \n",
       "10         National Technical Institute for the Deaf   2000     43836.0   \n",
       "\n",
       "      logfund  Funding_standardized  \n",
       "0   16.188304              0.166310  \n",
       "1   16.019415              0.114613  \n",
       "2   14.867115             -0.077603  \n",
       "3   14.811526             -0.082402  \n",
       "4   14.241287             -0.118894  \n",
       "5    7.684324             -0.166299  \n",
       "6   10.642707             -0.165068  \n",
       "8    5.010635             -0.166362  \n",
       "9   12.581285             -0.157340  \n",
       "10  10.688211             -0.165007  "
      ]
     },
     "execution_count": 38,
     "metadata": {},
     "output_type": "execute_result"
    }
   ],
   "source": [
    "postfund.head(10)"
   ]
  },
  {
   "cell_type": "code",
   "execution_count": 39,
   "id": "84abf6c6",
   "metadata": {},
   "outputs": [
    {
     "name": "stdout",
     "output_type": "stream",
     "text": [
      "                            OLS Regression Results                            \n",
      "==============================================================================\n",
      "Dep. Variable:                logfund   R-squared:                       0.010\n",
      "Model:                            OLS   Adj. R-squared:                  0.008\n",
      "Method:                 Least Squares   F-statistic:                     6.011\n",
      "Date:                Wed, 16 Oct 2024   Prob (F-statistic):             0.0145\n",
      "Time:                        23:33:12   Log-Likelihood:                -1533.5\n",
      "No. Observations:                 621   AIC:                             3071.\n",
      "Df Residuals:                     619   BIC:                             3080.\n",
      "Df Model:                           1                                         \n",
      "Covariance Type:            nonrobust                                         \n",
      "==============================================================================\n",
      "                 coef    std err          t      P>|t|      [0.025      0.975]\n",
      "------------------------------------------------------------------------------\n",
      "Intercept    -84.0255     39.124     -2.148      0.032    -160.857      -7.194\n",
      "Year           0.0476      0.019      2.452      0.014       0.009       0.086\n",
      "==============================================================================\n",
      "Omnibus:                        0.844   Durbin-Watson:                   1.471\n",
      "Prob(Omnibus):                  0.656   Jarque-Bera (JB):                0.918\n",
      "Skew:                           0.035   Prob(JB):                        0.632\n",
      "Kurtosis:                       2.825   Cond. No.                     6.86e+05\n",
      "==============================================================================\n",
      "\n",
      "Notes:\n",
      "[1] Standard Errors assume that the covariance matrix of the errors is correctly specified.\n",
      "[2] The condition number is large, 6.86e+05. This might indicate that there are\n",
      "strong multicollinearity or other numerical problems.\n"
     ]
    }
   ],
   "source": [
    "#Regression of logfund\n",
    "# Run the regression with 'logfund' instead of 'Funding'\n",
    "model_interaction = ols('logfund ~ Year', data=postfund).fit()\n",
    "\n",
    "# Print the summary of the regression model\n",
    "print(model_interaction.summary())"
   ]
  },
  {
   "cell_type": "code",
   "execution_count": null,
   "id": "ac622245",
   "metadata": {},
   "outputs": [],
   "source": []
  },
  {
   "cell_type": "code",
   "execution_count": null,
   "id": "c695eb7a",
   "metadata": {},
   "outputs": [],
   "source": []
  }
 ],
 "metadata": {
  "kernelspec": {
   "display_name": "Python 3 (clean)",
   "language": "python",
   "name": "python3_clean"
  },
  "language_info": {
   "codemirror_mode": {
    "name": "ipython",
    "version": 3
   },
   "file_extension": ".py",
   "mimetype": "text/x-python",
   "name": "python",
   "nbconvert_exporter": "python",
   "pygments_lexer": "ipython3",
   "version": "3.9.5"
  }
 },
 "nbformat": 4,
 "nbformat_minor": 5
}
